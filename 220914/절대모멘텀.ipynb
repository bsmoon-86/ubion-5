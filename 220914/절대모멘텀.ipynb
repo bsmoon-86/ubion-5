{
 "cells": [
  {
   "cell_type": "code",
   "execution_count": null,
   "metadata": {},
   "outputs": [],
   "source": [
    "import pandas as pd \n",
    "import numpy as np\n",
    "import datetime"
   ]
  },
  {
   "cell_type": "code",
   "execution_count": null,
   "metadata": {},
   "outputs": [],
   "source": [
    "df = pd.read_csv(\"../csv/SPY.csv\")\n",
    "df.head(1)"
   ]
  },
  {
   "cell_type": "code",
   "execution_count": null,
   "metadata": {},
   "outputs": [],
   "source": [
    "price_df = df.loc[:, ['Date', 'Adj Close']]\n",
    "price_df.head(1)"
   ]
  },
  {
   "cell_type": "code",
   "execution_count": null,
   "metadata": {},
   "outputs": [],
   "source": [
    "## 파생변수 '년-월'을 값으로 컬럼의 이름은 'STD-YM'\n",
    "\n",
    "# case1\n",
    "# Date 컬럼의 값을 datetime형으로 변환\n",
    "# dt.strftime() 년-월 추출\n",
    "# price_df[\"Date\"] = pd.to_datetime(price_df[\"Date\"])\n",
    "# price_df[\"STD-YM\"] = price_df[\"Date\"].dt.strftime(\"%Y-%m\")\n",
    "# price_df.head(1) \n",
    "\n",
    "# case2\n",
    "# datetime 라이브러리 사용하여 추출\n",
    "price_df[\"STD-YM\"] = price_df[\"Date\"].map(lambda x : \\\n",
    "    datetime.datetime.strptime(x, '%Y-%m-%d').strftime('%Y-%m'))\n",
    "price_df.head(1)"
   ]
  },
  {
   "cell_type": "code",
   "execution_count": null,
   "metadata": {},
   "outputs": [],
   "source": [
    "## 새로 만든 파생변수 STD-YM 값에서 유니크값을 리스트 형태로 추출\n",
    "month_list = price_df[\"STD-YM\"].unique()\n",
    "month_list"
   ]
  },
  {
   "cell_type": "code",
   "execution_count": null,
   "metadata": {},
   "outputs": [],
   "source": [
    "month_last_df = pd.DataFrame()\n",
    "\n",
    "## 년,월별 마지막날의 데이터들을 month_last_df에 삽입\n",
    "## 반복문 month_list값을 기준으로 반복\n",
    "## 해당 년월을 기준으로 데이터를 필터링\n",
    "## 그 값들중에 인덱스가 가장 마지막에 있는 데이터를 month_list_df 삽입\n",
    "#case1\n",
    "# price_df.loc[price_df[price_df[\"STD-YM\"] == month_list[1]].index[-1]]\n",
    "#case2\n",
    "# price_df[price_df[\"STD-YM\"] == month_list[1]].tail(1)\n",
    "\n",
    "# for i in month_list:\n",
    "#     month_last_df = month_last_df.append(price_df.loc[\\\n",
    "#         price_df[price_df[\"STD-YM\"] == i].index[-1]])\n",
    "# month_last_df.head()\n",
    "\n",
    "for i in month_list:\n",
    "    last_df = price_df[price_df[\"STD-YM\"] == i].tail(1)\n",
    "    month_last_df = pd.concat([month_last_df, last_df])\n",
    "month_last_df.head()"
   ]
  },
  {
   "cell_type": "code",
   "execution_count": null,
   "metadata": {},
   "outputs": [],
   "source": [
    "## 'Date'컬럼을 인덱스 변경\n",
    "month_last_df.set_index(['Date'], inplace=True)\n",
    "month_last_df.head(1)"
   ]
  },
  {
   "cell_type": "code",
   "execution_count": null,
   "metadata": {},
   "outputs": [],
   "source": [
    "## 파생변수 2개 생성\n",
    "## 'BF_1M' 전월의 종가의 값을 가지는 파생변수\n",
    "## 'BF_12M' 전년도의 종가의 값을 가지는 파생변수\n",
    "## Nan값은 0으로 채운다.\n",
    "\n",
    "month_last_df[\"BF_1M\"] = month_last_df.shift(1)[\"Adj Close\"].fillna(0)\n",
    "month_last_df[\"BF_12M\"] = month_last_df.shift(12)[\"Adj Close\"].fillna(0)\n",
    "# month_last_df = month_last_df.fillna(0)\n",
    "month_last_df.head(14)"
   ]
  },
  {
   "cell_type": "code",
   "execution_count": null,
   "metadata": {},
   "outputs": [],
   "source": [
    "## price_df에 trade 컬럼을 추가 \n",
    "price_df[\"trade\"] = \"\"\n",
    "price_df.set_index(['Date'], inplace=True)"
   ]
  },
  {
   "cell_type": "code",
   "execution_count": null,
   "metadata": {},
   "outputs": [],
   "source": [
    "# 거래내역 추가 \n",
    "for i in month_last_df.index:\n",
    "    signal = \"\"\n",
    "    #절대 모멘텀 계산\n",
    "    momentum_index = month_last_df.loc[i, \"BF_1M\"] / month_last_df.loc[i, \"BF_12M\"] - 1\n",
    "    print(momentum_index)\n",
    "    # 절대 모멘텀 지표에 따라서 True / False 판단\n",
    "    flag = True if ((momentum_index > 0.0) and (momentum_index != np.inf) \\\n",
    "        and (momentum_index != -np.inf)) else False\n",
    "    # if (momentum_index > 0.0) and (momentum_index != np.inf) and (momentum_index != -np.inf):\n",
    "    #     flag = True\n",
    "    # else : \n",
    "    #     flag = False\n",
    "    if flag:\n",
    "        signal = \"buy\"\n",
    "    print(\"날짜 : \", i, \"모멘텀 인덱스 : \", momentum_index, \"flag : \", flag, \"signal : \", signal)\n",
    "    price_df.loc[i, \"trade\"] = signal\n",
    "price_df.value_counts('trade')"
   ]
  },
  {
   "cell_type": "code",
   "execution_count": null,
   "metadata": {},
   "outputs": [],
   "source": [
    "rtn = 1.0\n",
    "price_df[\"return\"] = 1\n",
    "buy = 0.0\n",
    "sell = 0.0\n",
    "for i in price_df.index:\n",
    "    if price_df.loc[i, \"trade\"] == \"buy\" and price_df.shift(1).loc[i, \"trade\"] == \"\":\n",
    "        buy = price_df.loc[i, \"Adj Close\"]\n",
    "        print(\"진입일 : \", i, \"진입 가격 : \", buy)\n",
    "    elif price_df.loc[i, \"trade\"] == \"\" and price_df.shift(1).loc[i, \"trade\"] == \"buy\":\n",
    "        sell = price_df.loc[i, \"Adj Close\"]\n",
    "        rtn = (sell - buy) / buy + 1\n",
    "        price_df.loc[i, \"return\"] = rtn\n",
    "        print(\"청산일 : \", i, \"진입 가격 : \", buy, \"청산 가격 : \", sell,\\\n",
    "             \"| return : \", round(rtn, 4))\n",
    "    if price_df.loc[i, \"trade\"] == \"\":\n",
    "        buy = 0.0\n",
    "        sell = 0.0\n",
    "acc_rtn = 1.0\n",
    "for i in price_df.index:\n",
    "    rtn = price_df.loc[i, \"return\"]\n",
    "    acc_rtn = acc_rtn * rtn\n",
    "    price_df.loc[i, \"acc_rtn\"] = acc_rtn\n",
    "print(\"누적 수익율 : \", acc_rtn)\n",
    "    \n"
   ]
  },
  {
   "cell_type": "markdown",
   "metadata": {},
   "source": [
    "### 절대 모멘텀 모듈 만들기\n",
    "1. ```__init__``` 함수에서 데이터프레임과 기준이 되는 컬럼의 이름을 받아온다. \n",
    "2. 파생변수 'STD-YM' 컬럼을 추가하는 함수 생성\n",
    "3. 새로운 데이터프레임 month_last_df을 생성하고 'BF_1M', 'BF_12M' 파생변수를 생성하는 함수를 생성\n",
    "4. 거래 내역을 추가하는 함수를 생성\n",
    "5. 수익율을 계산하는 함수를 생성"
   ]
  },
  {
   "cell_type": "code",
   "execution_count": null,
   "metadata": {},
   "outputs": [],
   "source": []
  }
 ],
 "metadata": {
  "kernelspec": {
   "display_name": "Python 3.6.8 64-bit",
   "language": "python",
   "name": "python3"
  },
  "language_info": {
   "codemirror_mode": {
    "name": "ipython",
    "version": 3
   },
   "file_extension": ".py",
   "mimetype": "text/x-python",
   "name": "python",
   "nbconvert_exporter": "python",
   "pygments_lexer": "ipython3",
   "version": "3.6.8"
  },
  "orig_nbformat": 4,
  "vscode": {
   "interpreter": {
    "hash": "187f19b7e1a6c9dce315ccb3b0d07c5b7aeed6681cd1ee8ee772db2198b62651"
   }
  }
 },
 "nbformat": 4,
 "nbformat_minor": 2
}
