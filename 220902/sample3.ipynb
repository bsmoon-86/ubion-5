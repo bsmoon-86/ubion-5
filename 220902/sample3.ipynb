{
 "cells": [
  {
   "cell_type": "code",
   "execution_count": 1,
   "metadata": {},
   "outputs": [],
   "source": [
    "import pandas as pd \n",
    "import os"
   ]
  },
  {
   "cell_type": "code",
   "execution_count": null,
   "metadata": {},
   "outputs": [],
   "source": [
    "pd.read_csv(\"../csv/2017/201701_expense_list.csv\")"
   ]
  },
  {
   "cell_type": "code",
   "execution_count": null,
   "metadata": {},
   "outputs": [],
   "source": [
    "# 지정된 경로의 있는 파일 목록 \n",
    "files = os.listdir(\"../csv/2017\")\n",
    "files"
   ]
  },
  {
   "cell_type": "markdown",
   "metadata": {},
   "source": [
    "1. 파일 목록 출력\n",
    "2. 파일 목록을 불러와서 concat() 하나의 데이터프레임으로 결합"
   ]
  },
  {
   "cell_type": "code",
   "execution_count": 5,
   "metadata": {},
   "outputs": [],
   "source": [
    "df_2017 = pd.DataFrame()\n",
    "\n",
    "path = \"../csv/2017/\"\n",
    "\n",
    "for file in files:\n",
    "    df = pd.read_csv(path+file)\n",
    "    df_2017 = pd.concat([df_2017, df], axis=0, ignore_index=True)\n",
    "\n"
   ]
  },
  {
   "cell_type": "markdown",
   "metadata": {},
   "source": [
    "1. csv/2018에 있는 파일들도 df_2018로 데이터프레임으로 변환\n",
    "2. total_df을 만들어서 2017데이터와 2018데이터를 결합"
   ]
  },
  {
   "cell_type": "code",
   "execution_count": null,
   "metadata": {},
   "outputs": [],
   "source": [
    "files = os.listdir(\"../csv/2018\")\n",
    "\n",
    "df_2018 = pd.DataFrame()\n",
    "\n",
    "path = \"../csv/2018/\"\n",
    "\n",
    "for file in files:\n",
    "    df = pd.read_csv(path+file)\n",
    "    df_2018 = pd.concat([df_2018, df], axis=0, ignore_index=True)\n",
    "df_2018"
   ]
  },
  {
   "cell_type": "code",
   "execution_count": 8,
   "metadata": {},
   "outputs": [],
   "source": [
    "## total_df df_2017과 df_2018을 행 추가 단순 결합\n",
    "total_df = pd.concat([df_2017, df_2018], axis=0, ignore_index=True)"
   ]
  },
  {
   "cell_type": "code",
   "execution_count": null,
   "metadata": {},
   "outputs": [],
   "source": [
    "total_df.tail()"
   ]
  },
  {
   "cell_type": "code",
   "execution_count": 10,
   "metadata": {},
   "outputs": [
    {
     "data": {
      "text/plain": [
       "142350"
      ]
     },
     "execution_count": 10,
     "metadata": {},
     "output_type": "execute_result"
    }
   ],
   "source": [
    "len(total_df)"
   ]
  },
  {
   "cell_type": "code",
   "execution_count": null,
   "metadata": {},
   "outputs": [],
   "source": [
    "## json 파일을 로드\n",
    "pd.read_json(\"../csv/2019/201901_expense_list.json\")\n",
    "## xlsx 엑셀 파일 로드"
   ]
  },
  {
   "cell_type": "code",
   "execution_count": 12,
   "metadata": {},
   "outputs": [
    {
     "ename": "XLRDError",
     "evalue": "Excel xlsx file; not supported",
     "output_type": "error",
     "traceback": [
      "\u001b[1;31m---------------------------------------------------------------------------\u001b[0m",
      "\u001b[1;31mXLRDError\u001b[0m                                 Traceback (most recent call last)",
      "\u001b[1;32m<ipython-input-12-9e95e68e105b>\u001b[0m in \u001b[0;36m<module>\u001b[1;34m\u001b[0m\n\u001b[1;32m----> 1\u001b[1;33m \u001b[0mpd\u001b[0m\u001b[1;33m.\u001b[0m\u001b[0mread_excel\u001b[0m\u001b[1;33m(\u001b[0m\u001b[1;34m\"../csv/2020/202001_expense_list.xlsx\"\u001b[0m\u001b[1;33m)\u001b[0m\u001b[1;33m\u001b[0m\u001b[1;33m\u001b[0m\u001b[0m\n\u001b[0m",
      "\u001b[1;32mc:\\Users\\moons\\AppData\\Local\\Programs\\Python\\Python36\\lib\\site-packages\\pandas\\util\\_decorators.py\u001b[0m in \u001b[0;36mwrapper\u001b[1;34m(*args, **kwargs)\u001b[0m\n\u001b[0;32m    294\u001b[0m                 )\n\u001b[0;32m    295\u001b[0m                 \u001b[0mwarnings\u001b[0m\u001b[1;33m.\u001b[0m\u001b[0mwarn\u001b[0m\u001b[1;33m(\u001b[0m\u001b[0mmsg\u001b[0m\u001b[1;33m,\u001b[0m \u001b[0mFutureWarning\u001b[0m\u001b[1;33m,\u001b[0m \u001b[0mstacklevel\u001b[0m\u001b[1;33m=\u001b[0m\u001b[0mstacklevel\u001b[0m\u001b[1;33m)\u001b[0m\u001b[1;33m\u001b[0m\u001b[1;33m\u001b[0m\u001b[0m\n\u001b[1;32m--> 296\u001b[1;33m             \u001b[1;32mreturn\u001b[0m \u001b[0mfunc\u001b[0m\u001b[1;33m(\u001b[0m\u001b[1;33m*\u001b[0m\u001b[0margs\u001b[0m\u001b[1;33m,\u001b[0m \u001b[1;33m**\u001b[0m\u001b[0mkwargs\u001b[0m\u001b[1;33m)\u001b[0m\u001b[1;33m\u001b[0m\u001b[1;33m\u001b[0m\u001b[0m\n\u001b[0m\u001b[0;32m    297\u001b[0m \u001b[1;33m\u001b[0m\u001b[0m\n\u001b[0;32m    298\u001b[0m         \u001b[1;32mreturn\u001b[0m \u001b[0mwrapper\u001b[0m\u001b[1;33m\u001b[0m\u001b[1;33m\u001b[0m\u001b[0m\n",
      "\u001b[1;32mc:\\Users\\moons\\AppData\\Local\\Programs\\Python\\Python36\\lib\\site-packages\\pandas\\io\\excel\\_base.py\u001b[0m in \u001b[0;36mread_excel\u001b[1;34m(io, sheet_name, header, names, index_col, usecols, squeeze, dtype, engine, converters, true_values, false_values, skiprows, nrows, na_values, keep_default_na, na_filter, verbose, parse_dates, date_parser, thousands, comment, skipfooter, convert_float, mangle_dupe_cols)\u001b[0m\n\u001b[0;32m    302\u001b[0m \u001b[1;33m\u001b[0m\u001b[0m\n\u001b[0;32m    303\u001b[0m     \u001b[1;32mif\u001b[0m \u001b[1;32mnot\u001b[0m \u001b[0misinstance\u001b[0m\u001b[1;33m(\u001b[0m\u001b[0mio\u001b[0m\u001b[1;33m,\u001b[0m \u001b[0mExcelFile\u001b[0m\u001b[1;33m)\u001b[0m\u001b[1;33m:\u001b[0m\u001b[1;33m\u001b[0m\u001b[1;33m\u001b[0m\u001b[0m\n\u001b[1;32m--> 304\u001b[1;33m         \u001b[0mio\u001b[0m \u001b[1;33m=\u001b[0m \u001b[0mExcelFile\u001b[0m\u001b[1;33m(\u001b[0m\u001b[0mio\u001b[0m\u001b[1;33m,\u001b[0m \u001b[0mengine\u001b[0m\u001b[1;33m=\u001b[0m\u001b[0mengine\u001b[0m\u001b[1;33m)\u001b[0m\u001b[1;33m\u001b[0m\u001b[1;33m\u001b[0m\u001b[0m\n\u001b[0m\u001b[0;32m    305\u001b[0m     \u001b[1;32melif\u001b[0m \u001b[0mengine\u001b[0m \u001b[1;32mand\u001b[0m \u001b[0mengine\u001b[0m \u001b[1;33m!=\u001b[0m \u001b[0mio\u001b[0m\u001b[1;33m.\u001b[0m\u001b[0mengine\u001b[0m\u001b[1;33m:\u001b[0m\u001b[1;33m\u001b[0m\u001b[1;33m\u001b[0m\u001b[0m\n\u001b[0;32m    306\u001b[0m         raise ValueError(\n",
      "\u001b[1;32mc:\\Users\\moons\\AppData\\Local\\Programs\\Python\\Python36\\lib\\site-packages\\pandas\\io\\excel\\_base.py\u001b[0m in \u001b[0;36m__init__\u001b[1;34m(self, path_or_buffer, engine)\u001b[0m\n\u001b[0;32m    865\u001b[0m         \u001b[0mself\u001b[0m\u001b[1;33m.\u001b[0m\u001b[0m_io\u001b[0m \u001b[1;33m=\u001b[0m \u001b[0mstringify_path\u001b[0m\u001b[1;33m(\u001b[0m\u001b[0mpath_or_buffer\u001b[0m\u001b[1;33m)\u001b[0m\u001b[1;33m\u001b[0m\u001b[1;33m\u001b[0m\u001b[0m\n\u001b[0;32m    866\u001b[0m \u001b[1;33m\u001b[0m\u001b[0m\n\u001b[1;32m--> 867\u001b[1;33m         \u001b[0mself\u001b[0m\u001b[1;33m.\u001b[0m\u001b[0m_reader\u001b[0m \u001b[1;33m=\u001b[0m \u001b[0mself\u001b[0m\u001b[1;33m.\u001b[0m\u001b[0m_engines\u001b[0m\u001b[1;33m[\u001b[0m\u001b[0mengine\u001b[0m\u001b[1;33m]\u001b[0m\u001b[1;33m(\u001b[0m\u001b[0mself\u001b[0m\u001b[1;33m.\u001b[0m\u001b[0m_io\u001b[0m\u001b[1;33m)\u001b[0m\u001b[1;33m\u001b[0m\u001b[1;33m\u001b[0m\u001b[0m\n\u001b[0m\u001b[0;32m    868\u001b[0m \u001b[1;33m\u001b[0m\u001b[0m\n\u001b[0;32m    869\u001b[0m     \u001b[1;32mdef\u001b[0m \u001b[0m__fspath__\u001b[0m\u001b[1;33m(\u001b[0m\u001b[0mself\u001b[0m\u001b[1;33m)\u001b[0m\u001b[1;33m:\u001b[0m\u001b[1;33m\u001b[0m\u001b[1;33m\u001b[0m\u001b[0m\n",
      "\u001b[1;32mc:\\Users\\moons\\AppData\\Local\\Programs\\Python\\Python36\\lib\\site-packages\\pandas\\io\\excel\\_xlrd.py\u001b[0m in \u001b[0;36m__init__\u001b[1;34m(self, filepath_or_buffer)\u001b[0m\n\u001b[0;32m     20\u001b[0m         \u001b[0merr_msg\u001b[0m \u001b[1;33m=\u001b[0m \u001b[1;34m\"Install xlrd >= 1.0.0 for Excel support\"\u001b[0m\u001b[1;33m\u001b[0m\u001b[1;33m\u001b[0m\u001b[0m\n\u001b[0;32m     21\u001b[0m         \u001b[0mimport_optional_dependency\u001b[0m\u001b[1;33m(\u001b[0m\u001b[1;34m\"xlrd\"\u001b[0m\u001b[1;33m,\u001b[0m \u001b[0mextra\u001b[0m\u001b[1;33m=\u001b[0m\u001b[0merr_msg\u001b[0m\u001b[1;33m)\u001b[0m\u001b[1;33m\u001b[0m\u001b[1;33m\u001b[0m\u001b[0m\n\u001b[1;32m---> 22\u001b[1;33m         \u001b[0msuper\u001b[0m\u001b[1;33m(\u001b[0m\u001b[1;33m)\u001b[0m\u001b[1;33m.\u001b[0m\u001b[0m__init__\u001b[0m\u001b[1;33m(\u001b[0m\u001b[0mfilepath_or_buffer\u001b[0m\u001b[1;33m)\u001b[0m\u001b[1;33m\u001b[0m\u001b[1;33m\u001b[0m\u001b[0m\n\u001b[0m\u001b[0;32m     23\u001b[0m \u001b[1;33m\u001b[0m\u001b[0m\n\u001b[0;32m     24\u001b[0m     \u001b[1;33m@\u001b[0m\u001b[0mproperty\u001b[0m\u001b[1;33m\u001b[0m\u001b[1;33m\u001b[0m\u001b[0m\n",
      "\u001b[1;32mc:\\Users\\moons\\AppData\\Local\\Programs\\Python\\Python36\\lib\\site-packages\\pandas\\io\\excel\\_base.py\u001b[0m in \u001b[0;36m__init__\u001b[1;34m(self, filepath_or_buffer)\u001b[0m\n\u001b[0;32m    351\u001b[0m             \u001b[0mself\u001b[0m\u001b[1;33m.\u001b[0m\u001b[0mbook\u001b[0m \u001b[1;33m=\u001b[0m \u001b[0mself\u001b[0m\u001b[1;33m.\u001b[0m\u001b[0mload_workbook\u001b[0m\u001b[1;33m(\u001b[0m\u001b[0mfilepath_or_buffer\u001b[0m\u001b[1;33m)\u001b[0m\u001b[1;33m\u001b[0m\u001b[1;33m\u001b[0m\u001b[0m\n\u001b[0;32m    352\u001b[0m         \u001b[1;32melif\u001b[0m \u001b[0misinstance\u001b[0m\u001b[1;33m(\u001b[0m\u001b[0mfilepath_or_buffer\u001b[0m\u001b[1;33m,\u001b[0m \u001b[0mstr\u001b[0m\u001b[1;33m)\u001b[0m\u001b[1;33m:\u001b[0m\u001b[1;33m\u001b[0m\u001b[1;33m\u001b[0m\u001b[0m\n\u001b[1;32m--> 353\u001b[1;33m             \u001b[0mself\u001b[0m\u001b[1;33m.\u001b[0m\u001b[0mbook\u001b[0m \u001b[1;33m=\u001b[0m \u001b[0mself\u001b[0m\u001b[1;33m.\u001b[0m\u001b[0mload_workbook\u001b[0m\u001b[1;33m(\u001b[0m\u001b[0mfilepath_or_buffer\u001b[0m\u001b[1;33m)\u001b[0m\u001b[1;33m\u001b[0m\u001b[1;33m\u001b[0m\u001b[0m\n\u001b[0m\u001b[0;32m    354\u001b[0m         \u001b[1;32melif\u001b[0m \u001b[0misinstance\u001b[0m\u001b[1;33m(\u001b[0m\u001b[0mfilepath_or_buffer\u001b[0m\u001b[1;33m,\u001b[0m \u001b[0mbytes\u001b[0m\u001b[1;33m)\u001b[0m\u001b[1;33m:\u001b[0m\u001b[1;33m\u001b[0m\u001b[1;33m\u001b[0m\u001b[0m\n\u001b[0;32m    355\u001b[0m             \u001b[0mself\u001b[0m\u001b[1;33m.\u001b[0m\u001b[0mbook\u001b[0m \u001b[1;33m=\u001b[0m \u001b[0mself\u001b[0m\u001b[1;33m.\u001b[0m\u001b[0mload_workbook\u001b[0m\u001b[1;33m(\u001b[0m\u001b[0mBytesIO\u001b[0m\u001b[1;33m(\u001b[0m\u001b[0mfilepath_or_buffer\u001b[0m\u001b[1;33m)\u001b[0m\u001b[1;33m)\u001b[0m\u001b[1;33m\u001b[0m\u001b[1;33m\u001b[0m\u001b[0m\n",
      "\u001b[1;32mc:\\Users\\moons\\AppData\\Local\\Programs\\Python\\Python36\\lib\\site-packages\\pandas\\io\\excel\\_xlrd.py\u001b[0m in \u001b[0;36mload_workbook\u001b[1;34m(self, filepath_or_buffer)\u001b[0m\n\u001b[0;32m     35\u001b[0m             \u001b[1;32mreturn\u001b[0m \u001b[0mopen_workbook\u001b[0m\u001b[1;33m(\u001b[0m\u001b[0mfile_contents\u001b[0m\u001b[1;33m=\u001b[0m\u001b[0mdata\u001b[0m\u001b[1;33m)\u001b[0m\u001b[1;33m\u001b[0m\u001b[1;33m\u001b[0m\u001b[0m\n\u001b[0;32m     36\u001b[0m         \u001b[1;32melse\u001b[0m\u001b[1;33m:\u001b[0m\u001b[1;33m\u001b[0m\u001b[1;33m\u001b[0m\u001b[0m\n\u001b[1;32m---> 37\u001b[1;33m             \u001b[1;32mreturn\u001b[0m \u001b[0mopen_workbook\u001b[0m\u001b[1;33m(\u001b[0m\u001b[0mfilepath_or_buffer\u001b[0m\u001b[1;33m)\u001b[0m\u001b[1;33m\u001b[0m\u001b[1;33m\u001b[0m\u001b[0m\n\u001b[0m\u001b[0;32m     38\u001b[0m \u001b[1;33m\u001b[0m\u001b[0m\n\u001b[0;32m     39\u001b[0m     \u001b[1;33m@\u001b[0m\u001b[0mproperty\u001b[0m\u001b[1;33m\u001b[0m\u001b[1;33m\u001b[0m\u001b[0m\n",
      "\u001b[1;32mc:\\Users\\moons\\AppData\\Local\\Programs\\Python\\Python36\\lib\\site-packages\\xlrd\\__init__.py\u001b[0m in \u001b[0;36mopen_workbook\u001b[1;34m(filename, logfile, verbosity, use_mmap, file_contents, encoding_override, formatting_info, on_demand, ragged_rows, ignore_workbook_corruption)\u001b[0m\n\u001b[0;32m    168\u001b[0m     \u001b[1;31m# files that xlrd can parse don't start with the expected signature.\u001b[0m\u001b[1;33m\u001b[0m\u001b[1;33m\u001b[0m\u001b[1;33m\u001b[0m\u001b[0m\n\u001b[0;32m    169\u001b[0m     \u001b[1;32mif\u001b[0m \u001b[0mfile_format\u001b[0m \u001b[1;32mand\u001b[0m \u001b[0mfile_format\u001b[0m \u001b[1;33m!=\u001b[0m \u001b[1;34m'xls'\u001b[0m\u001b[1;33m:\u001b[0m\u001b[1;33m\u001b[0m\u001b[1;33m\u001b[0m\u001b[0m\n\u001b[1;32m--> 170\u001b[1;33m         \u001b[1;32mraise\u001b[0m \u001b[0mXLRDError\u001b[0m\u001b[1;33m(\u001b[0m\u001b[0mFILE_FORMAT_DESCRIPTIONS\u001b[0m\u001b[1;33m[\u001b[0m\u001b[0mfile_format\u001b[0m\u001b[1;33m]\u001b[0m\u001b[1;33m+\u001b[0m\u001b[1;34m'; not supported'\u001b[0m\u001b[1;33m)\u001b[0m\u001b[1;33m\u001b[0m\u001b[1;33m\u001b[0m\u001b[0m\n\u001b[0m\u001b[0;32m    171\u001b[0m \u001b[1;33m\u001b[0m\u001b[0m\n\u001b[0;32m    172\u001b[0m     bk = open_workbook_xls(\n",
      "\u001b[1;31mXLRDError\u001b[0m: Excel xlsx file; not supported"
     ]
    }
   ],
   "source": [
    "pd.read_excel(\"../csv/2020/202001_expense_list.xlsx\")"
   ]
  },
  {
   "cell_type": "code",
   "execution_count": 17,
   "metadata": {},
   "outputs": [
    {
     "name": "stdout",
     "output_type": "stream",
     "text": [
      "Requirement already satisfied: openpyxl in c:\\users\\moons\\appdata\\local\\programs\\python\\python36\\lib\\site-packages (3.0.9)\n",
      "Requirement already satisfied: et-xmlfile in c:\\users\\moons\\appdata\\local\\programs\\python\\python36\\lib\\site-packages (from openpyxl) (1.1.0)\n",
      "Note: you may need to restart the kernel to use updated packages.\n"
     ]
    }
   ],
   "source": [
    "pip install openpyxl"
   ]
  },
  {
   "cell_type": "code",
   "execution_count": null,
   "metadata": {},
   "outputs": [],
   "source": [
    "pd.read_excel(\"../csv/2020/202001_expense_list.xlsx\", engine=\"openpyxl\")"
   ]
  },
  {
   "cell_type": "code",
   "execution_count": 18,
   "metadata": {},
   "outputs": [
    {
     "name": "stdout",
     "output_type": "stream",
     "text": [
      "<class 'pandas.core.frame.DataFrame'>\n",
      "RangeIndex: 142350 entries, 0 to 142349\n",
      "Data columns (total 20 columns):\n",
      " #   Column             Non-Null Count   Dtype  \n",
      "---  ------             --------------   -----  \n",
      " 0   nid                142350 non-null  int64  \n",
      " 1   title              142350 non-null  object \n",
      " 2   url                142350 non-null  object \n",
      " 3   dept_nm_lvl_1      142350 non-null  object \n",
      " 4   dept_nm_lvl_2      142156 non-null  object \n",
      " 5   dept_nm_lvl_3      124092 non-null  object \n",
      " 6   dept_nm_lvl_4      37693 non-null   object \n",
      " 7   dept_nm_lvl_5      6874 non-null    object \n",
      " 8   exec_yr            142350 non-null  int64  \n",
      " 9   exec_month         142350 non-null  int64  \n",
      " 10  expense_budget     6001 non-null    float64\n",
      " 11  expense_execution  5015 non-null    float64\n",
      " 12  category           2985 non-null    object \n",
      " 13  dept_nm_full       142271 non-null  object \n",
      " 14  exec_dt            142350 non-null  object \n",
      " 15  exec_loc           140883 non-null  object \n",
      " 16  exec_purpose       142328 non-null  object \n",
      " 17  target_nm          141594 non-null  object \n",
      " 18  payment_method     142147 non-null  object \n",
      " 19  exec_amount        142350 non-null  int64  \n",
      "dtypes: float64(2), int64(4), object(14)\n",
      "memory usage: 21.7+ MB\n"
     ]
    }
   ],
   "source": [
    "## dataframe 정보\n",
    "total_df.info()"
   ]
  },
  {
   "cell_type": "markdown",
   "metadata": {},
   "source": [
    "### total_df (2017, 2018 합친 데이터프레임)\n",
    "1. 컬럼의 이름 변경 ['nid', '제목', 'url', '부서레벨1', '부서레벨2', '부서레벨3', '부서레벨4', '부서레벨5', '집행연도', '집행일', '예산', '집행', '구분', '부서명', '집행일시', '집행장소', '집행목적', '대상인원', '결제방법', '집행금액']\n",
    "2. 컬럼 삭제 -> 부서레벨3, 부서레벨4, 부서레벨5, 예산, 집행, 구분\n",
    "3. 연도별 집행금액의 합 -> 시각화 (바형 그래프)\n",
    "4. 연도, 월 별 집행금액 합계를 시각화(바형 그래프)"
   ]
  },
  {
   "cell_type": "code",
   "execution_count": 20,
   "metadata": {},
   "outputs": [],
   "source": [
    "## 컬럼의 이름을 변경\n",
    "total_df.columns = ['nid', '제목', 'url', '부서레벨1', '부서레벨2', '부서레벨3', '부서레벨4', '부서레벨5', '집행연도', '집행일', '예산', '집행', '구분', '부서명', '집행일시', '집행장소', '집행목적', '대상인원', '결제방법', '집행금액']"
   ]
  },
  {
   "cell_type": "code",
   "execution_count": 21,
   "metadata": {},
   "outputs": [],
   "source": [
    "total_df.drop([\"부서레벨3\", \"부서레벨4\", \"부서레벨5\", \"예산\", \"집행\", \"구분\"], axis=1, inplace=True)"
   ]
  },
  {
   "cell_type": "code",
   "execution_count": 22,
   "metadata": {},
   "outputs": [
    {
     "data": {
      "text/html": [
       "<div>\n",
       "<style scoped>\n",
       "    .dataframe tbody tr th:only-of-type {\n",
       "        vertical-align: middle;\n",
       "    }\n",
       "\n",
       "    .dataframe tbody tr th {\n",
       "        vertical-align: top;\n",
       "    }\n",
       "\n",
       "    .dataframe thead th {\n",
       "        text-align: right;\n",
       "    }\n",
       "</style>\n",
       "<table border=\"1\" class=\"dataframe\">\n",
       "  <thead>\n",
       "    <tr style=\"text-align: right;\">\n",
       "      <th></th>\n",
       "      <th>nid</th>\n",
       "      <th>제목</th>\n",
       "      <th>url</th>\n",
       "      <th>부서레벨1</th>\n",
       "      <th>부서레벨2</th>\n",
       "      <th>집행연도</th>\n",
       "      <th>집행일</th>\n",
       "      <th>부서명</th>\n",
       "      <th>집행일시</th>\n",
       "      <th>집행장소</th>\n",
       "      <th>집행목적</th>\n",
       "      <th>대상인원</th>\n",
       "      <th>결제방법</th>\n",
       "      <th>집행금액</th>\n",
       "    </tr>\n",
       "  </thead>\n",
       "  <tbody>\n",
       "    <tr>\n",
       "      <th>0</th>\n",
       "      <td>11430252</td>\n",
       "      <td>2017년 1월 장애인복지정책과 업무추진비 집행내역</td>\n",
       "      <td>http://opengov.seoul.go.kr/public/11430252</td>\n",
       "      <td>서울시본청</td>\n",
       "      <td>복지본부</td>\n",
       "      <td>2017</td>\n",
       "      <td>1</td>\n",
       "      <td>복지본부 장애인복지정책과</td>\n",
       "      <td>2017-01-26 13:10</td>\n",
       "      <td>동해일식 (중구 무교동)</td>\n",
       "      <td>기본소득과 장애인복지 논의간담회</td>\n",
       "      <td>장애인복지정책팀장 외 2명</td>\n",
       "      <td>카드</td>\n",
       "      <td>76000</td>\n",
       "    </tr>\n",
       "  </tbody>\n",
       "</table>\n",
       "</div>"
      ],
      "text/plain": [
       "        nid                            제목  \\\n",
       "0  11430252  2017년 1월 장애인복지정책과 업무추진비 집행내역   \n",
       "\n",
       "                                          url  부서레벨1 부서레벨2  집행연도  집행일  \\\n",
       "0  http://opengov.seoul.go.kr/public/11430252  서울시본청  복지본부  2017    1   \n",
       "\n",
       "             부서명              집행일시           집행장소               집행목적  \\\n",
       "0  복지본부 장애인복지정책과  2017-01-26 13:10  동해일식 (중구 무교동)  기본소득과 장애인복지 논의간담회   \n",
       "\n",
       "             대상인원 결제방법   집행금액  \n",
       "0  장애인복지정책팀장 외 2명   카드  76000  "
      ]
     },
     "execution_count": 22,
     "metadata": {},
     "output_type": "execute_result"
    }
   ],
   "source": [
    "total_df.head(1)"
   ]
  },
  {
   "cell_type": "code",
   "execution_count": 23,
   "metadata": {},
   "outputs": [
    {
     "data": {
      "text/plain": [
       "집행연도\n",
       "2017    9076941387\n",
       "2018    9937556542\n",
       "Name: 집행금액, dtype: int64"
      ]
     },
     "execution_count": 23,
     "metadata": {},
     "output_type": "execute_result"
    }
   ],
   "source": [
    "## 집행 연도를 기준으로 그룹화 집행금액의 합계를 출력\n",
    "month_total = total_df.groupby(\"집행연도\").sum()[\"집행금액\"]\n",
    "month_total"
   ]
  },
  {
   "cell_type": "code",
   "execution_count": 24,
   "metadata": {},
   "outputs": [],
   "source": [
    "import matplotlib.pyplot as plt\n",
    "import matplotlib"
   ]
  },
  {
   "cell_type": "code",
   "execution_count": 28,
   "metadata": {},
   "outputs": [
    {
     "data": {
      "image/png": "[encoded data removed]",
      "text/plain": [
       "<Figure size 432x288 with 1 Axes>"
      ]
     },
     "metadata": {
      "needs_background": "light"
     },
     "output_type": "display_data"
    }
   ],
   "source": [
    "## 바형 그래프 \n",
    "## x축 -> index\n",
    "## y축 -> 집행금액의 합계\n",
    "x = month_total.index\n",
    "y = month_total\n",
    "\n",
    "plt.bar(x, y)\n",
    "plt.show()"
   ]
  },
  {
   "cell_type": "code",
   "execution_count": null,
   "metadata": {},
   "outputs": [],
   "source": [
    "## pivot_table()의 형태로 변경 시각화\n",
    "month_total = pd.pivot_table(total_df, index=[\"집행연도\"], values=[\"집행금액\"], aggfunc='sum')\n",
    "month_total"
   ]
  },
  {
   "cell_type": "code",
   "execution_count": 32,
   "metadata": {},
   "outputs": [
    {
     "data": {
      "text/plain": [
       "<AxesSubplot:ylabel='집행연도'>"
      ]
     },
     "execution_count": 32,
     "metadata": {},
     "output_type": "execute_result"
    },
    {
     "data": {
      "image/png": "[encoded data removed]",
      "text/plain": [
       "<Figure size 432x288 with 1 Axes>"
      ]
     },
     "metadata": {
      "needs_background": "light"
     },
     "output_type": "display_data"
    }
   ],
   "source": [
    "matplotlib.rcParams[\"font.family\"] = \"Malgun Gothic\"\n",
    "matplotlib.rcParams[\"axes.unicode_minus\"] = False\n",
    "\n",
    "(month_total).plot.barh()"
   ]
  },
  {
   "cell_type": "code",
   "execution_count": null,
   "metadata": {},
   "outputs": [],
   "source": [
    "## 연도별 월별\n",
    "month_total = total_df.groupby([\"집행연도\", \"집행일\"]).sum()[\"집행금액\"]\n",
    "month_total"
   ]
  },
  {
   "cell_type": "code",
   "execution_count": null,
   "metadata": {},
   "outputs": [],
   "source": [
    "month_total.plot.bar()"
   ]
  },
  {
   "cell_type": "code",
   "execution_count": null,
   "metadata": {},
   "outputs": [],
   "source": [
    "pivot_month = pd.pivot_table(total_df, index=[\"집행일\"], columns=[\"집행연도\"], \n",
    "values=[\"집행금액\"], aggfunc='sum')\n",
    "pivot_month"
   ]
  },
  {
   "cell_type": "code",
   "execution_count": null,
   "metadata": {},
   "outputs": [],
   "source": [
    "pivot_month.plot.bar()"
   ]
  },
  {
   "cell_type": "markdown",
   "metadata": {},
   "source": [
    "집행연도와 부서레벨1 별 집행 금액의 평균이 어떠한가 그래프로 표시"
   ]
  },
  {
   "cell_type": "code",
   "execution_count": null,
   "metadata": {},
   "outputs": [],
   "source": [
    "dep_total = pd.pivot_table(total_df, index=[\"부서레벨1\"], columns=[\"집행연도\"], \n",
    "values=[\"집행금액\"], aggfunc='mean')\n",
    "dep_total"
   ]
  },
  {
   "cell_type": "code",
   "execution_count": 39,
   "metadata": {},
   "outputs": [
    {
     "data": {
      "text/plain": [
       "<AxesSubplot:ylabel='부서레벨1'>"
      ]
     },
     "execution_count": 39,
     "metadata": {},
     "output_type": "execute_result"
    },
    {
     "data": {
      "image/png": "[encoded data removed]",
      "text/plain": [
       "<Figure size 432x288 with 1 Axes>"
      ]
     },
     "metadata": {
      "needs_background": "light"
     },
     "output_type": "display_data"
    }
   ],
   "source": [
    "dep_total.plot.barh()"
   ]
  },
  {
   "cell_type": "code",
   "execution_count": 41,
   "metadata": {},
   "outputs": [
    {
     "data": {
      "text/html": [
       "<div>\n",
       "<style scoped>\n",
       "    .dataframe tbody tr th:only-of-type {\n",
       "        vertical-align: middle;\n",
       "    }\n",
       "\n",
       "    .dataframe tbody tr th {\n",
       "        vertical-align: top;\n",
       "    }\n",
       "\n",
       "    .dataframe thead th {\n",
       "        text-align: right;\n",
       "    }\n",
       "</style>\n",
       "<table border=\"1\" class=\"dataframe\">\n",
       "  <thead>\n",
       "    <tr style=\"text-align: right;\">\n",
       "      <th></th>\n",
       "      <th>nid</th>\n",
       "      <th>제목</th>\n",
       "      <th>url</th>\n",
       "      <th>부서레벨1</th>\n",
       "      <th>부서레벨2</th>\n",
       "      <th>집행연도</th>\n",
       "      <th>집행일</th>\n",
       "      <th>부서명</th>\n",
       "      <th>집행일시</th>\n",
       "      <th>집행장소</th>\n",
       "      <th>집행목적</th>\n",
       "      <th>대상인원</th>\n",
       "      <th>결제방법</th>\n",
       "      <th>집행금액</th>\n",
       "    </tr>\n",
       "  </thead>\n",
       "  <tbody>\n",
       "    <tr>\n",
       "      <th>27751</th>\n",
       "      <td>12250365</td>\n",
       "      <td>5월 업무추진비 사용내역</td>\n",
       "      <td>http://opengov.seoul.go.kr/public/12250365</td>\n",
       "      <td>서울시본청</td>\n",
       "      <td>도시재생본부</td>\n",
       "      <td>2017</td>\n",
       "      <td>5</td>\n",
       "      <td>도시재생본부 주거재생과</td>\n",
       "      <td>1970-01-01 09:00</td>\n",
       "      <td>왕왕생고기 (중구 을지로 1)</td>\n",
       "      <td>창신숭인 도시재생사업 추진 관련 격려비용 지급</td>\n",
       "      <td>주거재생과장 외 4명</td>\n",
       "      <td>카드</td>\n",
       "      <td>47000</td>\n",
       "    </tr>\n",
       "    <tr>\n",
       "      <th>27750</th>\n",
       "      <td>12250365</td>\n",
       "      <td>5월 업무추진비 사용내역</td>\n",
       "      <td>http://opengov.seoul.go.kr/public/12250365</td>\n",
       "      <td>서울시본청</td>\n",
       "      <td>도시재생본부</td>\n",
       "      <td>2017</td>\n",
       "      <td>5</td>\n",
       "      <td>도시재생본부 주거재생과</td>\n",
       "      <td>1970-01-01 09:00</td>\n",
       "      <td>충무집 (중구 다동 140)</td>\n",
       "      <td>주거환경개선과 현안업무처리 관련 격려비용 지급</td>\n",
       "      <td>주거사업기획관 외 5명</td>\n",
       "      <td>카드</td>\n",
       "      <td>65000</td>\n",
       "    </tr>\n",
       "    <tr>\n",
       "      <th>27754</th>\n",
       "      <td>12250365</td>\n",
       "      <td>5월 업무추진비 사용내역</td>\n",
       "      <td>http://opengov.seoul.go.kr/public/12250365</td>\n",
       "      <td>서울시본청</td>\n",
       "      <td>도시재생본부</td>\n",
       "      <td>2017</td>\n",
       "      <td>5</td>\n",
       "      <td>도시재생본부 주거재생과</td>\n",
       "      <td>1970-01-01 09:00</td>\n",
       "      <td>원주추어탕 (중구 무교로 17-27)</td>\n",
       "      <td>도시재생사업 관련 격려비용 지급</td>\n",
       "      <td>주거재생과장 외 5명</td>\n",
       "      <td>카드</td>\n",
       "      <td>45000</td>\n",
       "    </tr>\n",
       "    <tr>\n",
       "      <th>611</th>\n",
       "      <td>11019667</td>\n",
       "      <td>2017년 1월 시의회사무처 도시안전건설전문위원실 업무추진비 집행내역</td>\n",
       "      <td>http://opengov.seoul.go.kr/public/11019667</td>\n",
       "      <td>의회사무처</td>\n",
       "      <td>도시안전건설전문위원실</td>\n",
       "      <td>2017</td>\n",
       "      <td>1</td>\n",
       "      <td>시의회사무처 도시안전건설전문위원실</td>\n",
       "      <td>1970-01-01 09:00</td>\n",
       "      <td>오후청(중구 남대문로1길 26-10)</td>\n",
       "      <td>제272회 임시회 안건검토 관련 간담회비 지급</td>\n",
       "      <td>수석전문위원 외 14명</td>\n",
       "      <td>카드</td>\n",
       "      <td>177000</td>\n",
       "    </tr>\n",
       "    <tr>\n",
       "      <th>27752</th>\n",
       "      <td>12250365</td>\n",
       "      <td>5월 업무추진비 사용내역</td>\n",
       "      <td>http://opengov.seoul.go.kr/public/12250365</td>\n",
       "      <td>서울시본청</td>\n",
       "      <td>도시재생본부</td>\n",
       "      <td>2017</td>\n",
       "      <td>5</td>\n",
       "      <td>도시재생본부 주거재생과</td>\n",
       "      <td>1970-01-01 09:00</td>\n",
       "      <td>곰국시집 (중구 무교동 12-1)</td>\n",
       "      <td>재생협력과 현안업무처리 관련 격려비용 지급</td>\n",
       "      <td>주거사업기획관 외 7명</td>\n",
       "      <td>카드</td>\n",
       "      <td>104000</td>\n",
       "    </tr>\n",
       "    <tr>\n",
       "      <th>...</th>\n",
       "      <td>...</td>\n",
       "      <td>...</td>\n",
       "      <td>...</td>\n",
       "      <td>...</td>\n",
       "      <td>...</td>\n",
       "      <td>...</td>\n",
       "      <td>...</td>\n",
       "      <td>...</td>\n",
       "      <td>...</td>\n",
       "      <td>...</td>\n",
       "      <td>...</td>\n",
       "      <td>...</td>\n",
       "      <td>...</td>\n",
       "      <td>...</td>\n",
       "    </tr>\n",
       "    <tr>\n",
       "      <th>136599</th>\n",
       "      <td>16919933</td>\n",
       "      <td>2018년 12월 사업소_상수도사업본부_북부수도사업소_급수운영과 업무추진비 내역</td>\n",
       "      <td>http://opengov.seoul.go.kr/public/16919933</td>\n",
       "      <td>사업소</td>\n",
       "      <td>상수도사업본부</td>\n",
       "      <td>2018</td>\n",
       "      <td>12</td>\n",
       "      <td>급수운영과</td>\n",
       "      <td>2019-12-24 13:37</td>\n",
       "      <td>엠엠피아이 (송파구 법원로)</td>\n",
       "      <td>커피 등 구매</td>\n",
       "      <td>이문성 주무관 외 23명</td>\n",
       "      <td>카드</td>\n",
       "      <td>124330</td>\n",
       "    </tr>\n",
       "    <tr>\n",
       "      <th>138946</th>\n",
       "      <td>16950392</td>\n",
       "      <td>2018년 12월 사업소_상수도사업본부_중부수도사업소_행정지원과 업무추진비 내역</td>\n",
       "      <td>http://opengov.seoul.go.kr/public/16950392</td>\n",
       "      <td>사업소</td>\n",
       "      <td>상수도사업본부</td>\n",
       "      <td>2018</td>\n",
       "      <td>12</td>\n",
       "      <td>요금과</td>\n",
       "      <td>2019-12-24 15:13</td>\n",
       "      <td>㈜오피스메카(용산구 청파로)</td>\n",
       "      <td>민원응대 및 부서용 커피, 음료수구매</td>\n",
       "      <td>요금과 전직원 및 내방민원</td>\n",
       "      <td>카드</td>\n",
       "      <td>205500</td>\n",
       "    </tr>\n",
       "    <tr>\n",
       "      <th>138941</th>\n",
       "      <td>16950392</td>\n",
       "      <td>2018년 12월 사업소_상수도사업본부_중부수도사업소_행정지원과 업무추진비 내역</td>\n",
       "      <td>http://opengov.seoul.go.kr/public/16950392</td>\n",
       "      <td>사업소</td>\n",
       "      <td>상수도사업본부</td>\n",
       "      <td>2018</td>\n",
       "      <td>12</td>\n",
       "      <td>현장민원과</td>\n",
       "      <td>2019-12-26 10:40</td>\n",
       "      <td>엠엠피아이(주)(송파구법원로114)</td>\n",
       "      <td>부서운영 커피 등 물품구입</td>\n",
       "      <td>1명(박미숙)</td>\n",
       "      <td>카드</td>\n",
       "      <td>72350</td>\n",
       "    </tr>\n",
       "    <tr>\n",
       "      <th>136598</th>\n",
       "      <td>16919933</td>\n",
       "      <td>2018년 12월 사업소_상수도사업본부_북부수도사업소_급수운영과 업무추진비 내역</td>\n",
       "      <td>http://opengov.seoul.go.kr/public/16919933</td>\n",
       "      <td>사업소</td>\n",
       "      <td>상수도사업본부</td>\n",
       "      <td>2018</td>\n",
       "      <td>12</td>\n",
       "      <td>급수운영과</td>\n",
       "      <td>2019-12-26 12:57</td>\n",
       "      <td>신가네남원추어탕 (강북구 오현로)</td>\n",
       "      <td>수계조절 및 누수탐지 관련 간담회</td>\n",
       "      <td>급수운영과장 외 8명</td>\n",
       "      <td>카드</td>\n",
       "      <td>112000</td>\n",
       "    </tr>\n",
       "    <tr>\n",
       "      <th>135225</th>\n",
       "      <td>16910776</td>\n",
       "      <td>2018년 12월 사업소_상수도사업본부_동부수도사업소_ 업무추진비 내역</td>\n",
       "      <td>http://opengov.seoul.go.kr/public/16910776</td>\n",
       "      <td>사업소</td>\n",
       "      <td>상수도사업본부</td>\n",
       "      <td>2018</td>\n",
       "      <td>12</td>\n",
       "      <td>동부수도사업소     급수운영과</td>\n",
       "      <td>2019-12-26 17:46</td>\n",
       "      <td>쿠우쿠우 (성동구 고산자로6길 40)</td>\n",
       "      <td>급수운영과 송년회</td>\n",
       "      <td>과장 외 29명</td>\n",
       "      <td>카드</td>\n",
       "      <td>502970</td>\n",
       "    </tr>\n",
       "  </tbody>\n",
       "</table>\n",
       "<p>142350 rows × 14 columns</p>\n",
       "</div>"
      ],
      "text/plain": [
       "             nid                                            제목  \\\n",
       "27751   12250365                                 5월 업무추진비 사용내역   \n",
       "27750   12250365                                 5월 업무추진비 사용내역   \n",
       "27754   12250365                                 5월 업무추진비 사용내역   \n",
       "611     11019667      2017년 1월 시의회사무처 도시안전건설전문위원실 업무추진비 집행내역     \n",
       "27752   12250365                                 5월 업무추진비 사용내역   \n",
       "...          ...                                           ...   \n",
       "136599  16919933  2018년 12월 사업소_상수도사업본부_북부수도사업소_급수운영과 업무추진비 내역   \n",
       "138946  16950392  2018년 12월 사업소_상수도사업본부_중부수도사업소_행정지원과 업무추진비 내역   \n",
       "138941  16950392  2018년 12월 사업소_상수도사업본부_중부수도사업소_행정지원과 업무추진비 내역   \n",
       "136598  16919933  2018년 12월 사업소_상수도사업본부_북부수도사업소_급수운영과 업무추진비 내역   \n",
       "135225  16910776       2018년 12월 사업소_상수도사업본부_동부수도사업소_ 업무추진비 내역   \n",
       "\n",
       "                                               url  부서레벨1        부서레벨2  집행연도  \\\n",
       "27751   http://opengov.seoul.go.kr/public/12250365  서울시본청       도시재생본부  2017   \n",
       "27750   http://opengov.seoul.go.kr/public/12250365  서울시본청       도시재생본부  2017   \n",
       "27754   http://opengov.seoul.go.kr/public/12250365  서울시본청       도시재생본부  2017   \n",
       "611     http://opengov.seoul.go.kr/public/11019667  의회사무처  도시안전건설전문위원실  2017   \n",
       "27752   http://opengov.seoul.go.kr/public/12250365  서울시본청       도시재생본부  2017   \n",
       "...                                            ...    ...          ...   ...   \n",
       "136599  http://opengov.seoul.go.kr/public/16919933    사업소      상수도사업본부  2018   \n",
       "138946  http://opengov.seoul.go.kr/public/16950392    사업소      상수도사업본부  2018   \n",
       "138941  http://opengov.seoul.go.kr/public/16950392    사업소      상수도사업본부  2018   \n",
       "136598  http://opengov.seoul.go.kr/public/16919933    사업소      상수도사업본부  2018   \n",
       "135225  http://opengov.seoul.go.kr/public/16910776    사업소      상수도사업본부  2018   \n",
       "\n",
       "        집행일                 부서명              집행일시                  집행장소  \\\n",
       "27751     5        도시재생본부 주거재생과  1970-01-01 09:00      왕왕생고기 (중구 을지로 1)   \n",
       "27750     5        도시재생본부 주거재생과  1970-01-01 09:00       충무집 (중구 다동 140)   \n",
       "27754     5        도시재생본부 주거재생과  1970-01-01 09:00  원주추어탕 (중구 무교로 17-27)   \n",
       "611       1  시의회사무처 도시안전건설전문위원실  1970-01-01 09:00  오후청(중구 남대문로1길 26-10)   \n",
       "27752     5        도시재생본부 주거재생과  1970-01-01 09:00    곰국시집 (중구 무교동 12-1)   \n",
       "...     ...                 ...               ...                   ...   \n",
       "136599   12               급수운영과  2019-12-24 13:37       엠엠피아이 (송파구 법원로)   \n",
       "138946   12                 요금과  2019-12-24 15:13       ㈜오피스메카(용산구 청파로)   \n",
       "138941   12               현장민원과  2019-12-26 10:40   엠엠피아이(주)(송파구법원로114)   \n",
       "136598   12               급수운영과  2019-12-26 12:57    신가네남원추어탕 (강북구 오현로)   \n",
       "135225   12   동부수도사업소     급수운영과  2019-12-26 17:46  쿠우쿠우 (성동구 고산자로6길 40)   \n",
       "\n",
       "                             집행목적            대상인원 결제방법    집행금액  \n",
       "27751   창신숭인 도시재생사업 추진 관련 격려비용 지급     주거재생과장 외 4명   카드   47000  \n",
       "27750   주거환경개선과 현안업무처리 관련 격려비용 지급    주거사업기획관 외 5명   카드   65000  \n",
       "27754           도시재생사업 관련 격려비용 지급     주거재생과장 외 5명   카드   45000  \n",
       "611     제272회 임시회 안건검토 관련 간담회비 지급    수석전문위원 외 14명   카드  177000  \n",
       "27752     재생협력과 현안업무처리 관련 격려비용 지급    주거사업기획관 외 7명   카드  104000  \n",
       "...                           ...             ...  ...     ...  \n",
       "136599                    커피 등 구매   이문성 주무관 외 23명   카드  124330  \n",
       "138946       민원응대 및 부서용 커피, 음료수구매  요금과 전직원 및 내방민원   카드  205500  \n",
       "138941             부서운영 커피 등 물품구입         1명(박미숙)   카드   72350  \n",
       "136598         수계조절 및 누수탐지 관련 간담회     급수운영과장 외 8명   카드  112000  \n",
       "135225                  급수운영과 송년회        과장 외 29명   카드  502970  \n",
       "\n",
       "[142350 rows x 14 columns]"
      ]
     },
     "execution_count": 41,
     "metadata": {},
     "output_type": "execute_result"
    }
   ],
   "source": [
    "total_df.sort_values(\"집행일시\")"
   ]
  },
  {
   "cell_type": "code",
   "execution_count": null,
   "metadata": {},
   "outputs": [],
   "source": []
  }
 ],
 "metadata": {
  "kernelspec": {
   "display_name": "Python 3.6.8 64-bit",
   "language": "python",
   "name": "python3"
  },
  "language_info": {
   "codemirror_mode": {
    "name": "ipython",
    "version": 3
   },
   "file_extension": ".py",
   "mimetype": "text/x-python",
   "name": "python",
   "nbconvert_exporter": "python",
   "pygments_lexer": "ipython3",
   "version": "3.6.8"
  },
  "orig_nbformat": 4,
  "vscode": {
   "interpreter": {
    "hash": "187f19b7e1a6c9dce315ccb3b0d07c5b7aeed6681cd1ee8ee772db2198b62651"
   }
  }
 },
 "nbformat": 4,
 "nbformat_minor": 2
}
