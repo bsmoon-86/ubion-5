{
 "cells": [
  {
   "cell_type": "markdown",
   "metadata": {},
   "source": [
    "### 경로 ( 상대경로 / 절대경로 )\n",
    "> 절대경로\n",
    "- 절대적인 주소\n",
    "- 환경에 상관없이 고정된 위치를 표현\n",
    "- ex) \"http://www.google.com\", \"c:\\users\\document\"\n",
    "> 상대경로\n",
    "- 상대적인 주소\n",
    "- 환경에 따라서 주소가 바뀌는 구조 \n",
    "- 현재 작업중인 디렉토리에서 상위, 하위, 현재\n",
    "- ex) \n",
    "    - 현재 디렉토리 : ./\n",
    "    - 상위 디렉토리 : ../\n",
    "    - 하위 디렉토리 : ./폴더명/\n",
    "    - 상위에서 상위 디렉토리 : ../../"
   ]
  },
  {
   "cell_type": "code",
   "execution_count": null,
   "metadata": {},
   "outputs": [],
   "source": [
    "import pandas as pd \n",
    "import matplotlib.pyplot as plt"
   ]
  },
  {
   "cell_type": "code",
   "execution_count": null,
   "metadata": {},
   "outputs": [],
   "source": [
    "# 상위 폴더에 있는 csv 폴더에서 sales records.csv 파일을 로드\n",
    "# pandas read_csv(경로, 인코딩) 함수를 이용하여 csv 파일 로드\n",
    "df = pd.read_csv(\"../csv/Sales Records.csv\", encoding=\"UTF-8\")\n",
    "df.head()"
   ]
  },
  {
   "cell_type": "code",
   "execution_count": null,
   "metadata": {},
   "outputs": [],
   "source": [
    "# 결측치면 True 결측치가 아니면 False 출력을 해주는 함수\n",
    "# 결측치의 여부를 판단하는 함수는 -> isna()\n",
    "# 결측치의 개수를 파악하기위해서는? -> isna().sum()\n",
    "# 여기에서 개수가 파악이 되는 이유는 -> True : 1, False : 0\n",
    "df.isna().sum()"
   ]
  },
  {
   "cell_type": "code",
   "execution_count": null,
   "metadata": {},
   "outputs": [],
   "source": [
    "# 데이터프레임에 통계 요약 정보 출력 -> describe()\n",
    "# 데이터의 개수, 평균값, 표준편차, 최솟값, 최대값, 1사분위, 중앙값, 3사분위 값을 확인이 가능\n",
    "# 데이터의 형태가 숫자의 형태여야 출력\n",
    "df.describe()"
   ]
  },
  {
   "cell_type": "code",
   "execution_count": null,
   "metadata": {},
   "outputs": [],
   "source": [
    "# 데이터의 컬럼의 이름을 변경하는 방법\n",
    "# 데이터프레임명.columns -> 데이터프레임 컬럼을 리스트의 형태로 출력\n",
    "# 이 값을 변경을 시켜주면 컬럼의 이름이 변경\n",
    "# 주의할점. -> 컬럼의 개수를 정확하게 입력을 해야된다. \n",
    "df.columns = [\"권역\", \"국가\", \"상품종류\", \"판매채널\", \"우선순위\", \"주문일자\", \n",
    "            \"주문ID\", \"발송일자\", \"판매단위\", \"단가\", \"원가\", \"총수익\", \"총비용\", \n",
    "            \"총이윤\"]\n",
    "df.head(1)"
   ]
  },
  {
   "cell_type": "code",
   "execution_count": null,
   "metadata": {},
   "outputs": [],
   "source": [
    "# datetime 데이터를 변경\n",
    "# pandas에 내장되어있는 to_datetime()\n",
    "# to_datetime(데이터의 값, format=\"데이터의 구조\")\n",
    "# 주문일자 datetime 형태로 변경\n",
    "df[\"주문일자\"] = pd.to_datetime(df[\"주문일자\"], format=\"%m/%d/%Y\")\n",
    "df[\"주문일자\"]"
   ]
  },
  {
   "cell_type": "code",
   "execution_count": null,
   "metadata": {},
   "outputs": [],
   "source": [
    "# 데이터프레임의 정렬 ( 오름차순, 내림차순 )\n",
    "# sort_values(정렬을 변경할 컬럼의 이름, ascending=bool)\n",
    "# ascending속성에서 True : 오름차순(기본값), False : 내림차순\n",
    "# 여러 컬럼을 기준으로 정렬을 변경\n",
    "# sort_values([컬럼이름1, 컬럼이름2])\n",
    "df.sort_values(\"국가\")\n",
    "df.sort_values(\"국가\", ascending=False) "
   ]
  },
  {
   "cell_type": "code",
   "execution_count": null,
   "metadata": {},
   "outputs": [],
   "source": [
    "# 여러 컬럼을 기준으로 정렬\n",
    "df.sort_values([\"국가\", \"판매단위\"])"
   ]
  },
  {
   "cell_type": "code",
   "execution_count": null,
   "metadata": {},
   "outputs": [],
   "source": [
    "# 특정 컬럼이나 특정 인덱스를 삭제\n",
    "# drop(조건, axis=n, inplace=bool)\n",
    "# 특정 조건에 맞는 행이나 열을 삭제\n",
    "# axis 속성의 값은 0 : 행 , 1 : 열\n",
    "# inplace 속성은 True : 기준이 되는 데이터를 수정 \n",
    "#                False : 기준이 되는 데이터를 수정하지 않는다. (기본값)\n",
    "\n",
    "# 특정 행을 삭제\n",
    "df.drop([1], axis=0)\n",
    "\n",
    "# 특정 열을 삭제\n",
    "df.drop([\"주문일자\"], axis=1)"
   ]
  },
  {
   "cell_type": "code",
   "execution_count": null,
   "metadata": {},
   "outputs": [],
   "source": [
    "df.drop([1], axis=0, inplace=True)"
   ]
  },
  {
   "cell_type": "code",
   "execution_count": null,
   "metadata": {},
   "outputs": [],
   "source": [
    "df = df.drop([2], axis=0)\n",
    "df"
   ]
  },
  {
   "cell_type": "code",
   "execution_count": null,
   "metadata": {},
   "outputs": [],
   "source": [
    "df.drop([3], axis=0)\n",
    "df"
   ]
  },
  {
   "cell_type": "code",
   "execution_count": null,
   "metadata": {},
   "outputs": [],
   "source": [
    "# 인덱스의 값을 초기화\n",
    "# reset_index(drop = bool)\n",
    "# drop 속성 True : 기존의 인덱스를 삭제\n",
    "#           False : 기존의 인덱스를 유지(기본값) - 기존의 인덱스를 컬럼으로 만들어준다. \n",
    "df.reset_index()\n",
    "df.reset_index(drop=True)\n",
    "# df를 출력하면 인덱스가 변경이 되지 않은 상태\n",
    "# df의 값을 변경한다는 코드가 존재 X\n",
    "# 쥬피터 환경에서는 출력이 나온다는 의미는 그냥 확인 작업\n",
    "# 실제 데이터가 변경이 되는 경우에는 출력 X\n",
    "df\n"
   ]
  },
  {
   "cell_type": "code",
   "execution_count": null,
   "metadata": {},
   "outputs": [],
   "source": [
    "df.reset_index(drop=True, inplace=True)"
   ]
  },
  {
   "cell_type": "code",
   "execution_count": null,
   "metadata": {},
   "outputs": [],
   "source": [
    "# 파생변수 생성\n",
    "# 데이터프레임명[파생변수명] = 계산식(이 컬럼에 들어갈 데이터의 값)\n",
    "# 주의할 점 \n",
    "# 데이터프레임명 = 계산한 데이터 값 --> 데이터프레임 -> 스리즈\n",
    "df[\"총 이윤\"] = df[\"총수익\"] - df[\"총비용\"] # 총 이윤"
   ]
  },
  {
   "cell_type": "code",
   "execution_count": null,
   "metadata": {},
   "outputs": [],
   "source": [
    "df"
   ]
  },
  {
   "cell_type": "code",
   "execution_count": null,
   "metadata": {},
   "outputs": [],
   "source": [
    "# df2 = df.copy()"
   ]
  },
  {
   "cell_type": "code",
   "execution_count": null,
   "metadata": {},
   "outputs": [],
   "source": [
    "# df2 = df2[\"총수익\"] - df2[\"총비용\"]"
   ]
  },
  {
   "cell_type": "markdown",
   "metadata": {},
   "source": [
    "### corona 데이터\n",
    "1. 데이터 로드 \n",
    "2. Unnamed: 0 컬럼을 삭제\n",
    "3. createDt 컬럼을 기준으로 오름차순 정렬\n",
    "4. 인덱스의 값 리셋 (기존의 인덱스는 삭제)"
   ]
  },
  {
   "cell_type": "code",
   "execution_count": null,
   "metadata": {},
   "outputs": [],
   "source": [
    "# 1. 데이터를 로드 \n",
    "corona = pd.read_csv(\"../csv/corona.csv\")\n",
    "corona"
   ]
  },
  {
   "cell_type": "code",
   "execution_count": null,
   "metadata": {},
   "outputs": [],
   "source": [
    "# 2. Unnamed: 0 컬럼을 삭제\n",
    "# corona.columns[0]\n",
    "# case1\n",
    "# corona.drop([corona.columns[0]], axis=1, inplace=True)\n",
    "# corona.drop([\"Unnamed: 0\"], axis=1)\n",
    "# case2\n",
    "corona = corona.drop([corona.columns[0]], axis=1)"
   ]
  },
  {
   "cell_type": "code",
   "execution_count": null,
   "metadata": {},
   "outputs": [],
   "source": [
    "# 3. createDt 기준으로 오름차순 정렬\n",
    "corona.sort_values(\"createDt\", inplace=True)"
   ]
  },
  {
   "cell_type": "code",
   "execution_count": null,
   "metadata": {},
   "outputs": [],
   "source": [
    "# 4. 인덱스의 값을 초기화 ( 기존의 인덱스 삭제 )\n",
    "corona = corona.reset_index(drop=True)"
   ]
  },
  {
   "cell_type": "markdown",
   "metadata": {},
   "source": [
    "### 인덱스를 이동하는 함수\n",
    "> shift(n)\n",
    "- 인덱스를 n만큼 이동 \n",
    "- n = 1 기본값 : 바로 위의 인덱스의 값을 가지고 온다. \n",
    "- 바로 아래의 값을 가지고는 오는 방법? : n = -1\n",
    "### 값의 차이를 출력하는 함수\n",
    "> diff(periods = n , axis = n)\n",
    "- 바로 전의 인덱스의 값과의 차이를 출력\n",
    "- periods 기본값이 1 shift와 마찬가지로 행, 열의 수를 지정\n",
    "- axis 기본값은 0 , 1이면 컬럼을 이동 "
   ]
  },
  {
   "cell_type": "code",
   "execution_count": null,
   "metadata": {},
   "outputs": [],
   "source": [
    "# 새로운 파생변수 \n",
    "# 일일확진자, 일일사망자 컬럼을 추가 \n",
    "# 일일확진자 -> decideCnt 컬럼의 차이를 구해서 그 값을 컬럼에 삽입\n",
    "# 첫번째 인덱스의 값이 NaN이 나오는 이유는?\n",
    "# 위에 값이 존재하지 않기때문에 계산이 불가능\n",
    "# NaN 결측치의 값을 채워주는 함수\n",
    "# fillna(n)\n",
    "# n의 값으로 NaN을 대체한다. \n",
    "print((corona[\"decideCnt\"] - corona[\"decideCnt\"].shift(1)).fillna(0))\n",
    "corona[\"일일확진자\"] = corona[\"decideCnt\"].diff().fillna(0)"
   ]
  },
  {
   "cell_type": "code",
   "execution_count": null,
   "metadata": {},
   "outputs": [],
   "source": [
    "corona.head(1)"
   ]
  },
  {
   "cell_type": "code",
   "execution_count": null,
   "metadata": {},
   "outputs": [],
   "source": [
    "## 일일사망자 파생변수 생성\n",
    "## deathCnt 값의 차이를 삽입\n",
    "## NaN값은 0으로 대체하여 파생변수 생성\n",
    "corona[\"일일사망자\"] = (corona[\"deathCnt\"] - corona[\"deathCnt\"].shift(1)).fillna(0)"
   ]
  },
  {
   "cell_type": "code",
   "execution_count": null,
   "metadata": {},
   "outputs": [],
   "source": [
    "corona.head(1)"
   ]
  },
  {
   "cell_type": "markdown",
   "metadata": {},
   "source": [
    "### fillna()\n",
    "- 결측치를 ()안에 값으로 채워주는 함수\n",
    "- method 속성 : ffill, bfill\n",
    "    - ffill : 전의 행의 값이 존재하면 그 값으로 대체한다. \n",
    "    - bfill : 후의 행의 값이 존재하면 그 값으로 대체한다. "
   ]
  },
  {
   "cell_type": "code",
   "execution_count": null,
   "metadata": {},
   "outputs": [],
   "source": [
    "# accExamCnt 컬럼에는 결측치 존재\n",
    "# 해당 컬럼의 결측치의 개수를 확인\n",
    "# fillna() 함수를 이용하여 데이터를 삽입 \n",
    "# ffill이라는 method 속성을 사용하여 값을 삽입\n",
    "\n",
    "corona[\"accExamCnt\"].isna().sum()\n"
   ]
  },
  {
   "cell_type": "code",
   "execution_count": null,
   "metadata": {},
   "outputs": [],
   "source": [
    "# 결측치인 부분만 출력\n",
    "# accExamCnt의 값이 결측치인 데이터만 출력\n",
    "# loc[인덱스의 조건, 컬럼의 조건]\n",
    "# 조건을 입력하지 않으면 전체를 출력\n",
    "# corona.loc[결측치인 부분 조건, ]\n",
    "# 결측치인 부분 조건 : corona[\"accExamCnt\"].isna()\n",
    "corona.loc[corona[\"accExamCnt\"].isna(), ]"
   ]
  },
  {
   "cell_type": "code",
   "execution_count": null,
   "metadata": {},
   "outputs": [],
   "source": [
    "# 결측치 아닌 부분만 출력\n",
    "corona.loc[~corona[\"accExamCnt\"].isna(), ]\n",
    "# ~ 연산자 : 부정\n",
    "# True -> False, False -> True"
   ]
  },
  {
   "cell_type": "code",
   "execution_count": null,
   "metadata": {},
   "outputs": [],
   "source": [
    "# isin() -> ()안에 들어간 값들이 존재하면 True, 아니면 False\n",
    "import numpy as np"
   ]
  },
  {
   "cell_type": "code",
   "execution_count": null,
   "metadata": {},
   "outputs": [],
   "source": [
    "# isin([특정값, 특정값2]) 리스트 안에 있는 값들이 포함되어있으면 True 아니면 False\n",
    "\n",
    "corona[\"accExamCnt\"].isin([np.nan, np.inf, -np.inf])\n",
    "corona.loc[corona[\"accExamCnt\"].isin([np.nan, np.inf, -np.inf]), ]"
   ]
  },
  {
   "cell_type": "code",
   "execution_count": null,
   "metadata": {},
   "outputs": [],
   "source": [
    "## ffill을 전의 데이터를 가지고와서 값을 삽입\n",
    "## bfill은 데이터가 삽입이 되지 않는다. 이유는?\n",
    "## 후의 데이터의 값을 채워주는 기능. 후의 데이터중에 결측치가 아닌 값이 존재X\n",
    "## 결과적으로 NaN으로 채워진다.\n",
    "corona[\"accExamCnt\"].fillna(method='bfill')"
   ]
  },
  {
   "cell_type": "markdown",
   "metadata": {},
   "source": [
    "> apply() \n",
    "- 데이터프레임에 각 항목들의 데이터를 변환 시켜주는 함수\n",
    "- 표의 형태의 각 셀의 값.-> apply(연산)->연산 안에 각 셀의 값을 넣어서 변환\n",
    "> lambda()\n",
    "- 함수를 선언과 동시에 호출을 하는 기능\n"
   ]
  },
  {
   "cell_type": "code",
   "execution_count": null,
   "metadata": {},
   "outputs": [],
   "source": [
    "## 일반함수를 선언하고 apply()이용하여 \n",
    "## 파생변수 생성\n",
    "## corona데이터에서 accDefRate 컬럼의 값이 1.55보다 크면 High, \n",
    "## 작거나 같으면 Low의 값이 들어가는 H/L 파생변수를 생성\n",
    "def change(x):\n",
    "    if x > 1.55:\n",
    "        return \"High\"\n",
    "    else:\n",
    "        return \"Low\"\n",
    "\n",
    "corona[\"H/L\"] = corona[\"accDefRate\"].apply(change)"
   ]
  },
  {
   "cell_type": "code",
   "execution_count": null,
   "metadata": {},
   "outputs": [],
   "source": [
    "## 위와 같은 과정을 일반 함수가 아닌 lambda함수를 이용하여 \n",
    "## 파생변수 생성\n",
    "\n",
    "corona[\"H/L\"] = corona[\"accDefRate\"].apply(lambda x : \"High\" if (x > 1.55) else \"Low\")"
   ]
  },
  {
   "cell_type": "code",
   "execution_count": null,
   "metadata": {},
   "outputs": [],
   "source": [
    "corona.head(1)"
   ]
  },
  {
   "cell_type": "code",
   "execution_count": null,
   "metadata": {},
   "outputs": [],
   "source": [
    "## 새로운 파생 변수의 데이터의 빈도수를 체크하는 함수\n",
    "## value_counts()\n",
    "corona[\"H/L\"].value_counts()"
   ]
  },
  {
   "cell_type": "markdown",
   "metadata": {},
   "source": [
    "### 데이터의 결합\n",
    "> concat()\n",
    "- axis속성 0, 1 행을 결합, 열을 결합 지정(기본값은 행을 추가)\n",
    "- 단순하게 데이터를 결합\n",
    "> merge()\n",
    "- 특정한 조건을 기준으로 하여 데이터를 결합\n",
    "- on 속성에서 합쳐질 데이터프레임의 조건을 넣어주는 부분\n",
    "- 조건에 맞는 컬럼의 값을 넣어준다. \n",
    "- how 속성 left : 왼쪽에 있는 데이터프레임을 기준, right : 오른쪽에 있는 데이터프레임을 기준, inneer : 두 데이터프레임의 교집합, outer : 두 데이터프레임의 합집합\n",
    "- how는 기준이 되는 데이터프레임을 지정 "
   ]
  },
  {
   "cell_type": "code",
   "execution_count": null,
   "metadata": {},
   "outputs": [],
   "source": [
    "## tran_1, tran_2 두 데이터프레임을 유니언 결합\n",
    "## tran_d_1, tran_d_2 두 데이터프레임을 유니언 결합\n",
    "## 두 과정에서 나온 데이터프레임을 left를 기준으로 join 결합 \n",
    "tran_1 = pd.read_csv(\"../csv/tran_1.csv\")\n",
    "tran_2 = pd.read_csv(\"../csv/tran_2.csv\")\n",
    "tran_d_1 = pd.read_csv(\"../csv/tran_d_1.csv\")\n",
    "tran_d_2= pd.read_csv(\"../csv/tran_d_2.csv\")"
   ]
  },
  {
   "cell_type": "code",
   "execution_count": null,
   "metadata": {},
   "outputs": [],
   "source": [
    "tran = pd.concat([tran_1, tran_2])\n",
    "tran_d = pd.concat([tran_d_1, tran_d_2])"
   ]
  },
  {
   "cell_type": "code",
   "execution_count": null,
   "metadata": {},
   "outputs": [],
   "source": [
    "total_tran = pd.merge(tran, tran_d, on=\"transaction_id\", how='left')"
   ]
  },
  {
   "cell_type": "code",
   "execution_count": null,
   "metadata": {},
   "outputs": [],
   "source": [
    "total_tran.head(2)"
   ]
  },
  {
   "cell_type": "code",
   "execution_count": null,
   "metadata": {},
   "outputs": [],
   "source": [
    "## 1.00e+10 지수 표현식 없애기 \n",
    "pd.options.display.float_format = '{:.5f}'.format\n",
    "\n",
    "## 되돌리기\n",
    "pd.reset_option('display.float_format')"
   ]
  },
  {
   "cell_type": "code",
   "execution_count": null,
   "metadata": {},
   "outputs": [],
   "source": [
    "## datetime형태의 데이터에서 일부만 추출하는 방법\n",
    "## payment_date 컬럼의 데이터를 datetime 형으로 변경\n",
    "## payment_month 새로운 파생변수 생성\n",
    "## 이 파생변수에 년-월 삽입\n",
    "total_tran[\"payment_date\"] = pd.to_datetime(total_tran[\"payment_date\"])"
   ]
  },
  {
   "cell_type": "code",
   "execution_count": null,
   "metadata": {},
   "outputs": [],
   "source": [
    "## 새로운 파생변수 생성\n",
    "total_tran[\"payment_month\"] = total_tran[\"payment_date\"].dt.strftime('%Y-%m')"
   ]
  },
  {
   "cell_type": "markdown",
   "metadata": {},
   "source": [
    "### 그룹화 \n",
    "> groupby()\n",
    "- 특정한 컬럼을 지정을 해서 데이터들이 같은 값들을 그룹화\n",
    "- 그룹화된 데이터들의 평균이나 합계 최대, 최소 값, 표준편차 와 같은 통계량을 생성할 수 있다. "
   ]
  },
  {
   "cell_type": "code",
   "execution_count": null,
   "metadata": {},
   "outputs": [],
   "source": [
    "# payment_month 컬럼을 기준으로 그룹화 \n",
    "# 월별 price의 평균\n",
    "total_tran.groupby(\"payment_month\").mean()[['price']]"
   ]
  },
  {
   "cell_type": "code",
   "execution_count": null,
   "metadata": {},
   "outputs": [],
   "source": [
    "total_tran[\"price\"]  # 데이터의 형태는 스리즈 리턴\n",
    "total_tran[[\"price\"]] # 데이터의 형태가 데이터프레임 리턴"
   ]
  },
  {
   "cell_type": "code",
   "execution_count": null,
   "metadata": {},
   "outputs": [],
   "source": [
    "total_tran"
   ]
  },
  {
   "cell_type": "code",
   "execution_count": null,
   "metadata": {},
   "outputs": [],
   "source": [
    "# 다중 그룹화\n",
    "total_tran.groupby([\"payment_month\", \"item_id\"]).mean()[[\"price\"]]"
   ]
  },
  {
   "cell_type": "code",
   "execution_count": null,
   "metadata": {},
   "outputs": [],
   "source": [
    "## 다중 그룹화 \n",
    "## payment_month, item_id 다중 그룹화를 한 뒤\n",
    "## price의 합계, 평균, 최대, 최소 값을 구하시오.\n",
    "total_tran.groupby([\"payment_month\", \"item_id\"]).agg(\n",
    "    ['sum', 'mean', 'min', 'max'])[\"price\"]"
   ]
  },
  {
   "cell_type": "markdown",
   "metadata": {},
   "source": [
    "### 예제 \n",
    "1. drinks.csv 파일 로드 \n",
    "2. 결측치를 확인 \n",
    "3. continent 컬럼에 결측치 존재 -> 결측치를 'OT'로 변경\n",
    "4. continent 별 wine_servings 컬럼의 평균, 최소, 최대 값을 출력\n",
    "5. total_litres_of_pure_alcohol 컬럼에서 전체 값의 평균보다 continent별 평균이 더 높은 지역은 어디인지 출력 "
   ]
  },
  {
   "cell_type": "code",
   "execution_count": null,
   "metadata": {},
   "outputs": [],
   "source": [
    "# 파일 로드\n",
    "drinks = pd.read_csv(\"../csv/drinks.csv\")\n",
    "drinks.head(1)"
   ]
  },
  {
   "cell_type": "code",
   "execution_count": null,
   "metadata": {},
   "outputs": [],
   "source": [
    "# 결측치가 존재하는지 확인\n",
    "drinks.isna().sum()"
   ]
  },
  {
   "cell_type": "code",
   "execution_count": null,
   "metadata": {},
   "outputs": [],
   "source": [
    "# continent에 있는 결측치의 값을 'OT'로 변경\n",
    "drinks[\"continent\"] = drinks[\"continent\"].fillna('OT')"
   ]
  },
  {
   "cell_type": "code",
   "execution_count": null,
   "metadata": {},
   "outputs": [],
   "source": [
    "# continent별 와인의 소비량 평균 최소 최대 값을 출력\n",
    "drinks.groupby(\"continent\").agg(['mean', 'min', 'max'])[\"wine_servings\"]"
   ]
  },
  {
   "cell_type": "code",
   "execution_count": null,
   "metadata": {},
   "outputs": [],
   "source": [
    "# total_litres_of_pure_alcohol 데이터의 전체 평균 값보다 \n",
    "# continent별 평균의 값이 큰 지역을 출력\n",
    "\n",
    "\n",
    "total_mean = drinks[\"total_litres_of_pure_alcohol\"].mean()"
   ]
  },
  {
   "cell_type": "code",
   "execution_count": null,
   "metadata": {},
   "outputs": [],
   "source": [
    "# continent별 전체 술 소비량의 평균 값을 변수 삽입\n",
    "continent_mean = drinks.groupby(\"continent\").mean()\\\n",
    "    [[\"total_litres_of_pure_alcohol\"]]"
   ]
  },
  {
   "cell_type": "code",
   "execution_count": null,
   "metadata": {},
   "outputs": [],
   "source": [
    "# 데이터가 스리즈인 경우\n",
    "continent_mean[continent_mean >= total_mean]\n",
    "\n",
    "# 데이터가 데이터프레임인 경우\n",
    "continent_mean.loc[\n",
    "    continent_mean[\"total_litres_of_pure_alcohol\"] >= total_mean, ]"
   ]
  },
  {
   "cell_type": "code",
   "execution_count": null,
   "metadata": {},
   "outputs": [],
   "source": [
    "## uriage.csv 로드 \n",
    "uriage = pd.read_csv(\"../csv/uriage.csv\")\n",
    "uriage"
   ]
  },
  {
   "cell_type": "code",
   "execution_count": null,
   "metadata": {},
   "outputs": [],
   "source": [
    "# item_name이라는 컬럼의 값이 공백 존재, 대소문자 구분 X\n",
    "# 공백이 존재하는데 공백을 제거 \n",
    "# strip() : 컨텐츠의 양쪽 공백을 삭제 , rstrip()/lstrip()\n",
    "# strip()에서는 글자 간 사이의 공백 삭제X\n",
    "# 공백이라는 부분을 아무것도 없는 형태로 대체 ( \" \" -> \"\" )\n",
    "# 이런 상황에서는 어떤 함수를 사용하는가? 뭔가 대체를 한다?\n",
    "# replace()\n",
    "# replace(변경이될문자열, 변경할문자열)\n",
    "#item_name 공백을 전부 삭제\n",
    "\n",
    "# case1 \n",
    "uriage[\"item_name\"] = uriage[\"item_name\"].str.replace(\" \", \"\")\n"
   ]
  },
  {
   "cell_type": "code",
   "execution_count": null,
   "metadata": {},
   "outputs": [],
   "source": [
    "#대 소문자 부분을 통일\n",
    "# item_name이라는 데이터는 전부 소문자로 변경\n",
    "# 대문자로 변경을 하는 함수 : upper()\n",
    "# 소문자로 변경을 하는 함수 : lower()\n",
    "uriage[\"item_name\"] = uriage[\"item_name\"].str.lower()"
   ]
  },
  {
   "cell_type": "code",
   "execution_count": null,
   "metadata": {},
   "outputs": [],
   "source": [
    "## 공백제거, 소문자로 변경을 하는 두번의 작업을 \n",
    "## apply() 함수를 이용하여 한번에 처리 \n",
    "test = \"a b c d e f\"\n",
    "\n",
    "test.replace(\" \", \"\")\n",
    "\n",
    "test.upper()\n"
   ]
  },
  {
   "cell_type": "code",
   "execution_count": null,
   "metadata": {},
   "outputs": [],
   "source": [
    "def change(x):\n",
    "    # x값 -> 컬럼에 있는 데이터 1개씩\n",
    "    # item_name에 있는 데이터 형태-> string\n",
    "    result = x.replace(\" \", \"\").lower()\n",
    "    # result = result.lower()\n",
    "    return result\n",
    "\n",
    "uriage[\"item_name\"].apply(change)"
   ]
  },
  {
   "cell_type": "code",
   "execution_count": null,
   "metadata": {},
   "outputs": [],
   "source": [
    "uriage[\"item_name\"].apply(lambda x : x.replace(\" \", \"\").lower())"
   ]
  },
  {
   "cell_type": "code",
   "execution_count": null,
   "metadata": {},
   "outputs": [],
   "source": [
    "import matplotlib.pyplot as plt"
   ]
  },
  {
   "cell_type": "code",
   "execution_count": null,
   "metadata": {},
   "outputs": [],
   "source": [
    "y= [1,2,3,4]\n",
    "plt.plot(y)\n",
    "plt.show()"
   ]
  },
  {
   "cell_type": "code",
   "execution_count": null,
   "metadata": {},
   "outputs": [],
   "source": [
    "y = [13, 62, 43, 66]\n",
    "plt.plot(range(len(y)), y)\n",
    "plt.show()"
   ]
  },
  {
   "cell_type": "code",
   "execution_count": null,
   "metadata": {},
   "outputs": [],
   "source": [
    "x = np.linspace(-5, 5, 101)\n",
    "x"
   ]
  },
  {
   "cell_type": "code",
   "execution_count": null,
   "metadata": {},
   "outputs": [],
   "source": [
    "y = (1 / np.sqrt(2 * np.pi)) * np.exp(-x ** 2 / 2)\n",
    "y"
   ]
  },
  {
   "cell_type": "code",
   "execution_count": null,
   "metadata": {},
   "outputs": [],
   "source": [
    "plt.figure(figsize=(10, 6)) # 그래프 사이즈를 변경\n",
    "plt.plot(x, y)\n",
    "plt.xlabel(\"X\") #x축 라벨\n",
    "plt.ylabel(\"Y\") #y축 라벨\n",
    "plt.grid()      #그래프에 격자표시\n",
    "plt.title(\"Nomal Distribution without scipy\") #그래프의 제목\n",
    "plt.legend([\"N(0,1)\"]) #그래프의 범례 추가\n",
    "plt.show()"
   ]
  },
  {
   "cell_type": "code",
   "execution_count": null,
   "metadata": {},
   "outputs": [],
   "source": [
    "pip install scipy"
   ]
  },
  {
   "cell_type": "code",
   "execution_count": null,
   "metadata": {},
   "outputs": [],
   "source": [
    "import scipy.stats as stats"
   ]
  },
  {
   "cell_type": "code",
   "execution_count": null,
   "metadata": {},
   "outputs": [],
   "source": [
    "x = np.linspace(-5, 5 , 101)\n",
    "y1 = stats.norm(0,1).pdf(x)\n",
    "y2 = stats.norm(0,2).pdf(x)\n",
    "y3 = stats.norm(0,3).pdf(x)\n",
    "y4 = stats.norm(0,4).pdf(x)\n"
   ]
  },
  {
   "cell_type": "code",
   "execution_count": null,
   "metadata": {},
   "outputs": [],
   "source": [
    "plt.figure(figsize=(6, 4))\n",
    "plt.plot(x, y1)\n",
    "plt.plot(x, y2)\n",
    "plt.plot(x, y3)\n",
    "plt.plot(x, y4)\n",
    "plt.show()"
   ]
  },
  {
   "cell_type": "markdown",
   "metadata": {},
   "source": [
    "### 예제\n",
    "1. csv폴더 안에 있는 num_3폴더에 csv들을 로드\n",
    "2. uselog데이터를 제외한 3개의 데이터프레임을 join 결합\n",
    "3. 2019년 01월 01일 이후의 데이터를 출력"
   ]
  },
  {
   "cell_type": "code",
   "execution_count": null,
   "metadata": {},
   "outputs": [],
   "source": [
    "campaign = pd.read_csv(\"../csv/num_3/campaign_master.csv\")\n",
    "class_master = pd.read_csv(\"../csv/num_3/class_master.csv\")\n",
    "customer = pd.read_csv(\"../csv/num_3/customer_master.csv\")\n",
    "use = pd.read_csv(\"../csv/num_3/use_log.csv\")"
   ]
  },
  {
   "cell_type": "code",
   "execution_count": null,
   "metadata": {},
   "outputs": [],
   "source": [
    "campaign"
   ]
  },
  {
   "cell_type": "code",
   "execution_count": null,
   "metadata": {},
   "outputs": [],
   "source": [
    "class_master"
   ]
  },
  {
   "cell_type": "code",
   "execution_count": null,
   "metadata": {},
   "outputs": [],
   "source": [
    "customer"
   ]
  },
  {
   "cell_type": "code",
   "execution_count": 166,
   "metadata": {},
   "outputs": [
    {
     "data": {
      "text/html": [
       "<div>\n",
       "<style scoped>\n",
       "    .dataframe tbody tr th:only-of-type {\n",
       "        vertical-align: middle;\n",
       "    }\n",
       "\n",
       "    .dataframe tbody tr th {\n",
       "        vertical-align: top;\n",
       "    }\n",
       "\n",
       "    .dataframe thead th {\n",
       "        text-align: right;\n",
       "    }\n",
       "</style>\n",
       "<table border=\"1\" class=\"dataframe\">\n",
       "  <thead>\n",
       "    <tr style=\"text-align: right;\">\n",
       "      <th></th>\n",
       "      <th>customer_id</th>\n",
       "      <th>name</th>\n",
       "      <th>class</th>\n",
       "      <th>gender</th>\n",
       "      <th>start_date</th>\n",
       "      <th>end_date</th>\n",
       "      <th>campaign_id</th>\n",
       "      <th>is_deleted</th>\n",
       "      <th>class_name</th>\n",
       "      <th>price</th>\n",
       "      <th>campaign_name</th>\n",
       "    </tr>\n",
       "  </thead>\n",
       "  <tbody>\n",
       "    <tr>\n",
       "      <th>0</th>\n",
       "      <td>OA832399</td>\n",
       "      <td>XXXX</td>\n",
       "      <td>C01</td>\n",
       "      <td>F</td>\n",
       "      <td>2015-05-01 00:00:00</td>\n",
       "      <td>NaN</td>\n",
       "      <td>CA1</td>\n",
       "      <td>0</td>\n",
       "      <td>0_종일</td>\n",
       "      <td>10500</td>\n",
       "      <td>2_일반</td>\n",
       "    </tr>\n",
       "    <tr>\n",
       "      <th>1</th>\n",
       "      <td>PL270116</td>\n",
       "      <td>XXXXX</td>\n",
       "      <td>C01</td>\n",
       "      <td>M</td>\n",
       "      <td>2015-05-01 00:00:00</td>\n",
       "      <td>NaN</td>\n",
       "      <td>CA1</td>\n",
       "      <td>0</td>\n",
       "      <td>0_종일</td>\n",
       "      <td>10500</td>\n",
       "      <td>2_일반</td>\n",
       "    </tr>\n",
       "  </tbody>\n",
       "</table>\n",
       "</div>"
      ],
      "text/plain": [
       "  customer_id   name class gender           start_date end_date campaign_id  \\\n",
       "0    OA832399   XXXX   C01      F  2015-05-01 00:00:00      NaN         CA1   \n",
       "1    PL270116  XXXXX   C01      M  2015-05-01 00:00:00      NaN         CA1   \n",
       "\n",
       "   is_deleted class_name  price campaign_name  \n",
       "0           0       0_종일  10500          2_일반  \n",
       "1           0       0_종일  10500          2_일반  "
      ]
     },
     "execution_count": 166,
     "metadata": {},
     "output_type": "execute_result"
    }
   ],
   "source": [
    "customer_join = pd.merge(customer, class_master, on=\"class\", how=\"left\")\n",
    "customer_join = pd.merge(customer_join, campaign, on='campaign_id', how=\"left\")\n",
    "customer_join.head(2)"
   ]
  },
  {
   "cell_type": "code",
   "execution_count": 168,
   "metadata": {},
   "outputs": [],
   "source": [
    "customer_join[\"start_date\"] = pd.to_datetime(customer_join[\"start_date\"])"
   ]
  },
  {
   "cell_type": "code",
   "execution_count": null,
   "metadata": {},
   "outputs": [],
   "source": [
    "customer_join[customer_join[\"start_date\"] >= pd.to_datetime(\"2019-01-01\")]"
   ]
  }
 ],
 "metadata": {
  "kernelspec": {
   "display_name": "Python 3.6.8 64-bit",
   "language": "python",
   "name": "python3"
  },
  "language_info": {
   "codemirror_mode": {
    "name": "ipython",
    "version": 3
   },
   "file_extension": ".py",
   "mimetype": "text/x-python",
   "name": "python",
   "nbconvert_exporter": "python",
   "pygments_lexer": "ipython3",
   "version": "3.6.8"
  },
  "orig_nbformat": 4,
  "vscode": {
   "interpreter": {
    "hash": "187f19b7e1a6c9dce315ccb3b0d07c5b7aeed6681cd1ee8ee772db2198b62651"
   }
  }
 },
 "nbformat": 4,
 "nbformat_minor": 2
}
