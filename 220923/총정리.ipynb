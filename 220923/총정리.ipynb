{
 "cells": [
  {
   "cell_type": "markdown",
   "metadata": {},
   "source": [
    "### 경로 ( 상대경로 / 절대경로 )\n",
    "> 절대경로\n",
    "- 절대적인 주소\n",
    "- 환경에 상관없이 고정된 위치를 표현\n",
    "- ex) \"http://www.google.com\", \"c:\\users\\document\"\n",
    "> 상대경로\n",
    "- 상대적인 주소\n",
    "- 환경에 따라서 주소가 바뀌는 구조 \n",
    "- 현재 작업중인 디렉토리에서 상위, 하위, 현재\n",
    "- ex) \n",
    "    - 현재 디렉토리 : ./\n",
    "    - 상위 디렉토리 : ../\n",
    "    - 하위 디렉토리 : ./폴더명/\n",
    "    - 상위에서 상위 디렉토리 : ../../"
   ]
  },
  {
   "cell_type": "code",
   "execution_count": 2,
   "metadata": {},
   "outputs": [],
   "source": [
    "import pandas as pd \n",
    "import matplotlib.pyplot as plt"
   ]
  },
  {
   "cell_type": "code",
   "execution_count": 3,
   "metadata": {},
   "outputs": [
    {
     "data": {
      "text/html": [
       "<div>\n",
       "<style scoped>\n",
       "    .dataframe tbody tr th:only-of-type {\n",
       "        vertical-align: middle;\n",
       "    }\n",
       "\n",
       "    .dataframe tbody tr th {\n",
       "        vertical-align: top;\n",
       "    }\n",
       "\n",
       "    .dataframe thead th {\n",
       "        text-align: right;\n",
       "    }\n",
       "</style>\n",
       "<table border=\"1\" class=\"dataframe\">\n",
       "  <thead>\n",
       "    <tr style=\"text-align: right;\">\n",
       "      <th></th>\n",
       "      <th>Region</th>\n",
       "      <th>Country</th>\n",
       "      <th>Item Type</th>\n",
       "      <th>Sales Channel</th>\n",
       "      <th>Order Priority</th>\n",
       "      <th>Order Date</th>\n",
       "      <th>Order ID</th>\n",
       "      <th>Ship Date</th>\n",
       "      <th>Units Sold</th>\n",
       "      <th>Unit Price</th>\n",
       "      <th>Unit Cost</th>\n",
       "      <th>Total Revenue</th>\n",
       "      <th>Total Cost</th>\n",
       "      <th>Total Profit</th>\n",
       "    </tr>\n",
       "  </thead>\n",
       "  <tbody>\n",
       "    <tr>\n",
       "      <th>0</th>\n",
       "      <td>Sub-Saharan Africa</td>\n",
       "      <td>Chad</td>\n",
       "      <td>Office Supplies</td>\n",
       "      <td>Online</td>\n",
       "      <td>L</td>\n",
       "      <td>1/27/2011</td>\n",
       "      <td>292494523</td>\n",
       "      <td>2/12/2011</td>\n",
       "      <td>4484</td>\n",
       "      <td>651.21</td>\n",
       "      <td>524.96</td>\n",
       "      <td>2920025.64</td>\n",
       "      <td>2353920.64</td>\n",
       "      <td>566105.00</td>\n",
       "    </tr>\n",
       "    <tr>\n",
       "      <th>1</th>\n",
       "      <td>Europe</td>\n",
       "      <td>Latvia</td>\n",
       "      <td>Beverages</td>\n",
       "      <td>Online</td>\n",
       "      <td>C</td>\n",
       "      <td>12/28/2015</td>\n",
       "      <td>361825549</td>\n",
       "      <td>1/23/2016</td>\n",
       "      <td>1075</td>\n",
       "      <td>47.45</td>\n",
       "      <td>31.79</td>\n",
       "      <td>51008.75</td>\n",
       "      <td>34174.25</td>\n",
       "      <td>16834.50</td>\n",
       "    </tr>\n",
       "    <tr>\n",
       "      <th>2</th>\n",
       "      <td>Middle East and North Africa</td>\n",
       "      <td>Pakistan</td>\n",
       "      <td>Vegetables</td>\n",
       "      <td>Offline</td>\n",
       "      <td>C</td>\n",
       "      <td>1/13/2011</td>\n",
       "      <td>141515767</td>\n",
       "      <td>2/1/2011</td>\n",
       "      <td>6515</td>\n",
       "      <td>154.06</td>\n",
       "      <td>90.93</td>\n",
       "      <td>1003700.90</td>\n",
       "      <td>592408.95</td>\n",
       "      <td>411291.95</td>\n",
       "    </tr>\n",
       "    <tr>\n",
       "      <th>3</th>\n",
       "      <td>Sub-Saharan Africa</td>\n",
       "      <td>Democratic Republic of the Congo</td>\n",
       "      <td>Household</td>\n",
       "      <td>Online</td>\n",
       "      <td>C</td>\n",
       "      <td>9/11/2012</td>\n",
       "      <td>500364005</td>\n",
       "      <td>10/6/2012</td>\n",
       "      <td>7683</td>\n",
       "      <td>668.27</td>\n",
       "      <td>502.54</td>\n",
       "      <td>5134318.41</td>\n",
       "      <td>3861014.82</td>\n",
       "      <td>1273303.59</td>\n",
       "    </tr>\n",
       "    <tr>\n",
       "      <th>4</th>\n",
       "      <td>Europe</td>\n",
       "      <td>Czech Republic</td>\n",
       "      <td>Beverages</td>\n",
       "      <td>Online</td>\n",
       "      <td>C</td>\n",
       "      <td>10/27/2015</td>\n",
       "      <td>127481591</td>\n",
       "      <td>12/5/2015</td>\n",
       "      <td>3491</td>\n",
       "      <td>47.45</td>\n",
       "      <td>31.79</td>\n",
       "      <td>165647.95</td>\n",
       "      <td>110978.89</td>\n",
       "      <td>54669.06</td>\n",
       "    </tr>\n",
       "  </tbody>\n",
       "</table>\n",
       "</div>"
      ],
      "text/plain": [
       "                         Region                           Country  \\\n",
       "0            Sub-Saharan Africa                              Chad   \n",
       "1                        Europe                            Latvia   \n",
       "2  Middle East and North Africa                          Pakistan   \n",
       "3            Sub-Saharan Africa  Democratic Republic of the Congo   \n",
       "4                        Europe                    Czech Republic   \n",
       "\n",
       "         Item Type Sales Channel Order Priority  Order Date   Order ID  \\\n",
       "0  Office Supplies        Online              L   1/27/2011  292494523   \n",
       "1        Beverages        Online              C  12/28/2015  361825549   \n",
       "2       Vegetables       Offline              C   1/13/2011  141515767   \n",
       "3        Household        Online              C   9/11/2012  500364005   \n",
       "4        Beverages        Online              C  10/27/2015  127481591   \n",
       "\n",
       "   Ship Date  Units Sold  Unit Price  Unit Cost  Total Revenue  Total Cost  \\\n",
       "0  2/12/2011        4484      651.21     524.96     2920025.64  2353920.64   \n",
       "1  1/23/2016        1075       47.45      31.79       51008.75    34174.25   \n",
       "2   2/1/2011        6515      154.06      90.93     1003700.90   592408.95   \n",
       "3  10/6/2012        7683      668.27     502.54     5134318.41  3861014.82   \n",
       "4  12/5/2015        3491       47.45      31.79      165647.95   110978.89   \n",
       "\n",
       "   Total Profit  \n",
       "0     566105.00  \n",
       "1      16834.50  \n",
       "2     411291.95  \n",
       "3    1273303.59  \n",
       "4      54669.06  "
      ]
     },
     "execution_count": 3,
     "metadata": {},
     "output_type": "execute_result"
    }
   ],
   "source": [
    "# 상위 폴더에 있는 csv 폴더에서 sales records.csv 파일을 로드\n",
    "# pandas read_csv(경로, 인코딩) 함수를 이용하여 csv 파일 로드\n",
    "df = pd.read_csv(\"../csv/Sales Records.csv\", encoding=\"UTF-8\")\n",
    "df.head()"
   ]
  },
  {
   "cell_type": "code",
   "execution_count": 5,
   "metadata": {},
   "outputs": [
    {
     "data": {
      "text/plain": [
       "Region            0\n",
       "Country           0\n",
       "Item Type         0\n",
       "Sales Channel     0\n",
       "Order Priority    0\n",
       "Order Date        0\n",
       "Order ID          0\n",
       "Ship Date         0\n",
       "Units Sold        0\n",
       "Unit Price        0\n",
       "Unit Cost         0\n",
       "Total Revenue     0\n",
       "Total Cost        0\n",
       "Total Profit      0\n",
       "dtype: int64"
      ]
     },
     "execution_count": 5,
     "metadata": {},
     "output_type": "execute_result"
    }
   ],
   "source": [
    "# 결측치면 True 결측치가 아니면 False 출력을 해주는 함수\n",
    "# 결측치의 여부를 판단하는 함수는 -> isna()\n",
    "# 결측치의 개수를 파악하기위해서는? -> isna().sum()\n",
    "# 여기에서 개수가 파악이 되는 이유는 -> True : 1, False : 0\n",
    "df.isna().sum()"
   ]
  },
  {
   "cell_type": "code",
   "execution_count": 6,
   "metadata": {},
   "outputs": [
    {
     "data": {
      "text/html": [
       "<div>\n",
       "<style scoped>\n",
       "    .dataframe tbody tr th:only-of-type {\n",
       "        vertical-align: middle;\n",
       "    }\n",
       "\n",
       "    .dataframe tbody tr th {\n",
       "        vertical-align: top;\n",
       "    }\n",
       "\n",
       "    .dataframe thead th {\n",
       "        text-align: right;\n",
       "    }\n",
       "</style>\n",
       "<table border=\"1\" class=\"dataframe\">\n",
       "  <thead>\n",
       "    <tr style=\"text-align: right;\">\n",
       "      <th></th>\n",
       "      <th>Order ID</th>\n",
       "      <th>Units Sold</th>\n",
       "      <th>Unit Price</th>\n",
       "      <th>Unit Cost</th>\n",
       "      <th>Total Revenue</th>\n",
       "      <th>Total Cost</th>\n",
       "      <th>Total Profit</th>\n",
       "    </tr>\n",
       "  </thead>\n",
       "  <tbody>\n",
       "    <tr>\n",
       "      <th>count</th>\n",
       "      <td>1.000000e+04</td>\n",
       "      <td>10000.000000</td>\n",
       "      <td>10000.000000</td>\n",
       "      <td>10000.000000</td>\n",
       "      <td>1.000000e+04</td>\n",
       "      <td>1.000000e+04</td>\n",
       "      <td>1.000000e+04</td>\n",
       "    </tr>\n",
       "    <tr>\n",
       "      <th>mean</th>\n",
       "      <td>5.498719e+08</td>\n",
       "      <td>5002.855900</td>\n",
       "      <td>268.143139</td>\n",
       "      <td>188.806639</td>\n",
       "      <td>1.333355e+06</td>\n",
       "      <td>9.382658e+05</td>\n",
       "      <td>3.950893e+05</td>\n",
       "    </tr>\n",
       "    <tr>\n",
       "      <th>std</th>\n",
       "      <td>2.607835e+08</td>\n",
       "      <td>2873.246454</td>\n",
       "      <td>217.944092</td>\n",
       "      <td>176.445907</td>\n",
       "      <td>1.465026e+06</td>\n",
       "      <td>1.145914e+06</td>\n",
       "      <td>3.775550e+05</td>\n",
       "    </tr>\n",
       "    <tr>\n",
       "      <th>min</th>\n",
       "      <td>1.000892e+08</td>\n",
       "      <td>2.000000</td>\n",
       "      <td>9.330000</td>\n",
       "      <td>6.920000</td>\n",
       "      <td>1.679400e+02</td>\n",
       "      <td>1.245600e+02</td>\n",
       "      <td>4.338000e+01</td>\n",
       "    </tr>\n",
       "    <tr>\n",
       "      <th>25%</th>\n",
       "      <td>3.218067e+08</td>\n",
       "      <td>2530.750000</td>\n",
       "      <td>109.280000</td>\n",
       "      <td>56.670000</td>\n",
       "      <td>2.885511e+05</td>\n",
       "      <td>1.647855e+05</td>\n",
       "      <td>9.832914e+04</td>\n",
       "    </tr>\n",
       "    <tr>\n",
       "      <th>50%</th>\n",
       "      <td>5.485663e+08</td>\n",
       "      <td>4962.000000</td>\n",
       "      <td>205.700000</td>\n",
       "      <td>117.110000</td>\n",
       "      <td>8.000512e+05</td>\n",
       "      <td>4.816058e+05</td>\n",
       "      <td>2.890990e+05</td>\n",
       "    </tr>\n",
       "    <tr>\n",
       "      <th>75%</th>\n",
       "      <td>7.759981e+08</td>\n",
       "      <td>7472.000000</td>\n",
       "      <td>437.200000</td>\n",
       "      <td>364.690000</td>\n",
       "      <td>1.819143e+06</td>\n",
       "      <td>1.183822e+06</td>\n",
       "      <td>5.664227e+05</td>\n",
       "    </tr>\n",
       "    <tr>\n",
       "      <th>max</th>\n",
       "      <td>9.999342e+08</td>\n",
       "      <td>10000.000000</td>\n",
       "      <td>668.270000</td>\n",
       "      <td>524.960000</td>\n",
       "      <td>6.680027e+06</td>\n",
       "      <td>5.241726e+06</td>\n",
       "      <td>1.738178e+06</td>\n",
       "    </tr>\n",
       "  </tbody>\n",
       "</table>\n",
       "</div>"
      ],
      "text/plain": [
       "           Order ID    Units Sold    Unit Price     Unit Cost  Total Revenue  \\\n",
       "count  1.000000e+04  10000.000000  10000.000000  10000.000000   1.000000e+04   \n",
       "mean   5.498719e+08   5002.855900    268.143139    188.806639   1.333355e+06   \n",
       "std    2.607835e+08   2873.246454    217.944092    176.445907   1.465026e+06   \n",
       "min    1.000892e+08      2.000000      9.330000      6.920000   1.679400e+02   \n",
       "25%    3.218067e+08   2530.750000    109.280000     56.670000   2.885511e+05   \n",
       "50%    5.485663e+08   4962.000000    205.700000    117.110000   8.000512e+05   \n",
       "75%    7.759981e+08   7472.000000    437.200000    364.690000   1.819143e+06   \n",
       "max    9.999342e+08  10000.000000    668.270000    524.960000   6.680027e+06   \n",
       "\n",
       "         Total Cost  Total Profit  \n",
       "count  1.000000e+04  1.000000e+04  \n",
       "mean   9.382658e+05  3.950893e+05  \n",
       "std    1.145914e+06  3.775550e+05  \n",
       "min    1.245600e+02  4.338000e+01  \n",
       "25%    1.647855e+05  9.832914e+04  \n",
       "50%    4.816058e+05  2.890990e+05  \n",
       "75%    1.183822e+06  5.664227e+05  \n",
       "max    5.241726e+06  1.738178e+06  "
      ]
     },
     "execution_count": 6,
     "metadata": {},
     "output_type": "execute_result"
    }
   ],
   "source": [
    "# 데이터프레임에 통계 요약 정보 출력 -> describe()\n",
    "# 데이터의 개수, 평균값, 표준편차, 최솟값, 최대값, 1사분위, 중앙값, 3사분위 값을 확인이 가능\n",
    "# 데이터의 형태가 숫자의 형태여야 출력\n",
    "df.describe()"
   ]
  },
  {
   "cell_type": "code",
   "execution_count": 8,
   "metadata": {},
   "outputs": [
    {
     "data": {
      "text/html": [
       "<div>\n",
       "<style scoped>\n",
       "    .dataframe tbody tr th:only-of-type {\n",
       "        vertical-align: middle;\n",
       "    }\n",
       "\n",
       "    .dataframe tbody tr th {\n",
       "        vertical-align: top;\n",
       "    }\n",
       "\n",
       "    .dataframe thead th {\n",
       "        text-align: right;\n",
       "    }\n",
       "</style>\n",
       "<table border=\"1\" class=\"dataframe\">\n",
       "  <thead>\n",
       "    <tr style=\"text-align: right;\">\n",
       "      <th></th>\n",
       "      <th>권역</th>\n",
       "      <th>국가</th>\n",
       "      <th>상품종류</th>\n",
       "      <th>판매채널</th>\n",
       "      <th>우선순위</th>\n",
       "      <th>주문일자</th>\n",
       "      <th>주문ID</th>\n",
       "      <th>발송일자</th>\n",
       "      <th>판매단위</th>\n",
       "      <th>단가</th>\n",
       "      <th>원가</th>\n",
       "      <th>총수익</th>\n",
       "      <th>총비용</th>\n",
       "      <th>총이윤</th>\n",
       "    </tr>\n",
       "  </thead>\n",
       "  <tbody>\n",
       "    <tr>\n",
       "      <th>0</th>\n",
       "      <td>Sub-Saharan Africa</td>\n",
       "      <td>Chad</td>\n",
       "      <td>Office Supplies</td>\n",
       "      <td>Online</td>\n",
       "      <td>L</td>\n",
       "      <td>1/27/2011</td>\n",
       "      <td>292494523</td>\n",
       "      <td>2/12/2011</td>\n",
       "      <td>4484</td>\n",
       "      <td>651.21</td>\n",
       "      <td>524.96</td>\n",
       "      <td>2920025.64</td>\n",
       "      <td>2353920.64</td>\n",
       "      <td>566105.0</td>\n",
       "    </tr>\n",
       "  </tbody>\n",
       "</table>\n",
       "</div>"
      ],
      "text/plain": [
       "                   권역    국가             상품종류    판매채널 우선순위       주문일자  \\\n",
       "0  Sub-Saharan Africa  Chad  Office Supplies  Online    L  1/27/2011   \n",
       "\n",
       "        주문ID       발송일자  판매단위      단가      원가         총수익         총비용  \\\n",
       "0  292494523  2/12/2011  4484  651.21  524.96  2920025.64  2353920.64   \n",
       "\n",
       "        총이윤  \n",
       "0  566105.0  "
      ]
     },
     "execution_count": 8,
     "metadata": {},
     "output_type": "execute_result"
    }
   ],
   "source": [
    "# 데이터의 컬럼의 이름을 변경하는 방법\n",
    "# 데이터프레임명.columns -> 데이터프레임 컬럼을 리스트의 형태로 출력\n",
    "# 이 값을 변경을 시켜주면 컬럼의 이름이 변경\n",
    "# 주의할점. -> 컬럼의 개수를 정확하게 입력을 해야된다. \n",
    "df.columns = [\"권역\", \"국가\", \"상품종류\", \"판매채널\", \"우선순위\", \"주문일자\", \n",
    "            \"주문ID\", \"발송일자\", \"판매단위\", \"단가\", \"원가\", \"총수익\", \"총비용\", \n",
    "            \"총이윤\"]\n",
    "df.head(1)"
   ]
  },
  {
   "cell_type": "code",
   "execution_count": 10,
   "metadata": {},
   "outputs": [
    {
     "data": {
      "text/plain": [
       "0      2011-01-27\n",
       "1      2015-12-28\n",
       "2      2011-01-13\n",
       "3      2012-09-11\n",
       "4      2015-10-27\n",
       "          ...    \n",
       "9995   2014-07-15\n",
       "9996   2012-10-27\n",
       "9997   2013-02-14\n",
       "9998   2017-02-19\n",
       "9999   2016-04-12\n",
       "Name: 주문일자, Length: 10000, dtype: datetime64[ns]"
      ]
     },
     "execution_count": 10,
     "metadata": {},
     "output_type": "execute_result"
    }
   ],
   "source": [
    "# datetime 데이터를 변경\n",
    "# pandas에 내장되어있는 to_datetime()\n",
    "# to_datetime(데이터의 값, format=\"데이터의 구조\")\n",
    "# 주문일자 datetime 형태로 변경\n",
    "df[\"주문일자\"] = pd.to_datetime(df[\"주문일자\"], format=\"%m/%d/%Y\")\n",
    "df[\"주문일자\"]"
   ]
  },
  {
   "cell_type": "code",
   "execution_count": null,
   "metadata": {},
   "outputs": [],
   "source": [
    "# 데이터프레임의 정렬 ( 오름차순, 내림차순 )\n",
    "# sort_values(정렬을 변경할 컬럼의 이름, ascending=bool)\n",
    "# ascending속성에서 True : 오름차순(기본값), False : 내림차순\n",
    "# 여러 컬럼을 기준으로 정렬을 변경\n",
    "# sort_values([컬럼이름1, 컬럼이름2])\n",
    "df.sort_values(\"국가\")\n",
    "df.sort_values(\"국가\", ascending=False) "
   ]
  },
  {
   "cell_type": "code",
   "execution_count": null,
   "metadata": {},
   "outputs": [],
   "source": [
    "# 여러 컬럼을 기준으로 정렬\n",
    "df.sort_values([\"국가\", \"판매단위\"])"
   ]
  },
  {
   "cell_type": "code",
   "execution_count": null,
   "metadata": {},
   "outputs": [],
   "source": [
    "# 특정 컬럼이나 특정 인덱스를 삭제\n",
    "# drop(조건, axis=n, inplace=bool)\n",
    "# 특정 조건에 맞는 행이나 열을 삭제\n",
    "# axis 속성의 값은 0 : 행 , 1 : 열\n",
    "# inplace 속성은 True : 기준이 되는 데이터를 수정 \n",
    "#                False : 기준이 되는 데이터를 수정하지 않는다. (기본값)\n",
    "\n",
    "# 특정 행을 삭제\n",
    "df.drop([1], axis=0)\n",
    "\n",
    "# 특정 열을 삭제\n",
    "df.drop([\"주문일자\"], axis=1)"
   ]
  },
  {
   "cell_type": "code",
   "execution_count": null,
   "metadata": {},
   "outputs": [],
   "source": [
    "df.drop([1], axis=0, inplace=True)"
   ]
  },
  {
   "cell_type": "code",
   "execution_count": null,
   "metadata": {},
   "outputs": [],
   "source": [
    "df = df.drop([2], axis=0)\n",
    "df"
   ]
  },
  {
   "cell_type": "code",
   "execution_count": null,
   "metadata": {},
   "outputs": [],
   "source": [
    "df.drop([3], axis=0)\n",
    "df"
   ]
  },
  {
   "cell_type": "code",
   "execution_count": null,
   "metadata": {},
   "outputs": [],
   "source": [
    "# 인덱스의 값을 초기화\n",
    "# reset_index(drop = bool)\n",
    "# drop 속성 True : 기존의 인덱스를 삭제\n",
    "#           False : 기존의 인덱스를 유지(기본값) - 기존의 인덱스를 컬럼으로 만들어준다. \n",
    "df.reset_index()\n",
    "df.reset_index(drop=True)\n",
    "# df를 출력하면 인덱스가 변경이 되지 않은 상태\n",
    "# df의 값을 변경한다는 코드가 존재 X\n",
    "# 쥬피터 환경에서는 출력이 나온다는 의미는 그냥 확인 작업\n",
    "# 실제 데이터가 변경이 되는 경우에는 출력 X\n",
    "df\n"
   ]
  },
  {
   "cell_type": "code",
   "execution_count": 25,
   "metadata": {},
   "outputs": [],
   "source": [
    "df.reset_index(drop=True, inplace=True)"
   ]
  },
  {
   "cell_type": "code",
   "execution_count": 28,
   "metadata": {},
   "outputs": [],
   "source": [
    "# 파생변수 생성\n",
    "# 데이터프레임명[파생변수명] = 계산식(이 컬럼에 들어갈 데이터의 값)\n",
    "# 주의할 점 \n",
    "# 데이터프레임명 = 계산한 데이터 값 --> 데이터프레임 -> 스리즈\n",
    "df[\"총 이윤\"] = df[\"총수익\"] - df[\"총비용\"] # 총 이윤"
   ]
  },
  {
   "cell_type": "code",
   "execution_count": 30,
   "metadata": {},
   "outputs": [],
   "source": [
    "# df2 = df.copy()"
   ]
  },
  {
   "cell_type": "code",
   "execution_count": 32,
   "metadata": {},
   "outputs": [],
   "source": [
    "# df2 = df2[\"총수익\"] - df2[\"총비용\"]"
   ]
  },
  {
   "cell_type": "markdown",
   "metadata": {},
   "source": [
    "### corona 데이터\n",
    "1. 데이터 로드 \n",
    "2. Unnamed: 0 컬럼을 삭제\n",
    "3. createDt 컬럼을 기준으로 오름차순 정렬\n",
    "4. 인덱스의 값 리셋 (기존의 인덱스는 삭제)"
   ]
  },
  {
   "cell_type": "code",
   "execution_count": null,
   "metadata": {},
   "outputs": [],
   "source": [
    "# 1. 데이터를 로드 \n",
    "corona = pd.read_csv(\"../csv/corona.csv\")\n",
    "corona"
   ]
  },
  {
   "cell_type": "code",
   "execution_count": 46,
   "metadata": {},
   "outputs": [],
   "source": [
    "# 2. Unnamed: 0 컬럼을 삭제\n",
    "# corona.columns[0]\n",
    "# case1\n",
    "# corona.drop([corona.columns[0]], axis=1, inplace=True)\n",
    "# corona.drop([\"Unnamed: 0\"], axis=1)\n",
    "# case2\n",
    "corona = corona.drop([corona.columns[0]], axis=1)"
   ]
  },
  {
   "cell_type": "code",
   "execution_count": 47,
   "metadata": {},
   "outputs": [],
   "source": [
    "# 3. createDt 기준으로 오름차순 정렬\n",
    "corona.sort_values(\"createDt\", inplace=True)"
   ]
  },
  {
   "cell_type": "code",
   "execution_count": 48,
   "metadata": {},
   "outputs": [],
   "source": [
    "# 4. 인덱스의 값을 초기화 ( 기존의 인덱스 삭제 )\n",
    "corona = corona.reset_index(drop=True)"
   ]
  },
  {
   "cell_type": "markdown",
   "metadata": {},
   "source": [
    "### 인덱스를 이동하는 함수\n",
    "> shift(n)\n",
    "- 인덱스를 n만큼 이동 \n",
    "- n = 1 기본값 : 바로 위의 인덱스의 값을 가지고 온다. \n",
    "- 바로 아래의 값을 가지고는 오는 방법? : n = -1\n",
    "### 값의 차이를 출력하는 함수\n",
    "> diff(periods = n , axis = n)\n",
    "- 바로 전의 인덱스의 값과의 차이를 출력\n",
    "- periods 기본값이 1 shift와 마찬가지로 행, 열의 수를 지정\n",
    "- axis 기본값은 0 , 1이면 컬럼을 이동 "
   ]
  },
  {
   "cell_type": "code",
   "execution_count": null,
   "metadata": {},
   "outputs": [],
   "source": [
    "# 새로운 파생변수 \n",
    "# 일일확진자, 일일사망자 컬럼을 추가 \n",
    "# 일일확진자 -> decideCnt 컬럼의 차이를 구해서 그 값을 컬럼에 삽입\n",
    "# 첫번째 인덱스의 값이 NaN이 나오는 이유는?\n",
    "# 위에 값이 존재하지 않기때문에 계산이 불가능\n",
    "# NaN 결측치의 값을 채워주는 함수\n",
    "# fillna(n)\n",
    "# n의 값으로 NaN을 대체한다. \n",
    "print((corona[\"decideCnt\"] - corona[\"decideCnt\"].shift(1)).fillna(0))\n",
    "corona[\"일일확진자\"] = corona[\"decideCnt\"].diff().fillna(0)"
   ]
  },
  {
   "cell_type": "code",
   "execution_count": null,
   "metadata": {},
   "outputs": [],
   "source": [
    "corona.head(1)"
   ]
  },
  {
   "cell_type": "code",
   "execution_count": 60,
   "metadata": {},
   "outputs": [],
   "source": [
    "## 일일사망자 파생변수 생성\n",
    "## deathCnt 값의 차이를 삽입\n",
    "## NaN값은 0으로 대체하여 파생변수 생성\n",
    "corona[\"일일사망자\"] = (corona[\"deathCnt\"] - corona[\"deathCnt\"].shift(1)).fillna(0)"
   ]
  },
  {
   "cell_type": "code",
   "execution_count": null,
   "metadata": {},
   "outputs": [],
   "source": [
    "corona.head(1)"
   ]
  },
  {
   "cell_type": "markdown",
   "metadata": {},
   "source": [
    "### fillna()\n",
    "- 결측치를 ()안에 값으로 채워주는 함수\n",
    "- method 속성 : ffill, bfill\n",
    "    - ffill : 전의 행의 값이 존재하면 그 값으로 대체한다. \n",
    "    - bfill : 후의 행의 값이 존재하면 그 값으로 대체한다. "
   ]
  },
  {
   "cell_type": "code",
   "execution_count": 64,
   "metadata": {},
   "outputs": [
    {
     "data": {
      "text/plain": [
       "128"
      ]
     },
     "execution_count": 64,
     "metadata": {},
     "output_type": "execute_result"
    }
   ],
   "source": [
    "# accExamCnt 컬럼에는 결측치 존재\n",
    "# 해당 컬럼의 결측치의 개수를 확인\n",
    "# fillna() 함수를 이용하여 데이터를 삽입 \n",
    "# ffill이라는 method 속성을 사용하여 값을 삽입\n",
    "\n",
    "corona[\"accExamCnt\"].isna().sum()\n"
   ]
  },
  {
   "cell_type": "code",
   "execution_count": null,
   "metadata": {},
   "outputs": [],
   "source": [
    "# 결측치인 부분만 출력\n",
    "# accExamCnt의 값이 결측치인 데이터만 출력\n",
    "# loc[인덱스의 조건, 컬럼의 조건]\n",
    "# 조건을 입력하지 않으면 전체를 출력\n",
    "# corona.loc[결측치인 부분 조건, ]\n",
    "# 결측치인 부분 조건 : corona[\"accExamCnt\"].isna()\n",
    "corona.loc[corona[\"accExamCnt\"].isna(), ]"
   ]
  },
  {
   "cell_type": "code",
   "execution_count": null,
   "metadata": {},
   "outputs": [],
   "source": [
    "# 결측치 아닌 부분만 출력\n",
    "corona.loc[~corona[\"accExamCnt\"].isna(), ]\n",
    "# ~ 연산자 : 부정\n",
    "# True -> False, False -> True"
   ]
  },
  {
   "cell_type": "code",
   "execution_count": 68,
   "metadata": {},
   "outputs": [],
   "source": [
    "# isin() -> ()안에 들어간 값들이 존재하면 True, 아니면 False\n",
    "import numpy as np"
   ]
  },
  {
   "cell_type": "code",
   "execution_count": 71,
   "metadata": {},
   "outputs": [
    {
     "data": {
      "text/plain": [
       "0      False\n",
       "1      False\n",
       "2      False\n",
       "3      False\n",
       "4      False\n",
       "       ...  \n",
       "815     True\n",
       "816     True\n",
       "817     True\n",
       "818     True\n",
       "819     True\n",
       "Name: accExamCnt, Length: 820, dtype: bool"
      ]
     },
     "execution_count": 71,
     "metadata": {},
     "output_type": "execute_result"
    }
   ],
   "source": [
    "corona[\"accExamCnt\"].isin([np.nan])"
   ]
  }
 ],
 "metadata": {
  "kernelspec": {
   "display_name": "Python 3.6.8 64-bit",
   "language": "python",
   "name": "python3"
  },
  "language_info": {
   "codemirror_mode": {
    "name": "ipython",
    "version": 3
   },
   "file_extension": ".py",
   "mimetype": "text/x-python",
   "name": "python",
   "nbconvert_exporter": "python",
   "pygments_lexer": "ipython3",
   "version": "3.6.8"
  },
  "orig_nbformat": 4,
  "vscode": {
   "interpreter": {
    "hash": "187f19b7e1a6c9dce315ccb3b0d07c5b7aeed6681cd1ee8ee772db2198b62651"
   }
  }
 },
 "nbformat": 4,
 "nbformat_minor": 2
}
