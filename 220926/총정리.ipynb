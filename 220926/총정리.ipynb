{
 "cells": [
  {
   "cell_type": "code",
   "execution_count": null,
   "metadata": {},
   "outputs": [],
   "source": [
    "import pandas as pd "
   ]
  },
  {
   "cell_type": "code",
   "execution_count": null,
   "metadata": {},
   "outputs": [],
   "source": [
    "campaign = pd.read_csv(\"../csv/num_3/campaign_master.csv\")\n",
    "class_master = pd.read_csv(\"../csv/num_3/class_master.csv\")\n",
    "customer = pd.read_csv(\"../csv/num_3/customer_master.csv\")\n",
    "use = pd.read_csv(\"../csv/num_3/use_log.csv\")"
   ]
  },
  {
   "cell_type": "code",
   "execution_count": null,
   "metadata": {},
   "outputs": [],
   "source": [
    "customer_join = pd.merge(customer, class_master, on=\"class\", how=\"left\")\n",
    "customer_join = pd.merge(customer_join, campaign, on='campaign_id', how=\"left\")\n",
    "customer_join.head(2)"
   ]
  },
  {
   "cell_type": "code",
   "execution_count": null,
   "metadata": {},
   "outputs": [],
   "source": [
    "# 2019년 01월 01일 이후의 데이터를 출력\n",
    "# start_date, end_date 2개의 컬럼의 데이터를 datetime형태로 변경\n",
    "customer_join[\"start_date\"] = pd.to_datetime(customer_join[\"start_date\"])\n",
    "customer_join[\"end_date\"] = pd.to_datetime(customer_join[\"end_date\"])\n",
    "customer_start = customer_join.loc[customer_join[\"start_date\"] > pd.to_datetime(\"20190101\")]\n",
    "customer_start.head(2)"
   ]
  },
  {
   "cell_type": "code",
   "execution_count": null,
   "metadata": {},
   "outputs": [],
   "source": [
    "## 데이터 집계\n",
    "customer_start.value_counts(\"class_name\")"
   ]
  },
  {
   "cell_type": "code",
   "execution_count": null,
   "metadata": {},
   "outputs": [],
   "source": [
    "customer_start.groupby(\"campaign_name\").count()[\"customer_id\"]"
   ]
  },
  {
   "cell_type": "code",
   "execution_count": null,
   "metadata": {},
   "outputs": [],
   "source": [
    "customer_start.value_counts(\"gender\")"
   ]
  },
  {
   "cell_type": "code",
   "execution_count": null,
   "metadata": {},
   "outputs": [],
   "source": [
    "use"
   ]
  },
  {
   "cell_type": "code",
   "execution_count": null,
   "metadata": {},
   "outputs": [],
   "source": [
    "# 이용 이력 데이터를 이용하여 요일별 이용 여부를 계산\n",
    "# 파생 변수 2개 생성\n",
    "# weekday 요일 파생변수\n",
    "# 년월 파생변수 생성\n",
    "use[\"usedate\"] = pd.to_datetime(use[\"usedate\"])\n",
    "use[\"년월\"] = use[\"usedate\"].dt.strftime(\"%Y%m\")\n",
    "use[\"weekday\"] = use[\"usedate\"].dt.weekday\n",
    "use.value_counts(\"weekday\")"
   ]
  },
  {
   "cell_type": "code",
   "execution_count": null,
   "metadata": {},
   "outputs": [],
   "source": [
    "use_weekday = use.groupby([\"customer_id\", \"년월\", \"weekday\"], as_index=False).count()\\\n",
    "    [[\"customer_id\", \"년월\", \"weekday\", \"log_id\"]]\n",
    "# 컬럼의 이름을 변경하는 경우\n",
    "use_weekday.rename(columns={\"log_id\" : \"count\"}, inplace=True)\n",
    "use_weekday.head(10)"
   ]
  },
  {
   "cell_type": "code",
   "execution_count": null,
   "metadata": {},
   "outputs": [],
   "source": [
    "# 각 회원별 가장 많은 count를 가지는 요일 출력\n",
    "use_weekday = use_weekday.groupby(\"customer_id\", as_index=False).max()\\\n",
    "    [[\"customer_id\", \"count\"]]"
   ]
  },
  {
   "cell_type": "code",
   "execution_count": null,
   "metadata": {},
   "outputs": [],
   "source": [
    "## count 값을 기준으로 4보다 높으면 1 아니면 0인 컬럼(routine_flg) 생성\n",
    "use_weekday[\"routine_flg\"] = use_weekday[\"count\"].apply(lambda x : \"1\" if x >= 4 else \"0\")\n",
    "use_weekday.head(10)"
   ]
  },
  {
   "cell_type": "code",
   "execution_count": null,
   "metadata": {},
   "outputs": [],
   "source": [
    "## start_date 와 end_date사이의 기간 확인하는 라이브러리 \n",
    "from dateutil.relativedelta import relativedelta"
   ]
  },
  {
   "cell_type": "code",
   "execution_count": null,
   "metadata": {},
   "outputs": [],
   "source": [
    "## customer_join , use_weekday 데이터프레임을 join 결합\n",
    "## customer_id을 조건으로 결합 use_weekday에 있는 routine_flg 컬럼만 결합\n",
    "customer_join = pd.merge(customer_start, use_weekday[[\"customer_id\", \"routine_flg\"]], \n",
    "on=\"customer_id\", how=\"left\")"
   ]
  },
  {
   "cell_type": "code",
   "execution_count": null,
   "metadata": {},
   "outputs": [],
   "source": [
    "## gender 컬럼의 삭제\n",
    "del customer_join[\"gender\"]\n",
    "customer_join.head()"
   ]
  },
  {
   "cell_type": "code",
   "execution_count": null,
   "metadata": {},
   "outputs": [],
   "source": [
    "customer_join.isna().sum()"
   ]
  },
  {
   "cell_type": "code",
   "execution_count": null,
   "metadata": {},
   "outputs": [],
   "source": [
    "customer_join.value_counts(\"end_date\")"
   ]
  },
  {
   "cell_type": "code",
   "execution_count": null,
   "metadata": {},
   "outputs": [],
   "source": [
    "customer_join[\"end_date\"] = customer_join[\"end_date\"].fillna(\n",
    "    pd.to_datetime(\"20190430\"))"
   ]
  },
  {
   "cell_type": "code",
   "execution_count": null,
   "metadata": {},
   "outputs": [],
   "source": [
    "relativedelta(customer_join[\"end_date\"].loc[0], \n",
    "customer_join[\"start_date\"].loc[0])"
   ]
  },
  {
   "cell_type": "code",
   "execution_count": null,
   "metadata": {},
   "outputs": [],
   "source": [
    "## 새로운 파생변수(membership_period) 생성\n",
    "## 회원들의 기간을 월로 표시\n",
    "len(customer_join)"
   ]
  },
  {
   "cell_type": "code",
   "execution_count": null,
   "metadata": {},
   "outputs": [],
   "source": [
    "customer_join[\"membership_period\"] = 0\n",
    "\n",
    "for i in range(len(customer_join)):\n",
    "    delta = relativedelta(customer_join[\"end_date\"].loc[i], \n",
    "    customer_join[\"start_date\"].loc[i])\n",
    "    customer_join[\"membership_period\"].loc[i] = \\\n",
    "        delta.years*12 + delta.months"
   ]
  },
  {
   "cell_type": "code",
   "execution_count": null,
   "metadata": {},
   "outputs": [],
   "source": [
    "customer_join.value_counts(\"membership_period\")"
   ]
  },
  {
   "cell_type": "markdown",
   "metadata": {},
   "source": [
    "### 함수\n",
    "- 행동 -> 반복적인 코드가 실행이 되야되는 경우에 코드를 반복해서 사용하면 코드 라인이 늘어나고 가독성이 떨어진다. 코드가 길어짐으로써 에러가 발생할 확률이 증가.\n",
    "> def\n",
    "- def 함수명 (매개변수)\\\n",
    "    함수 호출 시 실행이 될 코드 \\\n",
    "    return 반환되는 값\n",
    "- 함수명(인자) --> 함수 호출"
   ]
  },
  {
   "cell_type": "code",
   "execution_count": null,
   "metadata": {},
   "outputs": [],
   "source": [
    "# 함수에 매개변수 1개 \n",
    "# 인자값이 숫자의 형태가 아니면 '숫자가 아니다'\n",
    "# 숫자의 형태이면 짝수인 경우 '짝수' \n",
    "# 홀수인 경우에는 '홀수'\n",
    "\n",
    "def func_1(x):\n",
    "    if type(x) != int:\n",
    "        return \"숫자가 아니다\"\n",
    "    else:\n",
    "        if x % 2 == 0:\n",
    "            return \"짝수\"\n",
    "        else :\n",
    "            return \"홀수\"\n",
    "\n",
    "print(func_1(4))    #짝수\n",
    "print(func_1(3))    #홀수\n",
    "print(func_1(\"asd\"))#숫자가 아니다\n",
    "print(func_1(\"3\"))  #숫자가 아니다\n",
    "print(func_1(3.1))"
   ]
  },
  {
   "cell_type": "code",
   "execution_count": null,
   "metadata": {},
   "outputs": [],
   "source": [
    "## 함수 생성\n",
    "## 매개변수의 값을 1개 \n",
    "## 인자 값에 리스트 형태의 데이터 삽입\n",
    "## 리턴 리스트의 순서를 반대로 바꿔서 출력\n",
    "\n",
    "def func_2(x):\n",
    "    # return list(reversed(x))\n",
    "    x.reverse()\n",
    "    return x\n",
    "\n",
    "func_2([1,2,3,4,5])"
   ]
  },
  {
   "cell_type": "code",
   "execution_count": null,
   "metadata": {},
   "outputs": [],
   "source": [
    "x = [1,2,3,4,5]\n",
    "\n",
    "print(x[0], x[1], x[2], x[3], x[4])"
   ]
  },
  {
   "cell_type": "code",
   "execution_count": null,
   "metadata": {},
   "outputs": [],
   "source": [
    "## range(시작값, 종료값, 증감값) --> [4,3,2,1,0]\n",
    "y = []\n",
    "for i in range(4, -1, -1):\n",
    "    y.append(x[i])\n",
    "y"
   ]
  },
  {
   "cell_type": "code",
   "execution_count": null,
   "metadata": {},
   "outputs": [],
   "source": [
    "def func_3(x):\n",
    "    result = []\n",
    "    for i in range(len(x)-1, -1, -1):\n",
    "        result.append(x[i])\n",
    "    return result\n",
    "\n",
    "func_3([1,2,3])"
   ]
  },
  {
   "cell_type": "code",
   "execution_count": null,
   "metadata": {},
   "outputs": [],
   "source": [
    "def func_4(x):\n",
    "    result = []\n",
    "    for i in range(len(x), 0, -1):\n",
    "        result.append(x[i-1])\n",
    "    return result\n",
    "\n",
    "func_4([1,2,3,4,2,3,1])"
   ]
  },
  {
   "cell_type": "code",
   "execution_count": null,
   "metadata": {},
   "outputs": [],
   "source": [
    "## 함수 생성\n",
    "## 매개변수 2개 숫자형 데이터 \n",
    "## 두 수 사이 값들의 합 리턴\n",
    "## a = 3, b = 5 인 경우 3+4+5 = 12 -> 12가 리턴이 되는 형식\n",
    "## a와 b의 대소관계는 정해져있지 않다.\n",
    "\n",
    "def func_5(a, b):\n",
    "    sum = 0\n",
    "    if a < b:\n",
    "        for i in range(a, b+1, 1):\n",
    "            sum += i\n",
    "    else:\n",
    "        for i in range(b, a+1, 1):\n",
    "            sum += i\n",
    "    return sum\n",
    "\n",
    "print(func_5(1, 10))\n",
    "print(func_5(10, 1)) "
   ]
  },
  {
   "cell_type": "code",
   "execution_count": null,
   "metadata": {},
   "outputs": [],
   "source": [
    "def func_6(a, b):\n",
    "    result = range(min(a,b), max(a,b)+1, 1)\n",
    "    return sum(result)\n",
    "\n",
    "print(func_6(1, 10))\n",
    "print(func_6(10, 1))"
   ]
  },
  {
   "cell_type": "code",
   "execution_count": null,
   "metadata": {},
   "outputs": [],
   "source": [
    "def func_7(a, b):\n",
    "    sum = 0\n",
    "    if a < b:\n",
    "        while a < b+1:\n",
    "            sum +=a\n",
    "            a+=1\n",
    "    else : \n",
    "        while b < a+1:\n",
    "            sum += b\n",
    "            b += 1\n",
    "    return sum\n",
    "func_7(10, 1)"
   ]
  },
  {
   "cell_type": "code",
   "execution_count": null,
   "metadata": {},
   "outputs": [],
   "source": [
    "## 함수 생성\n",
    "## 매개변수 2개 \n",
    "## x값부터 시작해서 x만큼 증가, 개수 y인 리스트 리턴\n",
    "## 2,5 -> [2,4,6,8,10]\n",
    "\n",
    "def func_8(x, y):\n",
    "    result = list(range(x, x*(y+1), x))\n",
    "\n",
    "    return result\n",
    "func_8(-2,5)"
   ]
  },
  {
   "cell_type": "code",
   "execution_count": null,
   "metadata": {},
   "outputs": [],
   "source": [
    "def func_9(x, y):\n",
    "    result = []\n",
    "    for i in range(y):\n",
    "        result.append(x + x*i)\n",
    "    return result\n",
    "func_9(2,5)"
   ]
  },
  {
   "cell_type": "code",
   "execution_count": 99,
   "metadata": {},
   "outputs": [],
   "source": [
    "## 자리수로 리스트 만드는 방법\n",
    "a = 123456"
   ]
  },
  {
   "cell_type": "code",
   "execution_count": 103,
   "metadata": {},
   "outputs": [
    {
     "name": "stdout",
     "output_type": "stream",
     "text": [
      "1\n",
      "2\n",
      "3\n",
      "4\n",
      "5\n",
      "6\n"
     ]
    }
   ],
   "source": [
    "for i in str(a):\n",
    "    print(i)"
   ]
  },
  {
   "cell_type": "code",
   "execution_count": 102,
   "metadata": {},
   "outputs": [
    {
     "data": {
      "text/plain": [
       "'4'"
      ]
     },
     "execution_count": 102,
     "metadata": {},
     "output_type": "execute_result"
    }
   ],
   "source": [
    "str(a)[3]"
   ]
  },
  {
   "cell_type": "code",
   "execution_count": 105,
   "metadata": {},
   "outputs": [
    {
     "data": {
      "text/plain": [
       "15"
      ]
     },
     "execution_count": 105,
     "metadata": {},
     "output_type": "execute_result"
    }
   ],
   "source": [
    "## 함수 생성\n",
    "## 매개변수 1개\n",
    "## 숫자형 데이터를 받아와서 자릿수 합계\n",
    "## 123 -> 1+2+3 =6 6을 리턴\n",
    "\n",
    "def func_10(a):\n",
    "    sum = 0\n",
    "    for i in str(a):\n",
    "        sum += int(i)\n",
    "    return sum\n",
    "func_10(12345)"
   ]
  },
  {
   "cell_type": "markdown",
   "metadata": {},
   "source": [
    "## 변수의 종류\n",
    "> 전역변수\n",
    "- 어디서든 사용할 수 있는 변수\n",
    "> 지역변수\n",
    "- 특정 영역에서만 사용할 수 있는 변수"
   ]
  },
  {
   "cell_type": "code",
   "execution_count": 109,
   "metadata": {},
   "outputs": [
    {
     "name": "stdout",
     "output_type": "stream",
     "text": [
      "0\n",
      "2\n"
     ]
    },
    {
     "data": {
      "text/plain": [
       "2"
      ]
     },
     "execution_count": 109,
     "metadata": {},
     "output_type": "execute_result"
    }
   ],
   "source": [
    "sum = 0\n",
    "def test(a):\n",
    "    result = 2\n",
    "    print(result)\n",
    "    return result\n",
    "## 위의 코드에서 전역 변수 : sum\n",
    "## 지역 변수 : result\n",
    "print(sum)\n",
    "test(1)"
   ]
  },
  {
   "cell_type": "code",
   "execution_count": 157,
   "metadata": {},
   "outputs": [],
   "source": [
    "sum = 0\n",
    "def test(a):\n",
    "    global sum\n",
    "    sum += a\n",
    "    return sum\n"
   ]
  },
  {
   "cell_type": "code",
   "execution_count": 172,
   "metadata": {},
   "outputs": [
    {
     "data": {
      "text/plain": [
       "75"
      ]
     },
     "execution_count": 172,
     "metadata": {},
     "output_type": "execute_result"
    }
   ],
   "source": [
    "test(5)"
   ]
  },
  {
   "cell_type": "code",
   "execution_count": 194,
   "metadata": {},
   "outputs": [],
   "source": [
    "## 비어있는 리스트 만들어서 \n",
    "## 함수를 실행할때마다 리스트에 값이 추가가 되는 함수를 생성\n",
    "\n",
    "_list = []\n",
    "def test_2(a):\n",
    "    _list.append(a)\n",
    "    return _list"
   ]
  },
  {
   "cell_type": "code",
   "execution_count": 206,
   "metadata": {},
   "outputs": [
    {
     "data": {
      "text/plain": [
       "[1, 1, 1, 1, 1, 1, 1, 1, 1, 1, 1, 1]"
      ]
     },
     "execution_count": 206,
     "metadata": {},
     "output_type": "execute_result"
    }
   ],
   "source": [
    "test_2(1)"
   ]
  }
 ],
 "metadata": {
  "kernelspec": {
   "display_name": "Python 3.6.8 64-bit",
   "language": "python",
   "name": "python3"
  },
  "language_info": {
   "codemirror_mode": {
    "name": "ipython",
    "version": 3
   },
   "file_extension": ".py",
   "mimetype": "text/x-python",
   "name": "python",
   "nbconvert_exporter": "python",
   "pygments_lexer": "ipython3",
   "version": "3.6.8"
  },
  "orig_nbformat": 4,
  "vscode": {
   "interpreter": {
    "hash": "187f19b7e1a6c9dce315ccb3b0d07c5b7aeed6681cd1ee8ee772db2198b62651"
   }
  }
 },
 "nbformat": 4,
 "nbformat_minor": 2
}
