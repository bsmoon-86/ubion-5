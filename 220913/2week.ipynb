{
 "cells": [
  {
   "cell_type": "code",
   "execution_count": 1,
   "metadata": {},
   "outputs": [],
   "source": [
    "import pandas as pd\n",
    "import os"
   ]
  },
  {
   "cell_type": "code",
   "execution_count": 3,
   "metadata": {},
   "outputs": [],
   "source": [
    "## 지정된 경로에 있는 파일 리스트\n",
    "files = os.listdir(\"../csv/2017\")"
   ]
  },
  {
   "cell_type": "code",
   "execution_count": 5,
   "metadata": {},
   "outputs": [
    {
     "data": {
      "text/plain": [
       "70132"
      ]
     },
     "execution_count": 5,
     "metadata": {},
     "output_type": "execute_result"
    }
   ],
   "source": [
    "## 지정된 폴더에 있는 파일들을 하나의 데이터프레임으로 결합\n",
    "## 빈 데이터프레임 생성\n",
    "## 반복문을 이용하여 리스트에 있는 csv 파일들을 하나씩 로드하여 \n",
    "## 빈 데이터프레임에 concat() 결합\n",
    "\n",
    "df_2017 = pd.DataFrame()    ##빈 데이터프레임 생성\n",
    "\n",
    "## 반복문을 사용하여 빈 데이터프레임에 결합\n",
    "for file in files:\n",
    "    path = \"../csv/2017/\"\n",
    "    df = pd.read_csv(path + file)\n",
    "    df_2017 = pd.concat([df_2017, df], ignore_index=True)\n",
    "len(df_2017)"
   ]
  },
  {
   "cell_type": "code",
   "execution_count": 12,
   "metadata": {},
   "outputs": [],
   "source": [
    "files = os.listdir(\"../csv/2021\")"
   ]
  },
  {
   "cell_type": "code",
   "execution_count": null,
   "metadata": {},
   "outputs": [],
   "source": [
    "files = [file for file in files if file.endswith(\".csv\")]\n",
    "files"
   ]
  },
  {
   "cell_type": "code",
   "execution_count": null,
   "metadata": {},
   "outputs": [],
   "source": [
    "df_2017.head(10)"
   ]
  },
  {
   "cell_type": "markdown",
   "metadata": {},
   "source": [
    "1. 컬럼명 변경 - [\"nid\", \"제목\", \"url\", \"부서레벨1\", \"부서레벨2\", \"부서레벨3\", \"부서레벨4\", \"부서레벨5\", \"집행연도\", \"집행월\", \"예산\", \"집행\", \"구분\", \"부서명\", \"집행일시\", \"집행장소\", \"집행목적\", \"대상인원\", \"결제방법\", \"집행금액\"]\n",
    "2. 컬럼 삭제 - [\"부서레벨3\", \"부서레벨4\", \"부서레벨5\", \"예산\", \"집행\", \"구분\"]\n",
    "3. 월 별 집행금액의 합 시각화(바 그래프)\n",
    "4. pivot_table을 사용하여 그룹화(연도, 월) 집행금액의 합계를 그래프 출력(바 그래프)"
   ]
  },
  {
   "cell_type": "code",
   "execution_count": 16,
   "metadata": {},
   "outputs": [],
   "source": [
    "df_2017.columns = [\"nid\", \"제목\", \"url\", \"부서레벨1\", \"부서레벨2\", \"부서레벨3\", \"부서레벨4\", \"부서레벨5\", \"집행연도\", \"집행월\", \"예산\", \"집행\", \"구분\", \"부서명\", \"집행일시\", \"집행장소\", \"집행목적\", \"대상인원\", \"결제방법\", \"집행금액\"]"
   ]
  },
  {
   "cell_type": "code",
   "execution_count": 17,
   "metadata": {},
   "outputs": [],
   "source": [
    "df_2017.drop([\"부서레벨3\", \"부서레벨4\", \"부서레벨5\", \"예산\", \"집행\", \"구분\"], axis=1, inplace=True)"
   ]
  },
  {
   "cell_type": "code",
   "execution_count": 18,
   "metadata": {},
   "outputs": [
    {
     "data": {
      "text/html": [
       "<div>\n",
       "<style scoped>\n",
       "    .dataframe tbody tr th:only-of-type {\n",
       "        vertical-align: middle;\n",
       "    }\n",
       "\n",
       "    .dataframe tbody tr th {\n",
       "        vertical-align: top;\n",
       "    }\n",
       "\n",
       "    .dataframe thead th {\n",
       "        text-align: right;\n",
       "    }\n",
       "</style>\n",
       "<table border=\"1\" class=\"dataframe\">\n",
       "  <thead>\n",
       "    <tr style=\"text-align: right;\">\n",
       "      <th></th>\n",
       "      <th>nid</th>\n",
       "      <th>제목</th>\n",
       "      <th>url</th>\n",
       "      <th>부서레벨1</th>\n",
       "      <th>부서레벨2</th>\n",
       "      <th>집행연도</th>\n",
       "      <th>집행월</th>\n",
       "      <th>부서명</th>\n",
       "      <th>집행일시</th>\n",
       "      <th>집행장소</th>\n",
       "      <th>집행목적</th>\n",
       "      <th>대상인원</th>\n",
       "      <th>결제방법</th>\n",
       "      <th>집행금액</th>\n",
       "    </tr>\n",
       "  </thead>\n",
       "  <tbody>\n",
       "    <tr>\n",
       "      <th>0</th>\n",
       "      <td>11430252</td>\n",
       "      <td>2017년 1월 장애인복지정책과 업무추진비 집행내역</td>\n",
       "      <td>http://opengov.seoul.go.kr/public/11430252</td>\n",
       "      <td>서울시본청</td>\n",
       "      <td>복지본부</td>\n",
       "      <td>2017</td>\n",
       "      <td>1</td>\n",
       "      <td>복지본부 장애인복지정책과</td>\n",
       "      <td>2017-01-26 13:10</td>\n",
       "      <td>동해일식 (중구 무교동)</td>\n",
       "      <td>기본소득과 장애인복지 논의간담회</td>\n",
       "      <td>장애인복지정책팀장 외 2명</td>\n",
       "      <td>카드</td>\n",
       "      <td>76000</td>\n",
       "    </tr>\n",
       "  </tbody>\n",
       "</table>\n",
       "</div>"
      ],
      "text/plain": [
       "        nid                            제목  \\\n",
       "0  11430252  2017년 1월 장애인복지정책과 업무추진비 집행내역   \n",
       "\n",
       "                                          url  부서레벨1 부서레벨2  집행연도  집행월  \\\n",
       "0  http://opengov.seoul.go.kr/public/11430252  서울시본청  복지본부  2017    1   \n",
       "\n",
       "             부서명              집행일시           집행장소               집행목적  \\\n",
       "0  복지본부 장애인복지정책과  2017-01-26 13:10  동해일식 (중구 무교동)  기본소득과 장애인복지 논의간담회   \n",
       "\n",
       "             대상인원 결제방법   집행금액  \n",
       "0  장애인복지정책팀장 외 2명   카드  76000  "
      ]
     },
     "execution_count": 18,
     "metadata": {},
     "output_type": "execute_result"
    }
   ],
   "source": [
    "df_2017.head(1)"
   ]
  },
  {
   "cell_type": "code",
   "execution_count": null,
   "metadata": {},
   "outputs": [],
   "source": [
    "month_df = df_2017.groupby(\"집행월\").sum()[\"집행금액\"]\n",
    "month_df"
   ]
  },
  {
   "cell_type": "code",
   "execution_count": null,
   "metadata": {},
   "outputs": [],
   "source": [
    "pivot_month = pd.pivot_table(df_2017, index=[\"집행월\"], columns=[\"집행연도\"], \n",
    "                            values=[\"집행금액\"], aggfunc='sum')\n",
    "pivot_month"
   ]
  },
  {
   "cell_type": "code",
   "execution_count": null,
   "metadata": {},
   "outputs": [],
   "source": [
    "month_df.plot.bar()"
   ]
  },
  {
   "cell_type": "code",
   "execution_count": 22,
   "metadata": {},
   "outputs": [],
   "source": [
    "import matplotlib.pyplot as plt"
   ]
  },
  {
   "cell_type": "code",
   "execution_count": null,
   "metadata": {},
   "outputs": [],
   "source": [
    "## 바 그래프 matplot이용하여 출력 \n",
    "## x값 y값\n",
    "## x -> 집행월, y-> 집행금액의 합계\n",
    "x = month_df.index\n",
    "\n",
    "plt.bar(x, month_df)\n",
    "plt.show()"
   ]
  },
  {
   "cell_type": "code",
   "execution_count": null,
   "metadata": {},
   "outputs": [],
   "source": [
    "pivot_month.plot.barh()"
   ]
  },
  {
   "cell_type": "code",
   "execution_count": null,
   "metadata": {},
   "outputs": [],
   "source": []
  }
 ],
 "metadata": {
  "kernelspec": {
   "display_name": "Python 3.6.8 64-bit",
   "language": "python",
   "name": "python3"
  },
  "language_info": {
   "codemirror_mode": {
    "name": "ipython",
    "version": 3
   },
   "file_extension": ".py",
   "mimetype": "text/x-python",
   "name": "python",
   "nbconvert_exporter": "python",
   "pygments_lexer": "ipython3",
   "version": "3.6.8"
  },
  "orig_nbformat": 4,
  "vscode": {
   "interpreter": {
    "hash": "187f19b7e1a6c9dce315ccb3b0d07c5b7aeed6681cd1ee8ee772db2198b62651"
   }
  }
 },
 "nbformat": 4,
 "nbformat_minor": 2
}
