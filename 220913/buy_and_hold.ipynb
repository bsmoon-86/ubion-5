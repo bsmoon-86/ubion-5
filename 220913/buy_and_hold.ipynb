{
 "cells": [
  {
   "cell_type": "code",
   "execution_count": 1,
   "metadata": {},
   "outputs": [],
   "source": [
    "import pandas as pd \n",
    "import numpy as np"
   ]
  },
  {
   "cell_type": "code",
   "execution_count": null,
   "metadata": {},
   "outputs": [],
   "source": [
    "df = pd.read_csv(\"../csv/AAPL.csv\", index_col=\"Date\")\n",
    "df.head(2)"
   ]
  },
  {
   "cell_type": "code",
   "execution_count": null,
   "metadata": {},
   "outputs": [],
   "source": [
    "#결측치 조회 (NaN, 음의 무한대, 양의 무한대)\n",
    "df[df.isin([np.nan, np.inf, -np.inf]).any(1)]"
   ]
  },
  {
   "cell_type": "code",
   "execution_count": 10,
   "metadata": {},
   "outputs": [],
   "source": [
    "# 결측치를 제외한 데이터를 출력\n",
    "# df.dropna(axis=0)\n",
    "df = df[~df.isin([np.nan, np.inf, -np.inf]).any(1)]"
   ]
  },
  {
   "cell_type": "code",
   "execution_count": null,
   "metadata": {},
   "outputs": [],
   "source": [
    "## 종가만 가지고 테스트\n",
    "## 시간과 종가만 있는 데이터프레임 \n",
    "price_df = df.loc[:, ['Adj Close']]\n",
    "price_df"
   ]
  },
  {
   "cell_type": "code",
   "execution_count": null,
   "metadata": {},
   "outputs": [],
   "source": [
    "price_df.plot()"
   ]
  },
  {
   "cell_type": "code",
   "execution_count": null,
   "metadata": {},
   "outputs": [],
   "source": [
    "## 일별 수익율 파생변수 생성 ( 오늘날짜의 종가 - 어제 날짜의 종가) / 어제 날짜의 종가\n",
    "price_df[\"daily_rtn\"] = price_df[\"Adj Close\"].pct_change()\n",
    "#price_df[\"Adj Close\"].diff()/price_df[\"Adj Close\"].shift()\n",
    "# price_df.head()"
   ]
  },
  {
   "cell_type": "code",
   "execution_count": null,
   "metadata": {},
   "outputs": [],
   "source": [
    "## 일별 수익율의 누적곱 파생변수 생성\n",
    "price_df[\"st_rtn\"] = (1 + price_df[\"daily_rtn\"]).cumprod()\n",
    "price_df.head()"
   ]
  },
  {
   "cell_type": "code",
   "execution_count": null,
   "metadata": {},
   "outputs": [],
   "source": [
    "price_df[\"st_rtn\"].plot()"
   ]
  },
  {
   "cell_type": "code",
   "execution_count": null,
   "metadata": {},
   "outputs": [],
   "source": [
    "first_date = price_df.index[0]\n",
    "last_date = price_df.index[-1]\n",
    "print(first_date, last_date)"
   ]
  },
  {
   "cell_type": "code",
   "execution_count": null,
   "metadata": {},
   "outputs": [],
   "source": [
    "print(price_df.loc[last_date, 'Adj Close'] / price_df.loc[first_date, 'Adj Close'])"
   ]
  },
  {
   "cell_type": "code",
   "execution_count": null,
   "metadata": {},
   "outputs": [],
   "source": [
    "print(price_df.loc[last_date, 'st_rtn'])"
   ]
  },
  {
   "cell_type": "code",
   "execution_count": null,
   "metadata": {},
   "outputs": [],
   "source": [
    "# backtesting \n",
    "# cummax() - 종가에서 최고가 저장\n",
    "# cummin() - 최대 하락 계산\n",
    "historical_max = price_df[\"Adj Close\"].cummax()\n",
    "daily_drawdown = price_df[\"Adj Close\"] / historical_max - 1.0\n",
    "historical_min = daily_drawdown.cummin()\n",
    "historical_min.plot()"
   ]
  },
  {
   "cell_type": "code",
   "execution_count": 27,
   "metadata": {},
   "outputs": [],
   "source": [
    "## CAGR : 일별 date 사용 -> \n",
    "# 전체 연도를 계산하는 경우 전체 데이터의 기간을 252 영업일을 기준으로 \n",
    "# 나눈 역수를 제곱한 후 -1\n",
    "## MDD : 최대 낙폭\n",
    "## VOL : 연 주가 수익률 표준 편차 = 일별 주가 수익률 * 252일 제곱근\n",
    "## sharpe : 총 위험 1단위당 초과 수익률\n",
    "CAGR = price_df.loc[last_date, 'st_rtn'] ** (252/len(price_df))-1\n",
    "sharpe = np.mean(price_df[\"daily_rtn\"])/np.std(price_df[\"daily_rtn\"])*np.sqrt(252)\n",
    "VOL = np.std(price_df[\"daily_rtn\"]) * np.sqrt(252)\n",
    "MDD = historical_min.min()"
   ]
  },
  {
   "cell_type": "code",
   "execution_count": 28,
   "metadata": {},
   "outputs": [
    {
     "name": "stdout",
     "output_type": "stream",
     "text": [
      "0.4570483127920232\n",
      "CAGR :  17.4 %\n",
      "Sharpe :  0.58\n",
      "VOL :  45.7 %\n",
      "MDD :  81.8 %\n"
     ]
    }
   ],
   "source": [
    "print(VOL)\n",
    "print('CAGR : ', round(CAGR*100, 2), '%')\n",
    "print('Sharpe : ', round(sharpe, 2))\n",
    "print(\"VOL : \", round(VOL*100, 2), '%')\n",
    "print(\"MDD : \", round(-1*MDD*100, 2), '%')"
   ]
  },
  {
   "cell_type": "code",
   "execution_count": null,
   "metadata": {},
   "outputs": [],
   "source": [
    "import buy_and_hold as b_h\n",
    "import imp\n",
    "imp.reload(b_h)"
   ]
  },
  {
   "cell_type": "code",
   "execution_count": 30,
   "metadata": {},
   "outputs": [],
   "source": [
    "df = pd.read_csv(\"../csv/AMZN.csv\", index_col=\"Date\")"
   ]
  },
  {
   "cell_type": "code",
   "execution_count": 31,
   "metadata": {},
   "outputs": [],
   "source": [
    "## 클래스 생성\n",
    "bh_df = b_h.buyandhold(df, 'Adj Close')"
   ]
  },
  {
   "cell_type": "code",
   "execution_count": null,
   "metadata": {},
   "outputs": [],
   "source": [
    "## 결측치 제거\n",
    "bh_df.drop_na()"
   ]
  },
  {
   "cell_type": "code",
   "execution_count": null,
   "metadata": {},
   "outputs": [],
   "source": [
    "## 파생변수 생성 함수 add_column\n",
    "bh_df.add_column()"
   ]
  },
  {
   "cell_type": "code",
   "execution_count": 35,
   "metadata": {},
   "outputs": [],
   "source": [
    "result = bh_df.testing()"
   ]
  },
  {
   "cell_type": "code",
   "execution_count": 36,
   "metadata": {},
   "outputs": [
    {
     "name": "stdout",
     "output_type": "stream",
     "text": [
      "0.6008984712355606\n",
      "CAGR :  36.58 %\n",
      "Sharpe :  0.81\n",
      "VOL :  60.09 %\n",
      "MDD :  94.4 %\n"
     ]
    }
   ],
   "source": [
    "CAGR = result[0]\n",
    "sharpe = result[1]\n",
    "VOL = result[2]\n",
    "MDD = result[3]\n",
    "\n",
    "print(VOL)\n",
    "print('CAGR : ', round(CAGR*100, 2), '%')\n",
    "print('Sharpe : ', round(sharpe, 2))\n",
    "print(\"VOL : \", round(VOL*100, 2), '%')\n",
    "print(\"MDD : \", round(-1*MDD*100, 2), '%')"
   ]
  },
  {
   "cell_type": "code",
   "execution_count": null,
   "metadata": {},
   "outputs": [],
   "source": [
    "!pip install finance-datareader"
   ]
  },
  {
   "cell_type": "code",
   "execution_count": null,
   "metadata": {},
   "outputs": [],
   "source": [
    "!pip install bs4"
   ]
  },
  {
   "cell_type": "code",
   "execution_count": 39,
   "metadata": {},
   "outputs": [],
   "source": [
    "import FinanceDataReader as fdr"
   ]
  },
  {
   "cell_type": "code",
   "execution_count": 43,
   "metadata": {},
   "outputs": [
    {
     "data": {
      "text/html": [
       "<div>\n",
       "<style scoped>\n",
       "    .dataframe tbody tr th:only-of-type {\n",
       "        vertical-align: middle;\n",
       "    }\n",
       "\n",
       "    .dataframe tbody tr th {\n",
       "        vertical-align: top;\n",
       "    }\n",
       "\n",
       "    .dataframe thead th {\n",
       "        text-align: right;\n",
       "    }\n",
       "</style>\n",
       "<table border=\"1\" class=\"dataframe\">\n",
       "  <thead>\n",
       "    <tr style=\"text-align: right;\">\n",
       "      <th></th>\n",
       "      <th>Close</th>\n",
       "      <th>Open</th>\n",
       "      <th>High</th>\n",
       "      <th>Low</th>\n",
       "      <th>Volume</th>\n",
       "      <th>Change</th>\n",
       "    </tr>\n",
       "    <tr>\n",
       "      <th>Date</th>\n",
       "      <th></th>\n",
       "      <th></th>\n",
       "      <th></th>\n",
       "      <th></th>\n",
       "      <th></th>\n",
       "      <th></th>\n",
       "    </tr>\n",
       "  </thead>\n",
       "  <tbody>\n",
       "    <tr>\n",
       "      <th>2020-01-02</th>\n",
       "      <td>2175.17</td>\n",
       "      <td>2201.21</td>\n",
       "      <td>2202.32</td>\n",
       "      <td>2171.84</td>\n",
       "      <td>494680000.0</td>\n",
       "      <td>-0.0102</td>\n",
       "    </tr>\n",
       "    <tr>\n",
       "      <th>2020-01-03</th>\n",
       "      <td>2176.46</td>\n",
       "      <td>2192.58</td>\n",
       "      <td>2203.38</td>\n",
       "      <td>2165.39</td>\n",
       "      <td>631560000.0</td>\n",
       "      <td>0.0006</td>\n",
       "    </tr>\n",
       "    <tr>\n",
       "      <th>2020-01-06</th>\n",
       "      <td>2155.07</td>\n",
       "      <td>2154.97</td>\n",
       "      <td>2164.42</td>\n",
       "      <td>2149.95</td>\n",
       "      <td>592670000.0</td>\n",
       "      <td>-0.0098</td>\n",
       "    </tr>\n",
       "    <tr>\n",
       "      <th>2020-01-07</th>\n",
       "      <td>2175.54</td>\n",
       "      <td>2166.60</td>\n",
       "      <td>2181.62</td>\n",
       "      <td>2164.27</td>\n",
       "      <td>568240000.0</td>\n",
       "      <td>0.0095</td>\n",
       "    </tr>\n",
       "    <tr>\n",
       "      <th>2020-01-08</th>\n",
       "      <td>2151.31</td>\n",
       "      <td>2156.27</td>\n",
       "      <td>2162.32</td>\n",
       "      <td>2137.72</td>\n",
       "      <td>913830000.0</td>\n",
       "      <td>-0.0111</td>\n",
       "    </tr>\n",
       "    <tr>\n",
       "      <th>...</th>\n",
       "      <td>...</td>\n",
       "      <td>...</td>\n",
       "      <td>...</td>\n",
       "      <td>...</td>\n",
       "      <td>...</td>\n",
       "      <td>...</td>\n",
       "    </tr>\n",
       "    <tr>\n",
       "      <th>2022-09-02</th>\n",
       "      <td>2409.41</td>\n",
       "      <td>2427.70</td>\n",
       "      <td>2432.37</td>\n",
       "      <td>2402.67</td>\n",
       "      <td>391600000.0</td>\n",
       "      <td>-0.0026</td>\n",
       "    </tr>\n",
       "    <tr>\n",
       "      <th>2022-09-05</th>\n",
       "      <td>2403.68</td>\n",
       "      <td>2410.07</td>\n",
       "      <td>2424.77</td>\n",
       "      <td>2392.63</td>\n",
       "      <td>354740000.0</td>\n",
       "      <td>-0.0024</td>\n",
       "    </tr>\n",
       "    <tr>\n",
       "      <th>2022-09-06</th>\n",
       "      <td>2410.02</td>\n",
       "      <td>2409.72</td>\n",
       "      <td>2422.53</td>\n",
       "      <td>2399.26</td>\n",
       "      <td>294220000.0</td>\n",
       "      <td>0.0026</td>\n",
       "    </tr>\n",
       "    <tr>\n",
       "      <th>2022-09-07</th>\n",
       "      <td>2376.46</td>\n",
       "      <td>2395.66</td>\n",
       "      <td>2398.40</td>\n",
       "      <td>2365.35</td>\n",
       "      <td>378200000.0</td>\n",
       "      <td>-0.0139</td>\n",
       "    </tr>\n",
       "    <tr>\n",
       "      <th>2022-09-08</th>\n",
       "      <td>2384.28</td>\n",
       "      <td>2393.27</td>\n",
       "      <td>2394.06</td>\n",
       "      <td>2379.06</td>\n",
       "      <td>423620000.0</td>\n",
       "      <td>0.0033</td>\n",
       "    </tr>\n",
       "  </tbody>\n",
       "</table>\n",
       "<p>666 rows × 6 columns</p>\n",
       "</div>"
      ],
      "text/plain": [
       "              Close     Open     High      Low       Volume  Change\n",
       "Date                                                               \n",
       "2020-01-02  2175.17  2201.21  2202.32  2171.84  494680000.0 -0.0102\n",
       "2020-01-03  2176.46  2192.58  2203.38  2165.39  631560000.0  0.0006\n",
       "2020-01-06  2155.07  2154.97  2164.42  2149.95  592670000.0 -0.0098\n",
       "2020-01-07  2175.54  2166.60  2181.62  2164.27  568240000.0  0.0095\n",
       "2020-01-08  2151.31  2156.27  2162.32  2137.72  913830000.0 -0.0111\n",
       "...             ...      ...      ...      ...          ...     ...\n",
       "2022-09-02  2409.41  2427.70  2432.37  2402.67  391600000.0 -0.0026\n",
       "2022-09-05  2403.68  2410.07  2424.77  2392.63  354740000.0 -0.0024\n",
       "2022-09-06  2410.02  2409.72  2422.53  2399.26  294220000.0  0.0026\n",
       "2022-09-07  2376.46  2395.66  2398.40  2365.35  378200000.0 -0.0139\n",
       "2022-09-08  2384.28  2393.27  2394.06  2379.06  423620000.0  0.0033\n",
       "\n",
       "[666 rows x 6 columns]"
      ]
     },
     "execution_count": 43,
     "metadata": {},
     "output_type": "execute_result"
    }
   ],
   "source": [
    "ko_df = fdr.DataReader('KS11', '2020-01-01', '2022-09-10')\n",
    "ko_df"
   ]
  },
  {
   "cell_type": "code",
   "execution_count": 44,
   "metadata": {},
   "outputs": [],
   "source": [
    "bh_df_2 = b_h.buyandhold(ko_df, 'Close')"
   ]
  },
  {
   "cell_type": "code",
   "execution_count": null,
   "metadata": {},
   "outputs": [],
   "source": [
    "bh_df_2.drop_na()"
   ]
  },
  {
   "cell_type": "code",
   "execution_count": null,
   "metadata": {},
   "outputs": [],
   "source": [
    "bh_df_2.add_column()"
   ]
  },
  {
   "cell_type": "code",
   "execution_count": 48,
   "metadata": {},
   "outputs": [],
   "source": [
    "result = bh_df_2.testing()"
   ]
  },
  {
   "cell_type": "code",
   "execution_count": 49,
   "metadata": {},
   "outputs": [
    {
     "name": "stdout",
     "output_type": "stream",
     "text": [
      "0.21954966989801789\n",
      "CAGR :  3.53 %\n",
      "Sharpe :  0.27\n",
      "VOL :  21.95 %\n",
      "MDD :  35.71 %\n"
     ]
    }
   ],
   "source": [
    "CAGR = result[0]\n",
    "sharpe = result[1]\n",
    "VOL = result[2]\n",
    "MDD = result[3]\n",
    "\n",
    "print(VOL)\n",
    "print('CAGR : ', round(CAGR*100, 2), '%')\n",
    "print('Sharpe : ', round(sharpe, 2))\n",
    "print(\"VOL : \", round(VOL*100, 2), '%')\n",
    "print(\"MDD : \", round(-1*MDD*100, 2), '%')"
   ]
  },
  {
   "cell_type": "code",
   "execution_count": null,
   "metadata": {},
   "outputs": [],
   "source": []
  }
 ],
 "metadata": {
  "kernelspec": {
   "display_name": "Python 3.6.8 64-bit",
   "language": "python",
   "name": "python3"
  },
  "language_info": {
   "codemirror_mode": {
    "name": "ipython",
    "version": 3
   },
   "file_extension": ".py",
   "mimetype": "text/x-python",
   "name": "python",
   "nbconvert_exporter": "python",
   "pygments_lexer": "ipython3",
   "version": "3.6.8"
  },
  "orig_nbformat": 4,
  "vscode": {
   "interpreter": {
    "hash": "187f19b7e1a6c9dce315ccb3b0d07c5b7aeed6681cd1ee8ee772db2198b62651"
   }
  }
 },
 "nbformat": 4,
 "nbformat_minor": 2
}
