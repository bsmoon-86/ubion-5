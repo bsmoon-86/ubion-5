{
 "cells": [
  {
   "cell_type": "code",
   "execution_count": null,
   "metadata": {},
   "outputs": [],
   "source": [
    "import pandas as pd"
   ]
  },
  {
   "cell_type": "code",
   "execution_count": null,
   "metadata": {},
   "outputs": [],
   "source": [
    "df = pd.read_csv(\"../csv/BND.csv\", index_col=\"Date\")\n",
    "df.head()"
   ]
  },
  {
   "cell_type": "code",
   "execution_count": null,
   "metadata": {},
   "outputs": [],
   "source": [
    "price_df = df.loc[:, [\"Adj Close\"]]\n",
    "price_df.head(1)"
   ]
  },
  {
   "cell_type": "code",
   "execution_count": null,
   "metadata": {},
   "outputs": [],
   "source": [
    "## 이동 평균선 파생변수 생성 : 데이터양이 20개의 평균을 구해서 컬럼에 대입\n",
    "price_df[\"center\"] = price_df[\"Adj Close\"].rolling(20).mean()\n",
    "price_df.iloc[18:25]"
   ]
  },
  {
   "cell_type": "code",
   "execution_count": null,
   "metadata": {},
   "outputs": [],
   "source": [
    "## 상단 밴드 파생변수 생성 ( 이동 평균선 + 2 * 표준편차 )\n",
    "price_df['ub'] = price_df[\"center\"] + 2 * price_df[\"Adj Close\"].rolling(20).std()\n",
    "price_df.iloc[18:25]"
   ]
  },
  {
   "cell_type": "code",
   "execution_count": null,
   "metadata": {},
   "outputs": [],
   "source": [
    "## 하단 밴드 파생변수 생성 ( 이동 평균선 - 2 * 표준편차 )\n",
    "price_df[\"lb\"] = price_df[\"center\"] - 2 * price_df[\"Adj Close\"].rolling(20).std()\n",
    "price_df.iloc[18:25]"
   ]
  },
  {
   "cell_type": "code",
   "execution_count": null,
   "metadata": {},
   "outputs": [],
   "source": [
    "## 시작 시간 \n",
    "start_time = \"2010-01-02\"\n",
    "price_df = price_df.loc[start_time:]\n",
    "price_df"
   ]
  },
  {
   "cell_type": "code",
   "execution_count": null,
   "metadata": {},
   "outputs": [],
   "source": [
    "## trade 파생변수 값들은 비어있는 값\n",
    "price_df[\"trade\"] = \"\"\n",
    "price_df.head(1)"
   ]
  },
  {
   "cell_type": "code",
   "execution_count": 15,
   "metadata": {},
   "outputs": [
    {
     "name": "stderr",
     "output_type": "stream",
     "text": [
      "c:\\Users\\moons\\AppData\\Local\\Programs\\Python\\Python36\\lib\\site-packages\\pandas\\core\\indexing.py:1763: SettingWithCopyWarning: \n",
      "A value is trying to be set on a copy of a slice from a DataFrame.\n",
      "Try using .loc[row_indexer,col_indexer] = value instead\n",
      "\n",
      "See the caveats in the documentation: https://pandas.pydata.org/pandas-docs/stable/user_guide/indexing.html#returning-a-view-versus-a-copy\n",
      "  isetter(loc, value)\n"
     ]
    },
    {
     "data": {
      "text/plain": [
       "trade\n",
       "       1568\n",
       "buy     816\n",
       "dtype: int64"
      ]
     },
     "execution_count": 15,
     "metadata": {},
     "output_type": "execute_result"
    }
   ],
   "source": [
    "## 구매 내역 데이터를 삽입\n",
    "## 조건 : 상단 밴드보다 종가가 높은 경우\n",
    "##          구매 상태 이면\n",
    "##              매도 trade = \"\"\n",
    "##          구매 상태가 아니면\n",
    "##              아무 행동도 하지 않는다 trade = \"\"\n",
    "##       하단 밴드보다 종가가 낮은 경우\n",
    "##          구매 상태이면 \n",
    "##              구매 상태 유지 trade = \"buy\"\n",
    "##          구매 상태가 아니면\n",
    "##              구매 trade = \"buy\"\n",
    "##       상단 밴드와 하단 밴드 사이에 종가가 존재하면 \n",
    "##          구매 상태이면 \n",
    "##              현 상태 유지 trade = \"buy\"\n",
    "##          구매 상태가 아니면\n",
    "##              현 상태 유지 trade = \"\"\n",
    "for i in price_df.index:\n",
    "    if price_df.loc[i, \"Adj Close\"] > price_df.loc[i, \"ub\"]:\n",
    "        price_df.loc[i, \"trade\"] = \"\"\n",
    "    elif price_df.loc[i, \"lb\"] > price_df.loc[i, \"Adj Close\"]:\n",
    "        price_df.loc[i, \"trade\"] = \"buy\"\n",
    "    elif price_df.loc[i, \"ub\"] >= price_df.loc[i, \"Adj Close\"] and \\\n",
    "         price_df.loc[i, \"Adj Close\"] >= price_df.loc[i, \"lb\"]:\n",
    "        if price_df.shift(1).loc[i, \"trade\"] == \"buy\":\n",
    "            price_df.loc[i, \"trade\"] = \"buy\"\n",
    "        else :\n",
    "            price_df.loc[i, \"trade\"] = \"\"\n",
    "\n",
    "price_df.value_counts(\"trade\")\n",
    "             "
   ]
  },
  {
   "cell_type": "code",
   "execution_count": 19,
   "metadata": {},
   "outputs": [
    {
     "data": {
      "text/html": [
       "<div>\n",
       "<style scoped>\n",
       "    .dataframe tbody tr th:only-of-type {\n",
       "        vertical-align: middle;\n",
       "    }\n",
       "\n",
       "    .dataframe tbody tr th {\n",
       "        vertical-align: top;\n",
       "    }\n",
       "\n",
       "    .dataframe thead th {\n",
       "        text-align: right;\n",
       "    }\n",
       "</style>\n",
       "<table border=\"1\" class=\"dataframe\">\n",
       "  <thead>\n",
       "    <tr style=\"text-align: right;\">\n",
       "      <th></th>\n",
       "      <th>Adj Close</th>\n",
       "      <th>center</th>\n",
       "      <th>ub</th>\n",
       "      <th>lb</th>\n",
       "      <th>trade</th>\n",
       "      <th>return</th>\n",
       "      <th>acc_rtn</th>\n",
       "    </tr>\n",
       "    <tr>\n",
       "      <th>Date</th>\n",
       "      <th></th>\n",
       "      <th></th>\n",
       "      <th></th>\n",
       "      <th></th>\n",
       "      <th></th>\n",
       "      <th></th>\n",
       "      <th></th>\n",
       "    </tr>\n",
       "  </thead>\n",
       "  <tbody>\n",
       "    <tr>\n",
       "      <th>2010-03-25</th>\n",
       "      <td>61.205368</td>\n",
       "      <td>61.569890</td>\n",
       "      <td>61.819734</td>\n",
       "      <td>61.320047</td>\n",
       "      <td>buy</td>\n",
       "      <td>1.0</td>\n",
       "      <td>1.000000</td>\n",
       "    </tr>\n",
       "    <tr>\n",
       "      <th>2010-03-26</th>\n",
       "      <td>61.337158</td>\n",
       "      <td>61.560745</td>\n",
       "      <td>61.830838</td>\n",
       "      <td>61.290653</td>\n",
       "      <td>buy</td>\n",
       "      <td>1.0</td>\n",
       "      <td>1.000000</td>\n",
       "    </tr>\n",
       "    <tr>\n",
       "      <th>2010-03-29</th>\n",
       "      <td>61.205368</td>\n",
       "      <td>61.541755</td>\n",
       "      <td>61.854636</td>\n",
       "      <td>61.228875</td>\n",
       "      <td>buy</td>\n",
       "      <td>1.0</td>\n",
       "      <td>1.000000</td>\n",
       "    </tr>\n",
       "    <tr>\n",
       "      <th>2010-03-30</th>\n",
       "      <td>61.329365</td>\n",
       "      <td>61.526641</td>\n",
       "      <td>61.850257</td>\n",
       "      <td>61.203025</td>\n",
       "      <td>buy</td>\n",
       "      <td>1.0</td>\n",
       "      <td>1.000000</td>\n",
       "    </tr>\n",
       "    <tr>\n",
       "      <th>2010-03-31</th>\n",
       "      <td>61.383640</td>\n",
       "      <td>61.513850</td>\n",
       "      <td>61.838911</td>\n",
       "      <td>61.188789</td>\n",
       "      <td>buy</td>\n",
       "      <td>1.0</td>\n",
       "      <td>1.000000</td>\n",
       "    </tr>\n",
       "    <tr>\n",
       "      <th>...</th>\n",
       "      <td>...</td>\n",
       "      <td>...</td>\n",
       "      <td>...</td>\n",
       "      <td>...</td>\n",
       "      <td>...</td>\n",
       "      <td>...</td>\n",
       "      <td>...</td>\n",
       "    </tr>\n",
       "    <tr>\n",
       "      <th>2019-03-01</th>\n",
       "      <td>78.634193</td>\n",
       "      <td>78.905679</td>\n",
       "      <td>79.169995</td>\n",
       "      <td>78.641363</td>\n",
       "      <td>buy</td>\n",
       "      <td>1.0</td>\n",
       "      <td>1.070881</td>\n",
       "    </tr>\n",
       "    <tr>\n",
       "      <th>2019-03-04</th>\n",
       "      <td>78.772850</td>\n",
       "      <td>78.907841</td>\n",
       "      <td>79.166744</td>\n",
       "      <td>78.648939</td>\n",
       "      <td>buy</td>\n",
       "      <td>1.0</td>\n",
       "      <td>1.070881</td>\n",
       "    </tr>\n",
       "    <tr>\n",
       "      <th>2019-03-05</th>\n",
       "      <td>78.832283</td>\n",
       "      <td>78.916434</td>\n",
       "      <td>79.151029</td>\n",
       "      <td>78.681839</td>\n",
       "      <td>buy</td>\n",
       "      <td>1.0</td>\n",
       "      <td>1.070881</td>\n",
       "    </tr>\n",
       "    <tr>\n",
       "      <th>2019-03-06</th>\n",
       "      <td>78.931328</td>\n",
       "      <td>78.921579</td>\n",
       "      <td>79.152532</td>\n",
       "      <td>78.690625</td>\n",
       "      <td>buy</td>\n",
       "      <td>1.0</td>\n",
       "      <td>1.070881</td>\n",
       "    </tr>\n",
       "    <tr>\n",
       "      <th>2019-03-07</th>\n",
       "      <td>79.159134</td>\n",
       "      <td>78.939596</td>\n",
       "      <td>79.185927</td>\n",
       "      <td>78.693266</td>\n",
       "      <td>buy</td>\n",
       "      <td>1.0</td>\n",
       "      <td>1.070881</td>\n",
       "    </tr>\n",
       "  </tbody>\n",
       "</table>\n",
       "<p>816 rows × 7 columns</p>\n",
       "</div>"
      ],
      "text/plain": [
       "            Adj Close     center         ub         lb trade  return   acc_rtn\n",
       "Date                                                                          \n",
       "2010-03-25  61.205368  61.569890  61.819734  61.320047   buy     1.0  1.000000\n",
       "2010-03-26  61.337158  61.560745  61.830838  61.290653   buy     1.0  1.000000\n",
       "2010-03-29  61.205368  61.541755  61.854636  61.228875   buy     1.0  1.000000\n",
       "2010-03-30  61.329365  61.526641  61.850257  61.203025   buy     1.0  1.000000\n",
       "2010-03-31  61.383640  61.513850  61.838911  61.188789   buy     1.0  1.000000\n",
       "...               ...        ...        ...        ...   ...     ...       ...\n",
       "2019-03-01  78.634193  78.905679  79.169995  78.641363   buy     1.0  1.070881\n",
       "2019-03-04  78.772850  78.907841  79.166744  78.648939   buy     1.0  1.070881\n",
       "2019-03-05  78.832283  78.916434  79.151029  78.681839   buy     1.0  1.070881\n",
       "2019-03-06  78.931328  78.921579  79.152532  78.690625   buy     1.0  1.070881\n",
       "2019-03-07  79.159134  78.939596  79.185927  78.693266   buy     1.0  1.070881\n",
       "\n",
       "[816 rows x 7 columns]"
      ]
     },
     "execution_count": 19,
     "metadata": {},
     "output_type": "execute_result"
    }
   ],
   "source": [
    "price_df.query(\"trade == 'buy'\")"
   ]
  },
  {
   "cell_type": "code",
   "execution_count": null,
   "metadata": {},
   "outputs": [],
   "source": [
    "## 손익 계산\n",
    "rtn = 1.0\n",
    "price_df[\"return\"] = 1\n",
    "buy = 0.0\n",
    "sell = 0.0\n",
    "for i in price_df.index:\n",
    "    ## 구매하는 경우\n",
    "    if price_df.loc[i, \"trade\"] == \"buy\" and price_df.shift(1).loc[i, \"trade\"] == \"\":\n",
    "        buy = price_df.loc[i, \"Adj Close\"]\n",
    "        print(\"진입일 : \", i, \"진입 가격 : \", buy)\n",
    "    ## 매도하는 경우\n",
    "    elif price_df.loc[i, \"trade\"] == \"\" and price_df.shift(1).loc[i, \"trade\"] == \"buy\":\n",
    "        sell = price_df.loc[i, \"Adj Close\"]\n",
    "        rtn = (sell - buy) / buy + 1 # 손익 계산\n",
    "        price_df.loc[i, \"return\"] = rtn\n",
    "        print(\"청산일 : \", i, \"진입 가격 : \", buy, \"청산 가격 : \", sell,\\\n",
    "             \"| return : \", round(rtn, 4))\n",
    "    \n",
    "    ## buy, sell 변수 초기화\n",
    "    if price_df.loc[i, \"trade\"] == \"\":\n",
    "        buy = 0.0\n",
    "        sell = 0.0\n",
    "    \n",
    "acc_rtn = 1.0\n",
    "for i in price_df.index:\n",
    "    rtn = price_df.loc[i, \"return\"]\n",
    "    acc_rtn = acc_rtn * rtn\n",
    "    price_df.loc[i, \"acc_rtn\"] = acc_rtn\n",
    "\n",
    "print(\"누적 수익률 : \", round(acc_rtn, 4))"
   ]
  },
  {
   "cell_type": "markdown",
   "metadata": {},
   "source": [
    "### 볼린저밴드 모듈 생성\n",
    "1. bollinger 폴더를 생성\n",
    "2. ```__init__.py``` 파일을 생성\n",
    "3. 클래스 생성 \n",
    "4. 데이터프레임, 기준이되는 컬럼 ```__init__``` 함수에서 인자로 받아오는 함수\n",
    "5. 이동 평균선, 상단밴드, 하단밴드, trade = \"\" 생성 함수 생성\n",
    "6. 시작시간은 인자값으로 받아와서 데이터의 개수 필터링\n",
    "7. 구매 상태를 삽입 함수 생성\n",
    "8. 손익 계산 함수 생성"
   ]
  },
  {
   "cell_type": "code",
   "execution_count": 20,
   "metadata": {},
   "outputs": [
    {
     "data": {
      "text/plain": [
       "'2020-01-01'"
      ]
     },
     "execution_count": 20,
     "metadata": {},
     "output_type": "execute_result"
    }
   ],
   "source": [
    "def func_1(start_time):     ## start_time : 매개변수\n",
    "    return start_time\n",
    "\n",
    "func_1('2020-01-01')        ## 2020-01-01 : 인자"
   ]
  },
  {
   "cell_type": "code",
   "execution_count": null,
   "metadata": {},
   "outputs": [],
   "source": []
  }
 ],
 "metadata": {
  "kernelspec": {
   "display_name": "Python 3.6.8 64-bit",
   "language": "python",
   "name": "python3"
  },
  "language_info": {
   "codemirror_mode": {
    "name": "ipython",
    "version": 3
   },
   "file_extension": ".py",
   "mimetype": "text/x-python",
   "name": "python",
   "nbconvert_exporter": "python",
   "pygments_lexer": "ipython3",
   "version": "3.6.8"
  },
  "orig_nbformat": 4,
  "vscode": {
   "interpreter": {
    "hash": "187f19b7e1a6c9dce315ccb3b0d07c5b7aeed6681cd1ee8ee772db2198b62651"
   }
  }
 },
 "nbformat": 4,
 "nbformat_minor": 2
}
