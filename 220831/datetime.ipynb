{
 "cells": [
  {
   "cell_type": "code",
   "execution_count": 1,
   "metadata": {},
   "outputs": [],
   "source": [
    "import datetime"
   ]
  },
  {
   "cell_type": "code",
   "execution_count": 4,
   "metadata": {},
   "outputs": [
    {
     "name": "stdout",
     "output_type": "stream",
     "text": [
      "<class 'str'>\n"
     ]
    }
   ],
   "source": [
    "format  = '%Y-%m-%d %H:%M:%S'\n",
    "datetime_str = '2022-08-31 10:16:20'\n",
    "print(type(datetime_str))"
   ]
  },
  {
   "cell_type": "code",
   "execution_count": 5,
   "metadata": {},
   "outputs": [
    {
     "name": "stdout",
     "output_type": "stream",
     "text": [
      "2022-08-31 10:16:20\n",
      "<class 'datetime.datetime'>\n"
     ]
    }
   ],
   "source": [
    "date = datetime.datetime.strptime(datetime_str, format)\n",
    "print(date)\n",
    "print(type(date))"
   ]
  },
  {
   "cell_type": "code",
   "execution_count": 6,
   "metadata": {},
   "outputs": [
    {
     "data": {
      "text/plain": [
       "datetime.date(2022, 8, 31)"
      ]
     },
     "execution_count": 6,
     "metadata": {},
     "output_type": "execute_result"
    }
   ],
   "source": [
    "datetime.date.today()"
   ]
  },
  {
   "cell_type": "code",
   "execution_count": 7,
   "metadata": {},
   "outputs": [
    {
     "name": "stdout",
     "output_type": "stream",
     "text": [
      "2022-08-31 10:16:20\n",
      "<class 'str'>\n"
     ]
    }
   ],
   "source": [
    "date_str = date.strftime(format)\n",
    "print(date_str)\n",
    "print(type(date_str))"
   ]
  },
  {
   "cell_type": "markdown",
   "metadata": {},
   "source": [
    "### datetime format\n",
    "- %y : 년도를 축약해서 표시('22')\n",
    "- %Y : 년도 전체를 표시('2022')\n",
    "- %b : 축약이 된 월 이름('Mar')\n",
    "- %B : 월 이름 ('March')\n",
    "- %m : 월을 숫자로 표시 ('08')\n",
    "- %d : 일을 숫자로 표시 ('31')\n",
    "- %H : 시를 24시를 기준으로 표시\n",
    "- %I : 시를 12시를 기준으로 표시\n",
    "- %M : 분을 표시\n",
    "- %S : 초를 표시\n",
    "- %a : 요일의 이름을 축약해서 표시\n",
    "- %A : 요일의 이름을 표시\n",
    "- %w : 요일을 숫자로 표시 (일:0, 월:1, ... 토:6)"
   ]
  },
  {
   "cell_type": "code",
   "execution_count": 8,
   "metadata": {},
   "outputs": [],
   "source": [
    "# pandas에서 시계열 데이터\n",
    "import pandas as pd"
   ]
  },
  {
   "cell_type": "code",
   "execution_count": 9,
   "metadata": {},
   "outputs": [
    {
     "data": {
      "text/plain": [
       "Timestamp('1970-01-12 13:46:40')"
      ]
     },
     "execution_count": 9,
     "metadata": {},
     "output_type": "execute_result"
    }
   ],
   "source": [
    "# 나노초를 기준으로 1970-01-01 00:00:00에서 나노초만큼 더한 날짜\n",
    "pd.Timestamp(1000000000000000)"
   ]
  },
  {
   "cell_type": "code",
   "execution_count": 12,
   "metadata": {},
   "outputs": [
    {
     "data": {
      "text/plain": [
       "Timestamp('1997-05-19 00:00:00')"
      ]
     },
     "execution_count": 12,
     "metadata": {},
     "output_type": "execute_result"
    }
   ],
   "source": [
    "# unit='D' 기준을 일로 변경\n",
    "pd.Timestamp(10000, unit='D')"
   ]
  },
  {
   "cell_type": "code",
   "execution_count": 13,
   "metadata": {},
   "outputs": [
    {
     "data": {
      "text/plain": [
       "Timestamp('2022-06-01 00:00:00')"
      ]
     },
     "execution_count": 13,
     "metadata": {},
     "output_type": "execute_result"
    }
   ],
   "source": [
    "pd.Timestamp('2022-06')"
   ]
  },
  {
   "cell_type": "code",
   "execution_count": 14,
   "metadata": {},
   "outputs": [
    {
     "data": {
      "text/plain": [
       "Timestamp('2022-01-01 12:00:00')"
      ]
     },
     "execution_count": 14,
     "metadata": {},
     "output_type": "execute_result"
    }
   ],
   "source": [
    "pd.to_datetime('2022-01-01 12')"
   ]
  },
  {
   "cell_type": "code",
   "execution_count": 15,
   "metadata": {},
   "outputs": [
    {
     "data": {
      "text/plain": [
       "DatetimeIndex(['2022-01-01', '2022-08-31'], dtype='datetime64[ns]', freq=None)"
      ]
     },
     "execution_count": 15,
     "metadata": {},
     "output_type": "execute_result"
    }
   ],
   "source": [
    "pd.to_datetime(['2022-01-01', '2022-08-31'])"
   ]
  },
  {
   "cell_type": "code",
   "execution_count": 17,
   "metadata": {},
   "outputs": [
    {
     "data": {
      "text/plain": [
       "DatetimeIndex(['2022-01-01 12:20:00', '2022-01-02 12:20:00',\n",
       "               '2022-01-03 12:20:00', '2022-01-04 12:20:00',\n",
       "               '2022-01-05 12:20:00', '2022-01-06 12:20:00',\n",
       "               '2022-01-07 12:20:00', '2022-01-08 12:20:00',\n",
       "               '2022-01-09 12:20:00', '2022-01-10 12:20:00',\n",
       "               ...\n",
       "               '2022-08-21 12:20:00', '2022-08-22 12:20:00',\n",
       "               '2022-08-23 12:20:00', '2022-08-24 12:20:00',\n",
       "               '2022-08-25 12:20:00', '2022-08-26 12:20:00',\n",
       "               '2022-08-27 12:20:00', '2022-08-28 12:20:00',\n",
       "               '2022-08-29 12:20:00', '2022-08-30 12:20:00'],\n",
       "              dtype='datetime64[ns]', length=242, freq='D')"
      ]
     },
     "execution_count": 17,
     "metadata": {},
     "output_type": "execute_result"
    }
   ],
   "source": [
    "pd.date_range('2022-01-01 12:20', '2022-08-31 11:11')"
   ]
  },
  {
   "cell_type": "code",
   "execution_count": 20,
   "metadata": {},
   "outputs": [
    {
     "data": {
      "text/plain": [
       "DatetimeIndex(['2022-01-01 00:00:00', '2022-01-01 01:00:00',\n",
       "               '2022-01-01 02:00:00', '2022-01-01 03:00:00',\n",
       "               '2022-01-01 04:00:00', '2022-01-01 05:00:00',\n",
       "               '2022-01-01 06:00:00', '2022-01-01 07:00:00',\n",
       "               '2022-01-01 08:00:00', '2022-01-01 09:00:00',\n",
       "               ...\n",
       "               '2022-08-30 15:00:00', '2022-08-30 16:00:00',\n",
       "               '2022-08-30 17:00:00', '2022-08-30 18:00:00',\n",
       "               '2022-08-30 19:00:00', '2022-08-30 20:00:00',\n",
       "               '2022-08-30 21:00:00', '2022-08-30 22:00:00',\n",
       "               '2022-08-30 23:00:00', '2022-08-31 00:00:00'],\n",
       "              dtype='datetime64[ns]', length=5809, freq='H')"
      ]
     },
     "execution_count": 20,
     "metadata": {},
     "output_type": "execute_result"
    }
   ],
   "source": [
    "pd.date_range('2022-01-01', '2022-08-31', freq='H')"
   ]
  },
  {
   "cell_type": "code",
   "execution_count": 22,
   "metadata": {},
   "outputs": [
    {
     "data": {
      "text/plain": [
       "Timedelta('1 days 00:00:00')"
      ]
     },
     "execution_count": 22,
     "metadata": {},
     "output_type": "execute_result"
    }
   ],
   "source": [
    "pd.Timedelta('1 days')"
   ]
  },
  {
   "cell_type": "code",
   "execution_count": 23,
   "metadata": {},
   "outputs": [
    {
     "data": {
      "text/plain": [
       "Timedelta('1 days 02:00:00')"
      ]
     },
     "execution_count": 23,
     "metadata": {},
     "output_type": "execute_result"
    }
   ],
   "source": [
    "pd.Timedelta('1 days 02:00:00')"
   ]
  },
  {
   "cell_type": "code",
   "execution_count": 24,
   "metadata": {},
   "outputs": [
    {
     "data": {
      "text/plain": [
       "Timestamp('2022-09-01 03:00:00')"
      ]
     },
     "execution_count": 24,
     "metadata": {},
     "output_type": "execute_result"
    }
   ],
   "source": [
    "pd.Timestamp(\"2022-08-31\") + pd.Timedelta(\"1 days 03:00:00\")"
   ]
  },
  {
   "cell_type": "code",
   "execution_count": 25,
   "metadata": {},
   "outputs": [
    {
     "data": {
      "text/plain": [
       "Timedelta('1 days 00:00:30')"
      ]
     },
     "execution_count": 25,
     "metadata": {},
     "output_type": "execute_result"
    }
   ],
   "source": [
    "pd.Timedelta(days = 1, seconds = 30)"
   ]
  },
  {
   "cell_type": "code",
   "execution_count": null,
   "metadata": {},
   "outputs": [],
   "source": []
  }
 ],
 "metadata": {
  "kernelspec": {
   "display_name": "Python 3.6.8 64-bit",
   "language": "python",
   "name": "python3"
  },
  "language_info": {
   "codemirror_mode": {
    "name": "ipython",
    "version": 3
   },
   "file_extension": ".py",
   "mimetype": "text/x-python",
   "name": "python",
   "nbconvert_exporter": "python",
   "pygments_lexer": "ipython3",
   "version": "3.6.8"
  },
  "orig_nbformat": 4,
  "vscode": {
   "interpreter": {
    "hash": "187f19b7e1a6c9dce315ccb3b0d07c5b7aeed6681cd1ee8ee772db2198b62651"
   }
  }
 },
 "nbformat": 4,
 "nbformat_minor": 2
}
