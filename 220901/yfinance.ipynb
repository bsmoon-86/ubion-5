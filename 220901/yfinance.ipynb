{
 "cells": [
  {
   "cell_type": "code",
   "execution_count": null,
   "metadata": {},
   "outputs": [],
   "source": [
    "## yfinance 라이브러리 \n",
    "## 주식정보 받아올수 있는 라이브러리 \n",
    "!pip install yfinance"
   ]
  },
  {
   "cell_type": "code",
   "execution_count": 3,
   "metadata": {},
   "outputs": [],
   "source": [
    "import yfinance as yf\n",
    "import pandas as pd"
   ]
  },
  {
   "cell_type": "code",
   "execution_count": 4,
   "metadata": {},
   "outputs": [
    {
     "name": "stdout",
     "output_type": "stream",
     "text": [
      "[*********************100%***********************]  1 of 1 completed\n"
     ]
    },
    {
     "data": {
      "text/html": [
       "<div>\n",
       "<style scoped>\n",
       "    .dataframe tbody tr th:only-of-type {\n",
       "        vertical-align: middle;\n",
       "    }\n",
       "\n",
       "    .dataframe tbody tr th {\n",
       "        vertical-align: top;\n",
       "    }\n",
       "\n",
       "    .dataframe thead th {\n",
       "        text-align: right;\n",
       "    }\n",
       "</style>\n",
       "<table border=\"1\" class=\"dataframe\">\n",
       "  <thead>\n",
       "    <tr style=\"text-align: right;\">\n",
       "      <th></th>\n",
       "      <th>Open</th>\n",
       "      <th>High</th>\n",
       "      <th>Low</th>\n",
       "      <th>Close</th>\n",
       "      <th>Adj Close</th>\n",
       "      <th>Volume</th>\n",
       "    </tr>\n",
       "    <tr>\n",
       "      <th>Date</th>\n",
       "      <th></th>\n",
       "      <th></th>\n",
       "      <th></th>\n",
       "      <th></th>\n",
       "      <th></th>\n",
       "      <th></th>\n",
       "    </tr>\n",
       "  </thead>\n",
       "  <tbody>\n",
       "    <tr>\n",
       "      <th>2018-12-31</th>\n",
       "      <td>39.632500</td>\n",
       "      <td>39.840000</td>\n",
       "      <td>39.119999</td>\n",
       "      <td>39.435001</td>\n",
       "      <td>38.124855</td>\n",
       "      <td>140014000</td>\n",
       "    </tr>\n",
       "    <tr>\n",
       "      <th>2019-01-02</th>\n",
       "      <td>38.722500</td>\n",
       "      <td>39.712502</td>\n",
       "      <td>38.557499</td>\n",
       "      <td>39.480000</td>\n",
       "      <td>38.168343</td>\n",
       "      <td>148158800</td>\n",
       "    </tr>\n",
       "    <tr>\n",
       "      <th>2019-01-03</th>\n",
       "      <td>35.994999</td>\n",
       "      <td>36.430000</td>\n",
       "      <td>35.500000</td>\n",
       "      <td>35.547501</td>\n",
       "      <td>34.366497</td>\n",
       "      <td>365248800</td>\n",
       "    </tr>\n",
       "    <tr>\n",
       "      <th>2019-01-04</th>\n",
       "      <td>36.132500</td>\n",
       "      <td>37.137501</td>\n",
       "      <td>35.950001</td>\n",
       "      <td>37.064999</td>\n",
       "      <td>35.833588</td>\n",
       "      <td>234428400</td>\n",
       "    </tr>\n",
       "    <tr>\n",
       "      <th>2019-01-07</th>\n",
       "      <td>37.174999</td>\n",
       "      <td>37.207500</td>\n",
       "      <td>36.474998</td>\n",
       "      <td>36.982498</td>\n",
       "      <td>35.753822</td>\n",
       "      <td>219111200</td>\n",
       "    </tr>\n",
       "    <tr>\n",
       "      <th>...</th>\n",
       "      <td>...</td>\n",
       "      <td>...</td>\n",
       "      <td>...</td>\n",
       "      <td>...</td>\n",
       "      <td>...</td>\n",
       "      <td>...</td>\n",
       "    </tr>\n",
       "    <tr>\n",
       "      <th>2022-08-25</th>\n",
       "      <td>168.779999</td>\n",
       "      <td>170.139999</td>\n",
       "      <td>168.350006</td>\n",
       "      <td>170.029999</td>\n",
       "      <td>170.029999</td>\n",
       "      <td>51218200</td>\n",
       "    </tr>\n",
       "    <tr>\n",
       "      <th>2022-08-26</th>\n",
       "      <td>170.570007</td>\n",
       "      <td>171.050003</td>\n",
       "      <td>163.559998</td>\n",
       "      <td>163.619995</td>\n",
       "      <td>163.619995</td>\n",
       "      <td>78823500</td>\n",
       "    </tr>\n",
       "    <tr>\n",
       "      <th>2022-08-29</th>\n",
       "      <td>161.149994</td>\n",
       "      <td>162.899994</td>\n",
       "      <td>159.820007</td>\n",
       "      <td>161.380005</td>\n",
       "      <td>161.380005</td>\n",
       "      <td>73314000</td>\n",
       "    </tr>\n",
       "    <tr>\n",
       "      <th>2022-08-30</th>\n",
       "      <td>162.130005</td>\n",
       "      <td>162.559998</td>\n",
       "      <td>157.720001</td>\n",
       "      <td>158.910004</td>\n",
       "      <td>158.910004</td>\n",
       "      <td>77906200</td>\n",
       "    </tr>\n",
       "    <tr>\n",
       "      <th>2022-08-31</th>\n",
       "      <td>160.309998</td>\n",
       "      <td>160.580002</td>\n",
       "      <td>157.139999</td>\n",
       "      <td>157.220001</td>\n",
       "      <td>157.220001</td>\n",
       "      <td>87700100</td>\n",
       "    </tr>\n",
       "  </tbody>\n",
       "</table>\n",
       "<p>925 rows × 6 columns</p>\n",
       "</div>"
      ],
      "text/plain": [
       "                  Open        High         Low       Close   Adj Close  \\\n",
       "Date                                                                     \n",
       "2018-12-31   39.632500   39.840000   39.119999   39.435001   38.124855   \n",
       "2019-01-02   38.722500   39.712502   38.557499   39.480000   38.168343   \n",
       "2019-01-03   35.994999   36.430000   35.500000   35.547501   34.366497   \n",
       "2019-01-04   36.132500   37.137501   35.950001   37.064999   35.833588   \n",
       "2019-01-07   37.174999   37.207500   36.474998   36.982498   35.753822   \n",
       "...                ...         ...         ...         ...         ...   \n",
       "2022-08-25  168.779999  170.139999  168.350006  170.029999  170.029999   \n",
       "2022-08-26  170.570007  171.050003  163.559998  163.619995  163.619995   \n",
       "2022-08-29  161.149994  162.899994  159.820007  161.380005  161.380005   \n",
       "2022-08-30  162.130005  162.559998  157.720001  158.910004  158.910004   \n",
       "2022-08-31  160.309998  160.580002  157.139999  157.220001  157.220001   \n",
       "\n",
       "               Volume  \n",
       "Date                   \n",
       "2018-12-31  140014000  \n",
       "2019-01-02  148158800  \n",
       "2019-01-03  365248800  \n",
       "2019-01-04  234428400  \n",
       "2019-01-07  219111200  \n",
       "...               ...  \n",
       "2022-08-25   51218200  \n",
       "2022-08-26   78823500  \n",
       "2022-08-29   73314000  \n",
       "2022-08-30   77906200  \n",
       "2022-08-31   87700100  \n",
       "\n",
       "[925 rows x 6 columns]"
      ]
     },
     "execution_count": 4,
     "metadata": {},
     "output_type": "execute_result"
    }
   ],
   "source": [
    "yf.download('AAPL', start='2019-01-01')"
   ]
  },
  {
   "cell_type": "code",
   "execution_count": 10,
   "metadata": {},
   "outputs": [
    {
     "name": "stdout",
     "output_type": "stream",
     "text": [
      "[*********************100%***********************]  1 of 1 completed\n"
     ]
    },
    {
     "data": {
      "text/html": [
       "<div>\n",
       "<style scoped>\n",
       "    .dataframe tbody tr th:only-of-type {\n",
       "        vertical-align: middle;\n",
       "    }\n",
       "\n",
       "    .dataframe tbody tr th {\n",
       "        vertical-align: top;\n",
       "    }\n",
       "\n",
       "    .dataframe thead th {\n",
       "        text-align: right;\n",
       "    }\n",
       "</style>\n",
       "<table border=\"1\" class=\"dataframe\">\n",
       "  <thead>\n",
       "    <tr style=\"text-align: right;\">\n",
       "      <th></th>\n",
       "      <th>Open</th>\n",
       "      <th>High</th>\n",
       "      <th>Low</th>\n",
       "      <th>Close</th>\n",
       "      <th>Adj Close</th>\n",
       "      <th>Volume</th>\n",
       "    </tr>\n",
       "    <tr>\n",
       "      <th>Date</th>\n",
       "      <th></th>\n",
       "      <th></th>\n",
       "      <th></th>\n",
       "      <th></th>\n",
       "      <th></th>\n",
       "      <th></th>\n",
       "    </tr>\n",
       "  </thead>\n",
       "  <tbody>\n",
       "    <tr>\n",
       "      <th>2022-09-01</th>\n",
       "      <td>13600.0</td>\n",
       "      <td>13650.0</td>\n",
       "      <td>13450.0</td>\n",
       "      <td>13450.0</td>\n",
       "      <td>13450.0</td>\n",
       "      <td>18522</td>\n",
       "    </tr>\n",
       "  </tbody>\n",
       "</table>\n",
       "</div>"
      ],
      "text/plain": [
       "               Open     High      Low    Close  Adj Close  Volume\n",
       "Date                                                             \n",
       "2022-09-01  13600.0  13650.0  13450.0  13450.0    13450.0   18522"
      ]
     },
     "execution_count": 10,
     "metadata": {},
     "output_type": "execute_result"
    }
   ],
   "source": [
    "yf.download('382800.KQ', start=\"2019-01-01\")\n",
    "\n",
    "## 대한항공 003490.KS"
   ]
  },
  {
   "cell_type": "code",
   "execution_count": null,
   "metadata": {},
   "outputs": [],
   "source": []
  },
  {
   "cell_type": "markdown",
   "metadata": {},
   "source": [
    "1. 각자 한종목의 데이터를 선택\n",
    "3. NaN값이 존재하면 시가 변환\n",
    "4. 파생변수 등락폭 (종가 - 시가) 생성\n",
    "5. 등락율 (등락폭 / 시가 * 100) 파생변수 생성\n",
    "6. 시가 / 종가 / 등락폭 / 볼륨 데이터를 시각화하여 표시 subplot 4개의 그래프 생성"
   ]
  },
  {
   "cell_type": "code",
   "execution_count": 11,
   "metadata": {},
   "outputs": [
    {
     "name": "stdout",
     "output_type": "stream",
     "text": [
      "[*********************100%***********************]  1 of 1 completed\n"
     ]
    },
    {
     "data": {
      "text/html": [
       "<div>\n",
       "<style scoped>\n",
       "    .dataframe tbody tr th:only-of-type {\n",
       "        vertical-align: middle;\n",
       "    }\n",
       "\n",
       "    .dataframe tbody tr th {\n",
       "        vertical-align: top;\n",
       "    }\n",
       "\n",
       "    .dataframe thead th {\n",
       "        text-align: right;\n",
       "    }\n",
       "</style>\n",
       "<table border=\"1\" class=\"dataframe\">\n",
       "  <thead>\n",
       "    <tr style=\"text-align: right;\">\n",
       "      <th></th>\n",
       "      <th>Open</th>\n",
       "      <th>High</th>\n",
       "      <th>Low</th>\n",
       "      <th>Close</th>\n",
       "      <th>Adj Close</th>\n",
       "      <th>Volume</th>\n",
       "    </tr>\n",
       "    <tr>\n",
       "      <th>Date</th>\n",
       "      <th></th>\n",
       "      <th></th>\n",
       "      <th></th>\n",
       "      <th></th>\n",
       "      <th></th>\n",
       "      <th></th>\n",
       "    </tr>\n",
       "  </thead>\n",
       "  <tbody>\n",
       "    <tr>\n",
       "      <th>2018-12-31</th>\n",
       "      <td>75.540001</td>\n",
       "      <td>76.038002</td>\n",
       "      <td>74.349998</td>\n",
       "      <td>75.098503</td>\n",
       "      <td>75.098503</td>\n",
       "      <td>139090000</td>\n",
       "    </tr>\n",
       "    <tr>\n",
       "      <th>2019-01-02</th>\n",
       "      <td>73.260002</td>\n",
       "      <td>77.667999</td>\n",
       "      <td>73.046501</td>\n",
       "      <td>76.956497</td>\n",
       "      <td>76.956497</td>\n",
       "      <td>159662000</td>\n",
       "    </tr>\n",
       "    <tr>\n",
       "      <th>2019-01-03</th>\n",
       "      <td>76.000504</td>\n",
       "      <td>76.900002</td>\n",
       "      <td>74.855499</td>\n",
       "      <td>75.014000</td>\n",
       "      <td>75.014000</td>\n",
       "      <td>139512000</td>\n",
       "    </tr>\n",
       "    <tr>\n",
       "      <th>2019-01-04</th>\n",
       "      <td>76.500000</td>\n",
       "      <td>79.699997</td>\n",
       "      <td>75.915497</td>\n",
       "      <td>78.769501</td>\n",
       "      <td>78.769501</td>\n",
       "      <td>183652000</td>\n",
       "    </tr>\n",
       "    <tr>\n",
       "      <th>2019-01-07</th>\n",
       "      <td>80.115501</td>\n",
       "      <td>81.727997</td>\n",
       "      <td>79.459503</td>\n",
       "      <td>81.475502</td>\n",
       "      <td>81.475502</td>\n",
       "      <td>159864000</td>\n",
       "    </tr>\n",
       "  </tbody>\n",
       "</table>\n",
       "</div>"
      ],
      "text/plain": [
       "                 Open       High        Low      Close  Adj Close     Volume\n",
       "Date                                                                        \n",
       "2018-12-31  75.540001  76.038002  74.349998  75.098503  75.098503  139090000\n",
       "2019-01-02  73.260002  77.667999  73.046501  76.956497  76.956497  159662000\n",
       "2019-01-03  76.000504  76.900002  74.855499  75.014000  75.014000  139512000\n",
       "2019-01-04  76.500000  79.699997  75.915497  78.769501  78.769501  183652000\n",
       "2019-01-07  80.115501  81.727997  79.459503  81.475502  81.475502  159864000"
      ]
     },
     "execution_count": 11,
     "metadata": {},
     "output_type": "execute_result"
    }
   ],
   "source": [
    "## 회사 선택\n",
    "amzn = yf.download('AMZN', start=\"2019-01-01\")\n",
    "amzn.head()"
   ]
  },
  {
   "cell_type": "code",
   "execution_count": null,
   "metadata": {},
   "outputs": [],
   "source": [
    "## 소수점 2번째 자리 유지\n",
    "amzn[[\"Open\", \"Close\", \"High\", \"Low\"]] = \\\n",
    "    amzn[[\"Open\", \"Close\", \"High\", \"Low\"]].round(2)\n",
    "amzn.head()"
   ]
  },
  {
   "cell_type": "code",
   "execution_count": 13,
   "metadata": {},
   "outputs": [
    {
     "data": {
      "text/plain": [
       "Open         0\n",
       "High         0\n",
       "Low          0\n",
       "Close        0\n",
       "Adj Close    0\n",
       "Volume       0\n",
       "dtype: int64"
      ]
     },
     "execution_count": 13,
     "metadata": {},
     "output_type": "execute_result"
    }
   ],
   "source": [
    "amzn.isna().sum()"
   ]
  },
  {
   "cell_type": "code",
   "execution_count": null,
   "metadata": {},
   "outputs": [],
   "source": [
    "amzn[\"등락폭\"] = amzn[\"Close\"] - amzn[\"Open\"]\n",
    "amzn[\"등락율\"] = amzn[\"등락폭\"] / amzn[\"Open\"] * 100\n",
    "amzn.head()"
   ]
  },
  {
   "cell_type": "code",
   "execution_count": 15,
   "metadata": {},
   "outputs": [],
   "source": [
    "## 시각화 \n",
    "import matplotlib.pyplot as plt"
   ]
  },
  {
   "cell_type": "code",
   "execution_count": null,
   "metadata": {},
   "outputs": [],
   "source": [
    "a = amzn[\"Open\"].to_list()\n",
    "b = amzn[\"Close\"].to_list()\n",
    "c = amzn[\"등락율\"].to_list()\n",
    "d = amzn[\"Volume\"].to_list()\n",
    "\n",
    "plt.subplot(4,1,1)\n",
    "plt.plot(a)\n",
    "plt.subplot(4,1,2)\n",
    "plt.plot(b)\n",
    "plt.subplot(4,1,3)\n",
    "plt.plot(c)\n",
    "plt.subplot(4,1,4)\n",
    "plt.plot(d)\n",
    "plt.show()"
   ]
  },
  {
   "cell_type": "code",
   "execution_count": null,
   "metadata": {},
   "outputs": [],
   "source": []
  }
 ],
 "metadata": {
  "kernelspec": {
   "display_name": "Python 3.6.8 64-bit",
   "language": "python",
   "name": "python3"
  },
  "language_info": {
   "codemirror_mode": {
    "name": "ipython",
    "version": 3
   },
   "file_extension": ".py",
   "mimetype": "text/x-python",
   "name": "python",
   "nbconvert_exporter": "python",
   "pygments_lexer": "ipython3",
   "version": "3.6.8"
  },
  "orig_nbformat": 4,
  "vscode": {
   "interpreter": {
    "hash": "187f19b7e1a6c9dce315ccb3b0d07c5b7aeed6681cd1ee8ee772db2198b62651"
   }
  }
 },
 "nbformat": 4,
 "nbformat_minor": 2
}
