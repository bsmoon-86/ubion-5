{
 "cells": [
  {
   "cell_type": "code",
   "execution_count": 1,
   "metadata": {},
   "outputs": [],
   "source": [
    "import pandas as pd\n",
    "import numpy as np"
   ]
  },
  {
   "cell_type": "code",
   "execution_count": 2,
   "metadata": {},
   "outputs": [],
   "source": [
    "corona = pd.read_csv(\"../csv/corona.csv\")"
   ]
  },
  {
   "cell_type": "code",
   "execution_count": 3,
   "metadata": {},
   "outputs": [],
   "source": [
    "corona.drop([\"Unnamed: 0\"], axis=\"columns\", inplace=True)"
   ]
  },
  {
   "cell_type": "code",
   "execution_count": 4,
   "metadata": {},
   "outputs": [],
   "source": [
    "corona.columns = [\"등록일시\", \"사망자\", \"확진자\", \"게시글번호\", \"기준일\", \n",
    "\"기준시간\", \"수정일시\", \"누적의심자\", \"누적확진률\"]"
   ]
  },
  {
   "cell_type": "code",
   "execution_count": 5,
   "metadata": {},
   "outputs": [],
   "source": [
    "corona.sort_values([\"등록일시\"], inplace=True)"
   ]
  },
  {
   "cell_type": "code",
   "execution_count": 6,
   "metadata": {},
   "outputs": [],
   "source": [
    "corona.reset_index(drop=True, inplace=True)"
   ]
  },
  {
   "cell_type": "code",
   "execution_count": null,
   "metadata": {},
   "outputs": [],
   "source": [
    "corona[\"일일확진자\"] = corona[\"확진자\"].diff()\n",
    "corona[\"일일사망자\"] = corona[\"사망자\"].diff()\n",
    "corona.head()"
   ]
  },
  {
   "cell_type": "code",
   "execution_count": null,
   "metadata": {},
   "outputs": [],
   "source": [
    "## 결측치를 채우는 함수\n",
    "## fillna(결측치에 들어갈 값)\n",
    "corona[\"일일확진자\"] = corona[\"일일확진자\"].fillna(0)\n",
    "corona.head()"
   ]
  },
  {
   "cell_type": "code",
   "execution_count": null,
   "metadata": {},
   "outputs": [],
   "source": [
    "corona.tail(10)"
   ]
  },
  {
   "cell_type": "code",
   "execution_count": null,
   "metadata": {},
   "outputs": [],
   "source": [
    "##fillna(옵션)\n",
    "## method 속성 -> ffill, bfill\n",
    "## fill 채우다 라는 의미, f:front  /  b:back\n",
    "## ffill -> 전의 값으로 채운다\n",
    "## bfill -> 후의 값으로 채운다\n",
    "## 누적의심자 컬럼의 값들을 fillna(method ='bfill')\n",
    "corona[\"누적의심자\"].fillna(method='bfill')"
   ]
  },
  {
   "cell_type": "code",
   "execution_count": null,
   "metadata": {},
   "outputs": [],
   "source": [
    "corona[\"누적의심자\"].fillna(method=\"ffill\")"
   ]
  },
  {
   "cell_type": "code",
   "execution_count": null,
   "metadata": {},
   "outputs": [],
   "source": [
    "## 누적확진률에 결측치의 값을 누적확진률의 평균을 채운다.\n",
    "corona[\"누적확진률\"].fillna(corona[\"누적확진률\"].mean())"
   ]
  },
  {
   "cell_type": "code",
   "execution_count": null,
   "metadata": {},
   "outputs": [],
   "source": [
    "## filter 기능 \n",
    "## query()\n",
    "corona.query(\"일일확진자 < 0\")"
   ]
  },
  {
   "cell_type": "code",
   "execution_count": 16,
   "metadata": {},
   "outputs": [
    {
     "data": {
      "text/html": [
       "<div>\n",
       "<style scoped>\n",
       "    .dataframe tbody tr th:only-of-type {\n",
       "        vertical-align: middle;\n",
       "    }\n",
       "\n",
       "    .dataframe tbody tr th {\n",
       "        vertical-align: top;\n",
       "    }\n",
       "\n",
       "    .dataframe thead th {\n",
       "        text-align: right;\n",
       "    }\n",
       "</style>\n",
       "<table border=\"1\" class=\"dataframe\">\n",
       "  <thead>\n",
       "    <tr style=\"text-align: right;\">\n",
       "      <th></th>\n",
       "      <th>등록일시</th>\n",
       "      <th>사망자</th>\n",
       "      <th>확진자</th>\n",
       "      <th>게시글번호</th>\n",
       "      <th>기준일</th>\n",
       "      <th>기준시간</th>\n",
       "      <th>수정일시</th>\n",
       "      <th>누적의심자</th>\n",
       "      <th>누적확진률</th>\n",
       "      <th>일일확진자</th>\n",
       "      <th>일일사망자</th>\n",
       "    </tr>\n",
       "  </thead>\n",
       "  <tbody>\n",
       "    <tr>\n",
       "      <th>444</th>\n",
       "      <td>2021-05-29 00:00:00.000</td>\n",
       "      <td>1951</td>\n",
       "      <td>139427</td>\n",
       "      <td>496</td>\n",
       "      <td>20210529</td>\n",
       "      <td>00:00</td>\n",
       "      <td>2021-10-07 10:30:51.51</td>\n",
       "      <td>9733588.0</td>\n",
       "      <td>1.450884</td>\n",
       "      <td>533.0</td>\n",
       "      <td>5.0</td>\n",
       "    </tr>\n",
       "    <tr>\n",
       "      <th>445</th>\n",
       "      <td>2021-05-30 00:00:00.0</td>\n",
       "      <td>1959</td>\n",
       "      <td>140337</td>\n",
       "      <td>498</td>\n",
       "      <td>20210531</td>\n",
       "      <td>00:00</td>\n",
       "      <td>2021-10-14 13:48:56.821</td>\n",
       "      <td>9761156.0</td>\n",
       "      <td>1.456805</td>\n",
       "      <td>910.0</td>\n",
       "      <td>8.0</td>\n",
       "    </tr>\n",
       "    <tr>\n",
       "      <th>446</th>\n",
       "      <td>2021-05-30 00:00:00.000</td>\n",
       "      <td>1957</td>\n",
       "      <td>139907</td>\n",
       "      <td>497</td>\n",
       "      <td>20210530</td>\n",
       "      <td>00:00</td>\n",
       "      <td>2021-10-07 10:30:51.51</td>\n",
       "      <td>9747612.0</td>\n",
       "      <td>1.454166</td>\n",
       "      <td>-430.0</td>\n",
       "      <td>-2.0</td>\n",
       "    </tr>\n",
       "    <tr>\n",
       "      <th>447</th>\n",
       "      <td>2021-06-01 00:00:00.000</td>\n",
       "      <td>1963</td>\n",
       "      <td>140796</td>\n",
       "      <td>499</td>\n",
       "      <td>20210601</td>\n",
       "      <td>00:00</td>\n",
       "      <td>2021-10-07 10:30:51.51</td>\n",
       "      <td>9798400.0</td>\n",
       "      <td>1.455890</td>\n",
       "      <td>889.0</td>\n",
       "      <td>6.0</td>\n",
       "    </tr>\n",
       "    <tr>\n",
       "      <th>448</th>\n",
       "      <td>2021-06-02 00:00:00.000</td>\n",
       "      <td>1965</td>\n",
       "      <td>141473</td>\n",
       "      <td>500</td>\n",
       "      <td>20210602</td>\n",
       "      <td>00:00</td>\n",
       "      <td>2021-10-07 10:30:51.51</td>\n",
       "      <td>9834348.0</td>\n",
       "      <td>1.457668</td>\n",
       "      <td>677.0</td>\n",
       "      <td>2.0</td>\n",
       "    </tr>\n",
       "  </tbody>\n",
       "</table>\n",
       "</div>"
      ],
      "text/plain": [
       "                        등록일시   사망자     확진자  게시글번호       기준일   기준시간  \\\n",
       "444  2021-05-29 00:00:00.000  1951  139427    496  20210529  00:00   \n",
       "445    2021-05-30 00:00:00.0  1959  140337    498  20210531  00:00   \n",
       "446  2021-05-30 00:00:00.000  1957  139907    497  20210530  00:00   \n",
       "447  2021-06-01 00:00:00.000  1963  140796    499  20210601  00:00   \n",
       "448  2021-06-02 00:00:00.000  1965  141473    500  20210602  00:00   \n",
       "\n",
       "                        수정일시      누적의심자     누적확진률  일일확진자  일일사망자  \n",
       "444   2021-10-07 10:30:51.51  9733588.0  1.450884  533.0    5.0  \n",
       "445  2021-10-14 13:48:56.821  9761156.0  1.456805  910.0    8.0  \n",
       "446   2021-10-07 10:30:51.51  9747612.0  1.454166 -430.0   -2.0  \n",
       "447   2021-10-07 10:30:51.51  9798400.0  1.455890  889.0    6.0  \n",
       "448   2021-10-07 10:30:51.51  9834348.0  1.457668  677.0    2.0  "
      ]
     },
     "execution_count": 16,
     "metadata": {},
     "output_type": "execute_result"
    }
   ],
   "source": [
    "## 인덱스 444부터 448까지의 데이터를 출력\n",
    "## loc[]\n",
    "corona.loc[444:448,:]"
   ]
  },
  {
   "cell_type": "code",
   "execution_count": null,
   "metadata": {},
   "outputs": [],
   "source": []
  }
 ],
 "metadata": {
  "kernelspec": {
   "display_name": "Python 3.6.8 64-bit",
   "language": "python",
   "name": "python3"
  },
  "language_info": {
   "codemirror_mode": {
    "name": "ipython",
    "version": 3
   },
   "file_extension": ".py",
   "mimetype": "text/x-python",
   "name": "python",
   "nbconvert_exporter": "python",
   "pygments_lexer": "ipython3",
   "version": "3.6.8"
  },
  "orig_nbformat": 4,
  "vscode": {
   "interpreter": {
    "hash": "187f19b7e1a6c9dce315ccb3b0d07c5b7aeed6681cd1ee8ee772db2198b62651"
   }
  }
 },
 "nbformat": 4,
 "nbformat_minor": 2
}
