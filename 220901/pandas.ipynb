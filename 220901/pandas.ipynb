{
 "cells": [
  {
   "cell_type": "code",
   "execution_count": 1,
   "metadata": {},
   "outputs": [],
   "source": [
    "import pandas as pd\n",
    "import numpy as np"
   ]
  },
  {
   "cell_type": "code",
   "execution_count": 2,
   "metadata": {},
   "outputs": [],
   "source": [
    "corona = pd.read_csv(\"../csv/corona.csv\")"
   ]
  },
  {
   "cell_type": "code",
   "execution_count": 3,
   "metadata": {},
   "outputs": [],
   "source": [
    "corona.drop([\"Unnamed: 0\"], axis=\"columns\", inplace=True)"
   ]
  },
  {
   "cell_type": "code",
   "execution_count": 4,
   "metadata": {},
   "outputs": [],
   "source": [
    "corona.columns = [\"등록일시\", \"사망자\", \"확진자\", \"게시글번호\", \"기준일\", \n",
    "\"기준시간\", \"수정일시\", \"누적의심자\", \"누적확진률\"]"
   ]
  },
  {
   "cell_type": "code",
   "execution_count": 5,
   "metadata": {},
   "outputs": [],
   "source": [
    "corona.sort_values([\"등록일시\"], inplace=True)"
   ]
  },
  {
   "cell_type": "code",
   "execution_count": 6,
   "metadata": {},
   "outputs": [],
   "source": [
    "corona.reset_index(drop=True, inplace=True)"
   ]
  },
  {
   "cell_type": "code",
   "execution_count": null,
   "metadata": {},
   "outputs": [],
   "source": [
    "corona[\"일일확진자\"] = corona[\"확진자\"].diff()\n",
    "corona[\"일일사망자\"] = corona[\"사망자\"].diff()\n",
    "corona.head()"
   ]
  },
  {
   "cell_type": "code",
   "execution_count": null,
   "metadata": {},
   "outputs": [],
   "source": [
    "## 결측치를 채우는 함수\n",
    "## fillna(결측치에 들어갈 값)\n",
    "corona[\"일일확진자\"] = corona[\"일일확진자\"].fillna(0)\n",
    "corona.head()"
   ]
  },
  {
   "cell_type": "code",
   "execution_count": null,
   "metadata": {},
   "outputs": [],
   "source": [
    "corona.tail(10)"
   ]
  },
  {
   "cell_type": "code",
   "execution_count": null,
   "metadata": {},
   "outputs": [],
   "source": [
    "##fillna(옵션)\n",
    "## method 속성 -> ffill, bfill\n",
    "## fill 채우다 라는 의미, f:front  /  b:back\n",
    "## ffill -> 전의 값으로 채운다\n",
    "## bfill -> 후의 값으로 채운다\n",
    "## 누적의심자 컬럼의 값들을 fillna(method ='bfill')\n",
    "corona[\"누적의심자\"].fillna(method='bfill')"
   ]
  },
  {
   "cell_type": "code",
   "execution_count": null,
   "metadata": {},
   "outputs": [],
   "source": [
    "corona[\"누적의심자\"].fillna(method=\"ffill\")"
   ]
  },
  {
   "cell_type": "code",
   "execution_count": null,
   "metadata": {},
   "outputs": [],
   "source": [
    "## 누적확진률에 결측치의 값을 누적확진률의 평균을 채운다.\n",
    "corona[\"누적확진률\"].fillna(corona[\"누적확진률\"].mean())"
   ]
  },
  {
   "cell_type": "code",
   "execution_count": 17,
   "metadata": {},
   "outputs": [
    {
     "data": {
      "text/html": [
       "<div>\n",
       "<style scoped>\n",
       "    .dataframe tbody tr th:only-of-type {\n",
       "        vertical-align: middle;\n",
       "    }\n",
       "\n",
       "    .dataframe tbody tr th {\n",
       "        vertical-align: top;\n",
       "    }\n",
       "\n",
       "    .dataframe thead th {\n",
       "        text-align: right;\n",
       "    }\n",
       "</style>\n",
       "<table border=\"1\" class=\"dataframe\">\n",
       "  <thead>\n",
       "    <tr style=\"text-align: right;\">\n",
       "      <th></th>\n",
       "      <th>등록일시</th>\n",
       "      <th>사망자</th>\n",
       "      <th>확진자</th>\n",
       "      <th>게시글번호</th>\n",
       "      <th>기준일</th>\n",
       "      <th>기준시간</th>\n",
       "      <th>수정일시</th>\n",
       "      <th>누적의심자</th>\n",
       "      <th>누적확진률</th>\n",
       "      <th>일일확진자</th>\n",
       "      <th>일일사망자</th>\n",
       "    </tr>\n",
       "  </thead>\n",
       "  <tbody>\n",
       "    <tr>\n",
       "      <th>446</th>\n",
       "      <td>2021-05-30 00:00:00.000</td>\n",
       "      <td>1957</td>\n",
       "      <td>139907</td>\n",
       "      <td>497</td>\n",
       "      <td>20210530</td>\n",
       "      <td>00:00</td>\n",
       "      <td>2021-10-07 10:30:51.51</td>\n",
       "      <td>9747612.0</td>\n",
       "      <td>1.454166</td>\n",
       "      <td>-430.0</td>\n",
       "      <td>-2.0</td>\n",
       "    </tr>\n",
       "  </tbody>\n",
       "</table>\n",
       "</div>"
      ],
      "text/plain": [
       "                        등록일시   사망자     확진자  게시글번호       기준일   기준시간  \\\n",
       "446  2021-05-30 00:00:00.000  1957  139907    497  20210530  00:00   \n",
       "\n",
       "                       수정일시      누적의심자     누적확진률  일일확진자  일일사망자  \n",
       "446  2021-10-07 10:30:51.51  9747612.0  1.454166 -430.0   -2.0  "
      ]
     },
     "execution_count": 17,
     "metadata": {},
     "output_type": "execute_result"
    }
   ],
   "source": [
    "## filter 기능 \n",
    "## query()\n",
    "corona.query(\"일일확진자 < 0\")"
   ]
  },
  {
   "cell_type": "code",
   "execution_count": 16,
   "metadata": {},
   "outputs": [
    {
     "data": {
      "text/html": [
       "<div>\n",
       "<style scoped>\n",
       "    .dataframe tbody tr th:only-of-type {\n",
       "        vertical-align: middle;\n",
       "    }\n",
       "\n",
       "    .dataframe tbody tr th {\n",
       "        vertical-align: top;\n",
       "    }\n",
       "\n",
       "    .dataframe thead th {\n",
       "        text-align: right;\n",
       "    }\n",
       "</style>\n",
       "<table border=\"1\" class=\"dataframe\">\n",
       "  <thead>\n",
       "    <tr style=\"text-align: right;\">\n",
       "      <th></th>\n",
       "      <th>등록일시</th>\n",
       "      <th>사망자</th>\n",
       "      <th>확진자</th>\n",
       "      <th>게시글번호</th>\n",
       "      <th>기준일</th>\n",
       "      <th>기준시간</th>\n",
       "      <th>수정일시</th>\n",
       "      <th>누적의심자</th>\n",
       "      <th>누적확진률</th>\n",
       "      <th>일일확진자</th>\n",
       "      <th>일일사망자</th>\n",
       "    </tr>\n",
       "  </thead>\n",
       "  <tbody>\n",
       "    <tr>\n",
       "      <th>444</th>\n",
       "      <td>2021-05-29 00:00:00.000</td>\n",
       "      <td>1951</td>\n",
       "      <td>139427</td>\n",
       "      <td>496</td>\n",
       "      <td>20210529</td>\n",
       "      <td>00:00</td>\n",
       "      <td>2021-10-07 10:30:51.51</td>\n",
       "      <td>9733588.0</td>\n",
       "      <td>1.450884</td>\n",
       "      <td>533.0</td>\n",
       "      <td>5.0</td>\n",
       "    </tr>\n",
       "    <tr>\n",
       "      <th>445</th>\n",
       "      <td>2021-05-30 00:00:00.0</td>\n",
       "      <td>1959</td>\n",
       "      <td>140337</td>\n",
       "      <td>498</td>\n",
       "      <td>20210531</td>\n",
       "      <td>00:00</td>\n",
       "      <td>2021-10-14 13:48:56.821</td>\n",
       "      <td>9761156.0</td>\n",
       "      <td>1.456805</td>\n",
       "      <td>910.0</td>\n",
       "      <td>8.0</td>\n",
       "    </tr>\n",
       "    <tr>\n",
       "      <th>446</th>\n",
       "      <td>2021-05-30 00:00:00.000</td>\n",
       "      <td>1957</td>\n",
       "      <td>139907</td>\n",
       "      <td>497</td>\n",
       "      <td>20210530</td>\n",
       "      <td>00:00</td>\n",
       "      <td>2021-10-07 10:30:51.51</td>\n",
       "      <td>9747612.0</td>\n",
       "      <td>1.454166</td>\n",
       "      <td>-430.0</td>\n",
       "      <td>-2.0</td>\n",
       "    </tr>\n",
       "    <tr>\n",
       "      <th>447</th>\n",
       "      <td>2021-06-01 00:00:00.000</td>\n",
       "      <td>1963</td>\n",
       "      <td>140796</td>\n",
       "      <td>499</td>\n",
       "      <td>20210601</td>\n",
       "      <td>00:00</td>\n",
       "      <td>2021-10-07 10:30:51.51</td>\n",
       "      <td>9798400.0</td>\n",
       "      <td>1.455890</td>\n",
       "      <td>889.0</td>\n",
       "      <td>6.0</td>\n",
       "    </tr>\n",
       "    <tr>\n",
       "      <th>448</th>\n",
       "      <td>2021-06-02 00:00:00.000</td>\n",
       "      <td>1965</td>\n",
       "      <td>141473</td>\n",
       "      <td>500</td>\n",
       "      <td>20210602</td>\n",
       "      <td>00:00</td>\n",
       "      <td>2021-10-07 10:30:51.51</td>\n",
       "      <td>9834348.0</td>\n",
       "      <td>1.457668</td>\n",
       "      <td>677.0</td>\n",
       "      <td>2.0</td>\n",
       "    </tr>\n",
       "  </tbody>\n",
       "</table>\n",
       "</div>"
      ],
      "text/plain": [
       "                        등록일시   사망자     확진자  게시글번호       기준일   기준시간  \\\n",
       "444  2021-05-29 00:00:00.000  1951  139427    496  20210529  00:00   \n",
       "445    2021-05-30 00:00:00.0  1959  140337    498  20210531  00:00   \n",
       "446  2021-05-30 00:00:00.000  1957  139907    497  20210530  00:00   \n",
       "447  2021-06-01 00:00:00.000  1963  140796    499  20210601  00:00   \n",
       "448  2021-06-02 00:00:00.000  1965  141473    500  20210602  00:00   \n",
       "\n",
       "                        수정일시      누적의심자     누적확진률  일일확진자  일일사망자  \n",
       "444   2021-10-07 10:30:51.51  9733588.0  1.450884  533.0    5.0  \n",
       "445  2021-10-14 13:48:56.821  9761156.0  1.456805  910.0    8.0  \n",
       "446   2021-10-07 10:30:51.51  9747612.0  1.454166 -430.0   -2.0  \n",
       "447   2021-10-07 10:30:51.51  9798400.0  1.455890  889.0    6.0  \n",
       "448   2021-10-07 10:30:51.51  9834348.0  1.457668  677.0    2.0  "
      ]
     },
     "execution_count": 16,
     "metadata": {},
     "output_type": "execute_result"
    }
   ],
   "source": [
    "## 인덱스 444부터 448까지의 데이터를 출력\n",
    "## loc[]\n",
    "corona.loc[444:448,:]"
   ]
  },
  {
   "cell_type": "code",
   "execution_count": 19,
   "metadata": {},
   "outputs": [],
   "source": [
    "## lambda 함수 파생변수\n",
    "## 일반 def 함수 파생변수\n",
    "## 누적확진률 컬럼에서 누적확진률의 평균보다 높으면 High 낮으면 Low\n",
    "\n",
    "corona[\"누적확진률\"].fillna(corona[\"누적확진률\"].mean(), inplace=True)"
   ]
  },
  {
   "cell_type": "code",
   "execution_count": null,
   "metadata": {},
   "outputs": [],
   "source": [
    "corona[\"누적확진률\"]"
   ]
  },
  {
   "cell_type": "code",
   "execution_count": null,
   "metadata": {},
   "outputs": [],
   "source": [
    "## lambda 매개변수 : 표현식\n",
    "corona[\"H/L\"] = corona[\"누적확진률\"].apply(\n",
    "    lambda x : \"High\" if (x > corona[\"누적확진률\"].mean()) else \"Low\"\n",
    "    )\n",
    "corona[\"누적확진률\"]"
   ]
  },
  {
   "cell_type": "code",
   "execution_count": null,
   "metadata": {},
   "outputs": [],
   "source": [
    "## apply() 일반 함수\n",
    "## 함수 생성\n",
    "## 매개변수 1개 매개변수의 값이 누적확진률의 평균보다 높으면 High return \n",
    "## 조건식이 거짓이면 Low return\n",
    "\n",
    "def HL(x):\n",
    "    if x > corona[\"누적확진률\"].mean():\n",
    "        return \"High\"\n",
    "    else : \n",
    "        return \"Low\"\n",
    "\n",
    "corona[\"누적확진률\"].apply(HL)"
   ]
  },
  {
   "cell_type": "code",
   "execution_count": 33,
   "metadata": {},
   "outputs": [
    {
     "data": {
      "text/html": [
       "<div>\n",
       "<style scoped>\n",
       "    .dataframe tbody tr th:only-of-type {\n",
       "        vertical-align: middle;\n",
       "    }\n",
       "\n",
       "    .dataframe tbody tr th {\n",
       "        vertical-align: top;\n",
       "    }\n",
       "\n",
       "    .dataframe thead th {\n",
       "        text-align: right;\n",
       "    }\n",
       "</style>\n",
       "<table border=\"1\" class=\"dataframe\">\n",
       "  <thead>\n",
       "    <tr style=\"text-align: right;\">\n",
       "      <th></th>\n",
       "      <th>등록일시</th>\n",
       "      <th>사망자</th>\n",
       "      <th>확진자</th>\n",
       "      <th>게시글번호</th>\n",
       "      <th>기준일</th>\n",
       "      <th>기준시간</th>\n",
       "      <th>수정일시</th>\n",
       "      <th>누적의심자</th>\n",
       "      <th>누적확진률</th>\n",
       "      <th>일일확진자</th>\n",
       "      <th>일일사망자</th>\n",
       "      <th>H/L</th>\n",
       "    </tr>\n",
       "  </thead>\n",
       "  <tbody>\n",
       "    <tr>\n",
       "      <th>0</th>\n",
       "      <td>2020-03-10</td>\n",
       "      <td>54</td>\n",
       "      <td>7513</td>\n",
       "      <td>51</td>\n",
       "      <td>20200310</td>\n",
       "      <td>00:00</td>\n",
       "      <td>2021-10-07 10:30:51.51</td>\n",
       "      <td>210144.0</td>\n",
       "      <td>3.919308</td>\n",
       "      <td>0.0</td>\n",
       "      <td>NaN</td>\n",
       "      <td>High</td>\n",
       "    </tr>\n",
       "    <tr>\n",
       "      <th>1</th>\n",
       "      <td>2020-03-11</td>\n",
       "      <td>60</td>\n",
       "      <td>7755</td>\n",
       "      <td>52</td>\n",
       "      <td>20200311</td>\n",
       "      <td>00:00</td>\n",
       "      <td>2021-10-07 10:30:51.51</td>\n",
       "      <td>222395.0</td>\n",
       "      <td>3.804175</td>\n",
       "      <td>242.0</td>\n",
       "      <td>6.0</td>\n",
       "      <td>High</td>\n",
       "    </tr>\n",
       "    <tr>\n",
       "      <th>2</th>\n",
       "      <td>2020-03-12</td>\n",
       "      <td>66</td>\n",
       "      <td>7869</td>\n",
       "      <td>53</td>\n",
       "      <td>20200312</td>\n",
       "      <td>00:00</td>\n",
       "      <td>2021-10-07 10:30:51.51</td>\n",
       "      <td>234998.0</td>\n",
       "      <td>3.621744</td>\n",
       "      <td>114.0</td>\n",
       "      <td>6.0</td>\n",
       "      <td>High</td>\n",
       "    </tr>\n",
       "    <tr>\n",
       "      <th>3</th>\n",
       "      <td>2020-03-13</td>\n",
       "      <td>67</td>\n",
       "      <td>7979</td>\n",
       "      <td>54</td>\n",
       "      <td>20200313</td>\n",
       "      <td>00:00</td>\n",
       "      <td>2021-10-07 10:30:51.51</td>\n",
       "      <td>248647.0</td>\n",
       "      <td>3.458499</td>\n",
       "      <td>110.0</td>\n",
       "      <td>1.0</td>\n",
       "      <td>High</td>\n",
       "    </tr>\n",
       "    <tr>\n",
       "      <th>4</th>\n",
       "      <td>2020-03-14</td>\n",
       "      <td>72</td>\n",
       "      <td>8086</td>\n",
       "      <td>55</td>\n",
       "      <td>20200314</td>\n",
       "      <td>00:00</td>\n",
       "      <td>2021-10-07 10:30:51.51</td>\n",
       "      <td>261335.0</td>\n",
       "      <td>3.318000</td>\n",
       "      <td>107.0</td>\n",
       "      <td>5.0</td>\n",
       "      <td>High</td>\n",
       "    </tr>\n",
       "  </tbody>\n",
       "</table>\n",
       "</div>"
      ],
      "text/plain": [
       "        등록일시  사망자   확진자  게시글번호       기준일   기준시간                    수정일시  \\\n",
       "0 2020-03-10   54  7513     51  20200310  00:00  2021-10-07 10:30:51.51   \n",
       "1 2020-03-11   60  7755     52  20200311  00:00  2021-10-07 10:30:51.51   \n",
       "2 2020-03-12   66  7869     53  20200312  00:00  2021-10-07 10:30:51.51   \n",
       "3 2020-03-13   67  7979     54  20200313  00:00  2021-10-07 10:30:51.51   \n",
       "4 2020-03-14   72  8086     55  20200314  00:00  2021-10-07 10:30:51.51   \n",
       "\n",
       "      누적의심자     누적확진률  일일확진자  일일사망자   H/L  \n",
       "0  210144.0  3.919308    0.0    NaN  High  \n",
       "1  222395.0  3.804175  242.0    6.0  High  \n",
       "2  234998.0  3.621744  114.0    6.0  High  \n",
       "3  248647.0  3.458499  110.0    1.0  High  \n",
       "4  261335.0  3.318000  107.0    5.0  High  "
      ]
     },
     "execution_count": 33,
     "metadata": {},
     "output_type": "execute_result"
    }
   ],
   "source": [
    "corona.head()"
   ]
  },
  {
   "cell_type": "code",
   "execution_count": 32,
   "metadata": {},
   "outputs": [],
   "source": [
    "## 요일이라는 파생변수 생성\n",
    "## 등록일시 datetime 변경\n",
    "## datetime 기준으로 요일을 출력\n",
    "corona[\"등록일시\"] = pd.to_datetime(corona[\"등록일시\"])"
   ]
  },
  {
   "cell_type": "code",
   "execution_count": null,
   "metadata": {},
   "outputs": [],
   "source": [
    "## dt.weekday를 사용하면 요일이 숫자로 표시\n",
    "## 0 -> 월, ... ,6->일\n",
    "corona[\"요일\"] = corona[\"등록일시\"].dt.weekday\n",
    "corona.head()"
   ]
  },
  {
   "cell_type": "code",
   "execution_count": 36,
   "metadata": {},
   "outputs": [],
   "source": [
    "## apply 함수를 이용해서 숫자로 표시되어있는 요일 컬럼을 \n",
    "## 한글로 변경\n",
    "def change_week(x):\n",
    "    if x == 0:\n",
    "        return \"월\"\n",
    "    elif x == 1:\n",
    "        return \"화\"\n",
    "    elif x == 2:\n",
    "        return \"수\"\n",
    "    elif x == 3:\n",
    "        return \"목\"\n",
    "    elif x == 4:\n",
    "        return \"금\"\n",
    "    elif x == 5:\n",
    "        return \"토\"\n",
    "    else :\n",
    "        return \"일\"\n",
    "\n",
    "corona[\"요일\"] = corona[\"요일\"].apply(change_week)"
   ]
  },
  {
   "cell_type": "code",
   "execution_count": null,
   "metadata": {},
   "outputs": [],
   "source": [
    "corona.head()"
   ]
  },
  {
   "cell_type": "code",
   "execution_count": null,
   "metadata": {},
   "outputs": [],
   "source": [
    "corona[\"요일\"].apply(lambda x : \"월\" if x == 0 else \"화\" if x == 1 else \"수\".... )"
   ]
  },
  {
   "cell_type": "code",
   "execution_count": 43,
   "metadata": {},
   "outputs": [
    {
     "data": {
      "text/html": [
       "<div>\n",
       "<style scoped>\n",
       "    .dataframe tbody tr th:only-of-type {\n",
       "        vertical-align: middle;\n",
       "    }\n",
       "\n",
       "    .dataframe tbody tr th {\n",
       "        vertical-align: top;\n",
       "    }\n",
       "\n",
       "    .dataframe thead th {\n",
       "        text-align: right;\n",
       "    }\n",
       "</style>\n",
       "<table border=\"1\" class=\"dataframe\">\n",
       "  <thead>\n",
       "    <tr style=\"text-align: right;\">\n",
       "      <th></th>\n",
       "      <th>사망자</th>\n",
       "      <th>확진자</th>\n",
       "      <th>게시글번호</th>\n",
       "      <th>기준일</th>\n",
       "      <th>누적의심자</th>\n",
       "      <th>누적확진률</th>\n",
       "      <th>일일확진자</th>\n",
       "      <th>일일사망자</th>\n",
       "    </tr>\n",
       "    <tr>\n",
       "      <th>요일</th>\n",
       "      <th></th>\n",
       "      <th></th>\n",
       "      <th></th>\n",
       "      <th></th>\n",
       "      <th></th>\n",
       "      <th></th>\n",
       "      <th></th>\n",
       "      <th></th>\n",
       "    </tr>\n",
       "  </thead>\n",
       "  <tbody>\n",
       "    <tr>\n",
       "      <th>금</th>\n",
       "      <td>5695.976562</td>\n",
       "      <td>3.408271e+06</td>\n",
       "      <td>512.148438</td>\n",
       "      <td>2.020995e+07</td>\n",
       "      <td>7.541537e+06</td>\n",
       "      <td>1.553018</td>\n",
       "      <td>26209.500000</td>\n",
       "      <td>33.117188</td>\n",
       "    </tr>\n",
       "    <tr>\n",
       "      <th>목</th>\n",
       "      <td>5850.859375</td>\n",
       "      <td>3.524166e+06</td>\n",
       "      <td>517.304688</td>\n",
       "      <td>2.021003e+07</td>\n",
       "      <td>7.576033e+06</td>\n",
       "      <td>1.555348</td>\n",
       "      <td>29540.468750</td>\n",
       "      <td>33.968750</td>\n",
       "    </tr>\n",
       "    <tr>\n",
       "      <th>수</th>\n",
       "      <td>5935.269231</td>\n",
       "      <td>3.619765e+06</td>\n",
       "      <td>516.861538</td>\n",
       "      <td>2.021004e+07</td>\n",
       "      <td>7.472065e+06</td>\n",
       "      <td>1.557891</td>\n",
       "      <td>31891.253846</td>\n",
       "      <td>28.161538</td>\n",
       "    </tr>\n",
       "    <tr>\n",
       "      <th>월</th>\n",
       "      <td>5956.882812</td>\n",
       "      <td>3.615912e+06</td>\n",
       "      <td>518.375000</td>\n",
       "      <td>2.021010e+07</td>\n",
       "      <td>7.594898e+06</td>\n",
       "      <td>1.554973</td>\n",
       "      <td>16254.093750</td>\n",
       "      <td>24.289062</td>\n",
       "    </tr>\n",
       "    <tr>\n",
       "      <th>일</th>\n",
       "      <td>5871.446154</td>\n",
       "      <td>3.546434e+06</td>\n",
       "      <td>517.061538</td>\n",
       "      <td>2.021011e+07</td>\n",
       "      <td>7.618305e+06</td>\n",
       "      <td>1.552671</td>\n",
       "      <td>23721.653846</td>\n",
       "      <td>28.246154</td>\n",
       "    </tr>\n",
       "    <tr>\n",
       "      <th>토</th>\n",
       "      <td>5873.310078</td>\n",
       "      <td>3.548932e+06</td>\n",
       "      <td>516.201550</td>\n",
       "      <td>2.021010e+07</td>\n",
       "      <td>7.575484e+06</td>\n",
       "      <td>1.551502</td>\n",
       "      <td>25993.875969</td>\n",
       "      <td>32.937984</td>\n",
       "    </tr>\n",
       "    <tr>\n",
       "      <th>화</th>\n",
       "      <td>5907.107692</td>\n",
       "      <td>3.587874e+06</td>\n",
       "      <td>515.623077</td>\n",
       "      <td>2.021004e+07</td>\n",
       "      <td>7.437156e+06</td>\n",
       "      <td>1.569510</td>\n",
       "      <td>26457.515385</td>\n",
       "      <td>26.604651</td>\n",
       "    </tr>\n",
       "  </tbody>\n",
       "</table>\n",
       "</div>"
      ],
      "text/plain": [
       "            사망자           확진자       게시글번호           기준일         누적의심자  \\\n",
       "요일                                                                      \n",
       "금   5695.976562  3.408271e+06  512.148438  2.020995e+07  7.541537e+06   \n",
       "목   5850.859375  3.524166e+06  517.304688  2.021003e+07  7.576033e+06   \n",
       "수   5935.269231  3.619765e+06  516.861538  2.021004e+07  7.472065e+06   \n",
       "월   5956.882812  3.615912e+06  518.375000  2.021010e+07  7.594898e+06   \n",
       "일   5871.446154  3.546434e+06  517.061538  2.021011e+07  7.618305e+06   \n",
       "토   5873.310078  3.548932e+06  516.201550  2.021010e+07  7.575484e+06   \n",
       "화   5907.107692  3.587874e+06  515.623077  2.021004e+07  7.437156e+06   \n",
       "\n",
       "       누적확진률         일일확진자      일일사망자  \n",
       "요일                                     \n",
       "금   1.553018  26209.500000  33.117188  \n",
       "목   1.555348  29540.468750  33.968750  \n",
       "수   1.557891  31891.253846  28.161538  \n",
       "월   1.554973  16254.093750  24.289062  \n",
       "일   1.552671  23721.653846  28.246154  \n",
       "토   1.551502  25993.875969  32.937984  \n",
       "화   1.569510  26457.515385  26.604651  "
      ]
     },
     "execution_count": 43,
     "metadata": {},
     "output_type": "execute_result"
    }
   ],
   "source": [
    "## 요일별 코로나의 확진자수의 평균이 어떻게 표시가 되는가 \n",
    "## 그래프를 이용해서 출력\n",
    "week_corona = corona.groupby(\"요일\").mean()\n",
    "week_corona"
   ]
  },
  {
   "cell_type": "code",
   "execution_count": 41,
   "metadata": {},
   "outputs": [],
   "source": [
    "from matplotlib import font_manager, rc"
   ]
  },
  {
   "cell_type": "code",
   "execution_count": 42,
   "metadata": {},
   "outputs": [],
   "source": [
    "import matplotlib.pyplot as plt"
   ]
  },
  {
   "cell_type": "code",
   "execution_count": 46,
   "metadata": {},
   "outputs": [
    {
     "data": {
      "text/plain": [
       "[26209.5,\n",
       " 29540.46875,\n",
       " 31891.253846153846,\n",
       " 16254.09375,\n",
       " 23721.653846153848,\n",
       " 25993.875968992248,\n",
       " 26457.515384615384]"
      ]
     },
     "execution_count": 46,
     "metadata": {},
     "output_type": "execute_result"
    }
   ],
   "source": [
    "week_corona[\"일일확진자\"].to_list()"
   ]
  },
  {
   "cell_type": "code",
   "execution_count": 50,
   "metadata": {},
   "outputs": [
    {
     "data": {
      "image/png": "[encoded data removed]",
      "text/plain": [
       "<Figure size 432x288 with 1 Axes>"
      ]
     },
     "metadata": {
      "needs_background": "light"
     },
     "output_type": "display_data"
    }
   ],
   "source": [
    "## x축의 값은 -> 요일\n",
    "## y축의 값은 -> 평균 확진자의 수\n",
    "x = week_corona.index\n",
    "y = week_corona[\"일일확진자\"].to_list()\n",
    "\n",
    "file_path = \"C:/Windows/Fonts/HYGSRB.TTF\"\n",
    "font = font_manager.FontProperties(fname = file_path).get_name()\n",
    "\n",
    "rc('font', family=font)\n",
    "\n",
    "plt.plot(x, y)\n",
    "plt.show()"
   ]
  },
  {
   "cell_type": "code",
   "execution_count": null,
   "metadata": {},
   "outputs": [],
   "source": []
  }
 ],
 "metadata": {
  "kernelspec": {
   "display_name": "Python 3.6.8 64-bit",
   "language": "python",
   "name": "python3"
  },
  "language_info": {
   "codemirror_mode": {
    "name": "ipython",
    "version": 3
   },
   "file_extension": ".py",
   "mimetype": "text/x-python",
   "name": "python",
   "nbconvert_exporter": "python",
   "pygments_lexer": "ipython3",
   "version": "3.6.8"
  },
  "orig_nbformat": 4,
  "vscode": {
   "interpreter": {
    "hash": "187f19b7e1a6c9dce315ccb3b0d07c5b7aeed6681cd1ee8ee772db2198b62651"
   }
  }
 },
 "nbformat": 4,
 "nbformat_minor": 2
}
