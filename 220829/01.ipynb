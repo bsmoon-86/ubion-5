{
 "cells": [
  {
   "cell_type": "code",
   "execution_count": 9,
   "metadata": {},
   "outputs": [
    {
     "name": "stdout",
     "output_type": "stream",
     "text": [
      "10\n",
      "Hello Wrold\n",
      "<class 'str'>\n",
      "<class 'str'>\n"
     ]
    },
    {
     "data": {
      "text/plain": [
       "str"
      ]
     },
     "execution_count": 9,
     "metadata": {},
     "output_type": "execute_result"
    }
   ],
   "source": [
    "a = \"10\"\n",
    "b = \"Hello Wrold\"\n",
    "print(a)\n",
    "print(b)\n",
    "print(type(a))\n",
    "print(type(b))"
   ]
  },
  {
   "cell_type": "code",
   "execution_count": 10,
   "metadata": {},
   "outputs": [
    {
     "name": "stdout",
     "output_type": "stream",
     "text": [
      "8 2 15 1.6666666666666667 1 2 125\n"
     ]
    }
   ],
   "source": [
    "## 연산자\n",
    "## + - * / // % **\n",
    "x = 5\n",
    "y = 3\n",
    "print(x+y, x-y, x*y, x/y, x//y, x%y, x**y)"
   ]
  },
  {
   "cell_type": "code",
   "execution_count": 11,
   "metadata": {},
   "outputs": [
    {
     "name": "stdout",
     "output_type": "stream",
     "text": [
      "6\n"
     ]
    }
   ],
   "source": [
    "## 대입 연산자\n",
    "## x = 5인 상태\n",
    "x += 1\n",
    "## x = x + 1\n",
    "print(x)"
   ]
  },
  {
   "cell_type": "code",
   "execution_count": 12,
   "metadata": {},
   "outputs": [
    {
     "name": "stdout",
     "output_type": "stream",
     "text": [
      "3\n"
     ]
    }
   ],
   "source": [
    "## x = 6인 상태\n",
    "x -= 3\n",
    "print(x)"
   ]
  },
  {
   "cell_type": "code",
   "execution_count": 13,
   "metadata": {},
   "outputs": [
    {
     "name": "stdout",
     "output_type": "stream",
     "text": [
      "15\n"
     ]
    }
   ],
   "source": [
    "x *= 5\n",
    "print(x)"
   ]
  },
  {
   "cell_type": "code",
   "execution_count": 14,
   "metadata": {},
   "outputs": [
    {
     "name": "stdout",
     "output_type": "stream",
     "text": [
      "False True True False True False\n"
     ]
    }
   ],
   "source": [
    "## 비교 연산자\n",
    "## 비교 연산자 -> bool의 형태의 데이터를 출력 (True, False)\n",
    "a = 5 \n",
    "b = 3\n",
    "print(a == b, a != b, a > b, a < b, a >= b, a <= b)"
   ]
  },
  {
   "cell_type": "code",
   "execution_count": 16,
   "metadata": {},
   "outputs": [
    {
     "name": "stdout",
     "output_type": "stream",
     "text": [
      "True\n",
      "False\n"
     ]
    }
   ],
   "source": [
    "## and, or, not\n",
    "## and 두 조건이 모두 참인 경우 참\n",
    "## or 두 조건 중 하나만 참이면 참\n",
    "## not 반대로 출력 \n",
    "a = 10\n",
    "print( (a > 5) and (a < 15) ) # 두 조건이 참인 경우\n",
    "print( (a > 5) and (a > 15) ) # 두 조건 중 하나만 참인 경우\n"
   ]
  },
  {
   "cell_type": "code",
   "execution_count": 17,
   "metadata": {},
   "outputs": [
    {
     "name": "stdout",
     "output_type": "stream",
     "text": [
      "True\n"
     ]
    }
   ],
   "source": [
    "print( (a > 5) or (a > 15) ) # 두 조건 중 하나만 참인 경우"
   ]
  },
  {
   "cell_type": "code",
   "execution_count": 19,
   "metadata": {},
   "outputs": [
    {
     "data": {
      "text/plain": [
       "True"
      ]
     },
     "execution_count": 19,
     "metadata": {},
     "output_type": "execute_result"
    }
   ],
   "source": [
    "not(False)  #not 부정의 의미 불의 형태가 반대로 출력"
   ]
  },
  {
   "cell_type": "markdown",
   "metadata": {},
   "source": [
    "### if문\n",
    "1. 조건식이 참인 경우 코드가 실행 (들여쓰기 한 코드가 실행)\n",
    "2. 조건식이 거짓인 경우 코드가 실행이 되지 않는다. \n",
    "3. 거짓일 때의 코드를 실행하려면 else문을 사용해야 한다."
   ]
  },
  {
   "cell_type": "code",
   "execution_count": 20,
   "metadata": {},
   "outputs": [
    {
     "name": "stdout",
     "output_type": "stream",
     "text": [
      "a는 10보다 작다.\n"
     ]
    }
   ],
   "source": [
    "a = 5\n",
    "\n",
    "if a < 10 :\n",
    "    print(\"a는 10보다 작다.\")   # a가 10보다 작은 경우에만 실행\n"
   ]
  },
  {
   "cell_type": "code",
   "execution_count": 21,
   "metadata": {},
   "outputs": [],
   "source": [
    "a = 15\n",
    "\n",
    "if a < 10 :\n",
    "    print(\"a는 10보다 작다\")\n",
    "\n",
    "## a는 10보다 작지 않기 때문에 if문 안에 있는 코드가 실행되지 않는다."
   ]
  },
  {
   "cell_type": "code",
   "execution_count": 22,
   "metadata": {},
   "outputs": [
    {
     "name": "stdout",
     "output_type": "stream",
     "text": [
      "a는 10보다 크거나 같다.\n"
     ]
    }
   ],
   "source": [
    "a = 15\n",
    "\n",
    "if a < 10 :\n",
    "    print(\"a는 10보다 작다\")    #a가 10보다 작은 경우 실행\n",
    "else :\n",
    "    print(\"a는 10보다 크거나 같다.\")    #그 외의 경우에 실행"
   ]
  },
  {
   "cell_type": "code",
   "execution_count": 26,
   "metadata": {},
   "outputs": [
    {
     "name": "stdout",
     "output_type": "stream",
     "text": [
      "A\n"
     ]
    }
   ],
   "source": [
    "score = int(input(\"점수를 입력해주세요 : \"))\n",
    "\n",
    "if score >= 90:\n",
    "    print(\"A\")  # score 90이상인 경우\n",
    "elif score >= 80:\n",
    "    print(\"B\")  # score 80이상, 90미만\n",
    "elif score >= 70:\n",
    "    print(\"C\")  # score 70이상, 80미만\n",
    "else:\n",
    "    print(\"F\")  # score 70미만\n"
   ]
  },
  {
   "cell_type": "markdown",
   "metadata": {},
   "source": [
    "### 반복문\n",
    "1. for문\n",
    "2. while문"
   ]
  },
  {
   "cell_type": "code",
   "execution_count": 27,
   "metadata": {},
   "outputs": [
    {
     "name": "stdout",
     "output_type": "stream",
     "text": [
      "0\n",
      "1\n",
      "2\n",
      "3\n",
      "4\n"
     ]
    }
   ],
   "source": [
    "## for문\n",
    "## for 변수명 in range(시작값, 종료값, 증가값):\n",
    "\n",
    "for i in range(0, 5, 1):\n",
    "    print(i)"
   ]
  },
  {
   "cell_type": "code",
   "execution_count": 28,
   "metadata": {},
   "outputs": [
    {
     "name": "stdout",
     "output_type": "stream",
     "text": [
      "10\n",
      "9\n",
      "8\n",
      "7\n",
      "6\n",
      "5\n",
      "4\n",
      "3\n",
      "2\n"
     ]
    }
   ],
   "source": [
    "for i in range(10, 1, -1):\n",
    "    print(i)"
   ]
  },
  {
   "cell_type": "code",
   "execution_count": 29,
   "metadata": {},
   "outputs": [
    {
     "name": "stdout",
     "output_type": "stream",
     "text": [
      "0\n",
      "2\n",
      "4\n",
      "6\n",
      "8\n"
     ]
    }
   ],
   "source": [
    "for i in range(0, 10, 2):\n",
    "    print(i)"
   ]
  },
  {
   "cell_type": "markdown",
   "metadata": {},
   "source": [
    "1. for문을 이용해서 1부터 10까지의 합계를 출력하시오\n",
    "2. 1부터 50까지의 짝수의 합계를 구하는 식\n",
    "3. 주사위 2개를 굴려서 합이 10이 되는 경우의 수를 출력하시오"
   ]
  },
  {
   "cell_type": "code",
   "execution_count": 30,
   "metadata": {},
   "outputs": [
    {
     "name": "stdout",
     "output_type": "stream",
     "text": [
      "55\n"
     ]
    }
   ],
   "source": [
    "# 1번\n",
    "# 합계 변수 미리 생성\n",
    "sum = 0\n",
    "\n",
    "for i in range(1, 11, 1):\n",
    "    sum += i    # 1부터 10까지의 수를 sum에 더해주는 작업\n",
    "print(sum)"
   ]
  },
  {
   "cell_type": "code",
   "execution_count": null,
   "metadata": {},
   "outputs": [],
   "source": [
    "#2번 \n",
    "# 1부터 50까지의 짝수의 합\n",
    "sum = 0\n",
    "\n",
    "for i in range(1, 51, 1):\n",
    "    if i % 2 == 0:  # 짝수인 경우\n",
    "        print(i, end=\" \")\n",
    "        sum += i\n",
    "\n",
    "print(sum)"
   ]
  },
  {
   "cell_type": "code",
   "execution_count": null,
   "metadata": {},
   "outputs": [],
   "source": [
    "# 3번 \n",
    "# 주사위가 2개 (총 경우의 수 36개)\n",
    "for i in range(1, 7, 1):    # 1번 주사위를 경우의 수\n",
    "    for j in range(1, 7, 1):    # 2번 주사위를 경우의 수\n",
    "        if i + j == 10:\n",
    "            print(i , j)"
   ]
  },
  {
   "cell_type": "code",
   "execution_count": 34,
   "metadata": {},
   "outputs": [
    {
     "name": "stdout",
     "output_type": "stream",
     "text": [
      "0\n",
      "1\n",
      "2\n",
      "3\n",
      "4\n",
      "5\n",
      "6\n",
      "7\n",
      "8\n",
      "9\n"
     ]
    }
   ],
   "source": [
    "## while문\n",
    "# 초기값을 미리 지정\n",
    "# while 조건식 \n",
    "\n",
    "i = 0 \n",
    "\n",
    "while i < 10:\n",
    "    print(i)\n",
    "    i += 1"
   ]
  },
  {
   "cell_type": "code",
   "execution_count": 37,
   "metadata": {},
   "outputs": [
    {
     "name": "stdout",
     "output_type": "stream",
     "text": [
      "0 1 2 3 4 5 6 "
     ]
    }
   ],
   "source": [
    "# break문  : 반복문을 종료\n",
    "for i in range(0, 100, 1):\n",
    "    if i == 7 : \n",
    "        break\n",
    "    print(i, end=\" \")"
   ]
  },
  {
   "cell_type": "code",
   "execution_count": 38,
   "metadata": {},
   "outputs": [
    {
     "name": "stdout",
     "output_type": "stream",
     "text": [
      "0 1 2 3 4 5 6 7 "
     ]
    }
   ],
   "source": [
    "for i in range(0, 100, 1):\n",
    "    print(i, end= \" \")\n",
    "    if i == 7 :\n",
    "        break"
   ]
  },
  {
   "cell_type": "markdown",
   "metadata": {},
   "source": [
    "#### 1부터 1000까지의 합을 구하는데 합계가 900이 넘어가는 최초의 숫자는 무엇인가?\n",
    "\n",
    "1. 합계를 구하기 위해서는 초기 합계 변수 하나 생성\n",
    "2. for, while 문을 이용하여 1부터 1000까지의 합계를 구하는 반복문 생성\n",
    "3. 합계가 900이 넘어가는 지점에서 i값을 출력\n",
    "4. i값을 출력한 후에 반복문 종료"
   ]
  },
  {
   "cell_type": "code",
   "execution_count": 39,
   "metadata": {},
   "outputs": [
    {
     "name": "stdout",
     "output_type": "stream",
     "text": [
      "903\n",
      "42\n"
     ]
    }
   ],
   "source": [
    "sum = 0 \n",
    "\n",
    "for i in range(1, 1001, 1):\n",
    "    sum += i\n",
    "    if sum >= 900 :\n",
    "        print(sum)\n",
    "        print(i)\n",
    "        break"
   ]
  },
  {
   "cell_type": "code",
   "execution_count": 43,
   "metadata": {},
   "outputs": [
    {
     "name": "stdout",
     "output_type": "stream",
     "text": [
      "42\n"
     ]
    }
   ],
   "source": [
    "sum = 0 \n",
    "i = 1 \n",
    "\n",
    "while i <= 1000:\n",
    "    sum += i\n",
    "    if sum >= 900:\n",
    "        print(i)\n",
    "        break\n",
    "    i += 1"
   ]
  },
  {
   "cell_type": "code",
   "execution_count": 44,
   "metadata": {},
   "outputs": [
    {
     "name": "stdout",
     "output_type": "stream",
     "text": [
      "(20, 'test') (3, 3.14) (20, 'test', 3, 3.14) (20, 'test', 20, 'test', 20, 'test')\n"
     ]
    }
   ],
   "source": [
    "# tuple 데이터형태\n",
    "a = (20, \"test\")\n",
    "b = (3, 3.14)\n",
    "c = a + b\n",
    "d = a * 3\n",
    "\n",
    "print(a, b, c, d)"
   ]
  },
  {
   "cell_type": "code",
   "execution_count": 45,
   "metadata": {},
   "outputs": [
    {
     "name": "stdout",
     "output_type": "stream",
     "text": [
      "20\n"
     ]
    }
   ],
   "source": [
    "# 20이라는 숫자를 출력하려면\n",
    "print(a[0])"
   ]
  },
  {
   "cell_type": "code",
   "execution_count": 46,
   "metadata": {},
   "outputs": [],
   "source": [
    "a = (10, 20, 30, 40)"
   ]
  },
  {
   "cell_type": "code",
   "execution_count": 47,
   "metadata": {},
   "outputs": [
    {
     "data": {
      "text/plain": [
       "(20, 30)"
      ]
     },
     "execution_count": 47,
     "metadata": {},
     "output_type": "execute_result"
    }
   ],
   "source": [
    "a[1:3]"
   ]
  },
  {
   "cell_type": "code",
   "execution_count": 51,
   "metadata": {},
   "outputs": [
    {
     "data": {
      "text/plain": [
       "(30,)"
      ]
     },
     "execution_count": 51,
     "metadata": {},
     "output_type": "execute_result"
    }
   ],
   "source": [
    "# (30, 40) 출력을 하려면?\n",
    "# a[2:3]? a[2:4]? a[2:]?\n",
    "a[2:3]"
   ]
  },
  {
   "cell_type": "code",
   "execution_count": 53,
   "metadata": {},
   "outputs": [
    {
     "data": {
      "text/plain": [
       "(10, 20, 30)"
      ]
     },
     "execution_count": 53,
     "metadata": {},
     "output_type": "execute_result"
    }
   ],
   "source": [
    "# (10, 20, 30) 출력을 하려면?\n",
    "a[:3]"
   ]
  },
  {
   "cell_type": "code",
   "execution_count": 54,
   "metadata": {},
   "outputs": [],
   "source": [
    "# 리스트 데이터형\n",
    "a = [20, 10, 50, 5]\n",
    "b = [10, 20, 30, 40]"
   ]
  },
  {
   "cell_type": "code",
   "execution_count": 58,
   "metadata": {},
   "outputs": [
    {
     "name": "stdout",
     "output_type": "stream",
     "text": [
      "[5, 10, 20, 50]\n"
     ]
    }
   ],
   "source": [
    "# sort() -> 오름차순 정렬\n",
    "a.sort()\n",
    "print(a)"
   ]
  },
  {
   "cell_type": "code",
   "execution_count": 59,
   "metadata": {},
   "outputs": [
    {
     "name": "stdout",
     "output_type": "stream",
     "text": [
      "[10, 20, 30, 40]\n"
     ]
    }
   ],
   "source": [
    "# reverse() 역순으로 정렬\n",
    "b.reverse()\n",
    "print(b)"
   ]
  },
  {
   "cell_type": "code",
   "execution_count": 60,
   "metadata": {},
   "outputs": [
    {
     "name": "stdout",
     "output_type": "stream",
     "text": [
      "[5, 10, 20, 50, 22]\n"
     ]
    }
   ],
   "source": [
    "a.append(22)\n",
    "print(a)"
   ]
  },
  {
   "cell_type": "code",
   "execution_count": 61,
   "metadata": {},
   "outputs": [
    {
     "name": "stdout",
     "output_type": "stream",
     "text": [
      "[3, 6, 9, 12, 15, 18, 21, 24, 27, 30, 33, 36, 39, 42, 45, 48, 51, 54, 57, 60, 63, 66, 69]\n"
     ]
    }
   ],
   "source": [
    "# 1부터 70까지 3의 배수를 리스트로 만들어서 출력하시오.\n",
    "# 리스트로 출력을 하려면 비어있는 리스트 변수를 하나 생성\n",
    "l = []\n",
    "\n",
    "for i in range(1, 71, 1):\n",
    "    if i % 3 == 0:\n",
    "        l.append(i)\n",
    "\n",
    "print(l)"
   ]
  },
  {
   "cell_type": "code",
   "execution_count": 62,
   "metadata": {},
   "outputs": [],
   "source": [
    "# 딕셔너리 데이터형\n",
    "# { key : value, key2 : value2 }\n",
    "dict = { \"name\" : \"test\", \"age\" : 20, \"phone\" : \"01012345678\" }"
   ]
  },
  {
   "cell_type": "code",
   "execution_count": 64,
   "metadata": {},
   "outputs": [
    {
     "name": "stdout",
     "output_type": "stream",
     "text": [
      "test\n"
     ]
    }
   ],
   "source": [
    "print(dict[\"name\"])"
   ]
  },
  {
   "cell_type": "code",
   "execution_count": 65,
   "metadata": {},
   "outputs": [],
   "source": [
    "dict[\"area\"] = \"seoul\""
   ]
  },
  {
   "cell_type": "code",
   "execution_count": 66,
   "metadata": {},
   "outputs": [
    {
     "name": "stdout",
     "output_type": "stream",
     "text": [
      "{'name': 'test', 'age': 20, 'phone': '01012345678', 'area': 'seoul'}\n"
     ]
    }
   ],
   "source": [
    "print(dict)"
   ]
  },
  {
   "cell_type": "code",
   "execution_count": 67,
   "metadata": {},
   "outputs": [],
   "source": [
    "# 데이터의 형태 [ {  } , { } , { } ]\n",
    "test_data = [\n",
    "    {\"name\" : \"test\", \n",
    "    \"age\" : 20}, \n",
    "    {\"name\" : \"test2\", \n",
    "    \"age\" : 25}, \n",
    "    {\"name\" : \"test3\", \n",
    "    \"age\" : 15}\n",
    "]"
   ]
  },
  {
   "cell_type": "code",
   "execution_count": 68,
   "metadata": {},
   "outputs": [
    {
     "name": "stdout",
     "output_type": "stream",
     "text": [
      "[{'name': 'test', 'age': 20}, {'name': 'test2', 'age': 25}, {'name': 'test3', 'age': 15}]\n"
     ]
    }
   ],
   "source": [
    "print(test_data)"
   ]
  },
  {
   "cell_type": "code",
   "execution_count": 73,
   "metadata": {},
   "outputs": [
    {
     "name": "stdout",
     "output_type": "stream",
     "text": [
      "{'name': 'test', 'age': 20}\n",
      "test\n"
     ]
    }
   ],
   "source": [
    "## test 문구를 출력하려면?\n",
    "print(test_data[0])\n",
    "print(test_data[0][\"name\"])"
   ]
  },
  {
   "cell_type": "code",
   "execution_count": 74,
   "metadata": {},
   "outputs": [
    {
     "name": "stdout",
     "output_type": "stream",
     "text": [
      "HELLO WORLD\n",
      "hello world\n",
      "Hello World\n"
     ]
    }
   ],
   "source": [
    "# 대 소 문자 변환\n",
    "# upper(), lower(), title()\n",
    "a = \"Hello world\"\n",
    "print(a.upper())\n",
    "print(a.lower())\n",
    "print(a.title())"
   ]
  },
  {
   "cell_type": "code",
   "execution_count": 76,
   "metadata": {},
   "outputs": [
    {
     "data": {
      "text/plain": [
       "'   hello world   '"
      ]
     },
     "execution_count": 76,
     "metadata": {},
     "output_type": "execute_result"
    }
   ],
   "source": [
    "# 공백을 제거 함수 \n",
    "# strip()\n",
    "# replace()\n",
    "\n",
    "a = \"   hello world   \"\n",
    "a"
   ]
  },
  {
   "cell_type": "code",
   "execution_count": 78,
   "metadata": {},
   "outputs": [
    {
     "data": {
      "text/plain": [
       "'hello world   '"
      ]
     },
     "execution_count": 78,
     "metadata": {},
     "output_type": "execute_result"
    }
   ],
   "source": [
    "a.lstrip()"
   ]
  },
  {
   "cell_type": "code",
   "execution_count": 79,
   "metadata": {},
   "outputs": [
    {
     "data": {
      "text/plain": [
       "'   hello world'"
      ]
     },
     "execution_count": 79,
     "metadata": {},
     "output_type": "execute_result"
    }
   ],
   "source": [
    "a.rstrip()"
   ]
  },
  {
   "cell_type": "code",
   "execution_count": 80,
   "metadata": {},
   "outputs": [
    {
     "data": {
      "text/plain": [
       "'hello world'"
      ]
     },
     "execution_count": 80,
     "metadata": {},
     "output_type": "execute_result"
    }
   ],
   "source": [
    "a.strip()"
   ]
  },
  {
   "cell_type": "code",
   "execution_count": 81,
   "metadata": {},
   "outputs": [
    {
     "data": {
      "text/plain": [
       "'   hi world   '"
      ]
     },
     "execution_count": 81,
     "metadata": {},
     "output_type": "execute_result"
    }
   ],
   "source": [
    "a.replace(\"hello\", \"hi\")"
   ]
  },
  {
   "cell_type": "code",
   "execution_count": 82,
   "metadata": {},
   "outputs": [
    {
     "data": {
      "text/plain": [
       "'helloworld'"
      ]
     },
     "execution_count": 82,
     "metadata": {},
     "output_type": "execute_result"
    }
   ],
   "source": [
    "a.replace(\" \", \"\")"
   ]
  },
  {
   "cell_type": "code",
   "execution_count": 83,
   "metadata": {},
   "outputs": [
    {
     "name": "stdout",
     "output_type": "stream",
     "text": [
      "a,b,c,d,e\n"
     ]
    }
   ],
   "source": [
    "# split() 기준이 되는 문자열이나 , . / 특수문자열을 기준으로 문자열을 나눠주는 역할\n",
    "a = \"a,b,c,d,e\"\n",
    "print(a)"
   ]
  },
  {
   "cell_type": "code",
   "execution_count": 84,
   "metadata": {},
   "outputs": [
    {
     "data": {
      "text/plain": [
       "['a', 'b', 'c', 'd', 'e']"
      ]
     },
     "execution_count": 84,
     "metadata": {},
     "output_type": "execute_result"
    }
   ],
   "source": [
    "a.split(\",\")"
   ]
  },
  {
   "cell_type": "code",
   "execution_count": 85,
   "metadata": {},
   "outputs": [
    {
     "name": "stdout",
     "output_type": "stream",
     "text": [
      "Hello World\n",
      "Hello World\n"
     ]
    }
   ],
   "source": [
    "# 함수 -> 뭔가 행동. 데이터를 변환\n",
    "# def 함수명 (매개변수):\n",
    "\n",
    "def func_1():\n",
    "    print(\"Hello World\")\n",
    "\n",
    "func_1()\n",
    "func_1()"
   ]
  },
  {
   "cell_type": "code",
   "execution_count": 89,
   "metadata": {},
   "outputs": [
    {
     "name": "stdout",
     "output_type": "stream",
     "text": [
      "3\n",
      "15\n",
      "15\n"
     ]
    }
   ],
   "source": [
    "# 함수 안에 있는 result라는 변수 -> 지역 변수\n",
    "# 함수 밖에 있는 x라는 변수 -> 전역 변수\n",
    "\n",
    "x = 3\n",
    "\n",
    "def func_2(a):\n",
    "    result = a * x\n",
    "    print(result)\n",
    "    return result\n",
    "\n",
    "\n",
    "print(x)\n",
    "print(func_2(5))"
   ]
  },
  {
   "cell_type": "code",
   "execution_count": 92,
   "metadata": {},
   "outputs": [
    {
     "name": "stdout",
     "output_type": "stream",
     "text": [
      "6\n"
     ]
    }
   ],
   "source": [
    "def func_3(a,b,c):\n",
    "    result = a + b + c\n",
    "    return result\n",
    "\n",
    "print(func_3(1,2,3))"
   ]
  },
  {
   "cell_type": "code",
   "execution_count": 95,
   "metadata": {},
   "outputs": [
    {
     "name": "stdout",
     "output_type": "stream",
     "text": [
      "2\n",
      "6\n"
     ]
    }
   ],
   "source": [
    "def func_4(a, b, c = 5):\n",
    "    result = a + b - c\n",
    "    return result\n",
    "\n",
    "print(func_4(5,2))\n",
    "print(func_4(5,2,1))"
   ]
  },
  {
   "cell_type": "code",
   "execution_count": null,
   "metadata": {},
   "outputs": [],
   "source": []
  }
 ],
 "metadata": {
  "kernelspec": {
   "display_name": "Python 3.6.8 64-bit",
   "language": "python",
   "name": "python3"
  },
  "language_info": {
   "codemirror_mode": {
    "name": "ipython",
    "version": 3
   },
   "file_extension": ".py",
   "mimetype": "text/x-python",
   "name": "python",
   "nbconvert_exporter": "python",
   "pygments_lexer": "ipython3",
   "version": "3.6.8"
  },
  "orig_nbformat": 4,
  "vscode": {
   "interpreter": {
    "hash": "187f19b7e1a6c9dce315ccb3b0d07c5b7aeed6681cd1ee8ee772db2198b62651"
   }
  }
 },
 "nbformat": 4,
 "nbformat_minor": 2
}
