{
 "cells": [
  {
   "cell_type": "code",
   "execution_count": null,
   "metadata": {},
   "outputs": [],
   "source": [
    "# mongodb 연결시키는 라이브러리 설치\n",
    "!pip install pymongo"
   ]
  },
  {
   "cell_type": "code",
   "execution_count": 2,
   "metadata": {},
   "outputs": [],
   "source": [
    "from pymongo import MongoClient"
   ]
  },
  {
   "cell_type": "code",
   "execution_count": 3,
   "metadata": {},
   "outputs": [],
   "source": [
    "client = MongoClient(\n",
    "    host = 'localhost', \n",
    "    port = 27017\n",
    ")"
   ]
  },
  {
   "cell_type": "code",
   "execution_count": 4,
   "metadata": {},
   "outputs": [
    {
     "data": {
      "text/plain": [
       "['admin', 'config', 'local', 'test']"
      ]
     },
     "execution_count": 4,
     "metadata": {},
     "output_type": "execute_result"
    }
   ],
   "source": [
    "## mongoDB에 있는 데이터베이스들을 출력\n",
    "client.list_database_names()"
   ]
  },
  {
   "cell_type": "code",
   "execution_count": 5,
   "metadata": {},
   "outputs": [],
   "source": [
    "# 데이터베이스 접근\n",
    "db = client[\"ubion\"]"
   ]
  },
  {
   "cell_type": "code",
   "execution_count": 6,
   "metadata": {},
   "outputs": [],
   "source": [
    "# collection 접근 (table에 접근)\n",
    "collection = db[\"test\"]"
   ]
  },
  {
   "cell_type": "code",
   "execution_count": 8,
   "metadata": {},
   "outputs": [
    {
     "data": {
      "text/plain": [
       "<pymongo.results.InsertOneResult at 0x1a69537fee0>"
      ]
     },
     "execution_count": 8,
     "metadata": {},
     "output_type": "execute_result"
    }
   ],
   "source": [
    "data = {\n",
    "    \"id\" : \"test\", \n",
    "    \"password\" : \"1234\"\n",
    "    }\n",
    "collection.insert_one(data)"
   ]
  },
  {
   "cell_type": "code",
   "execution_count": 10,
   "metadata": {},
   "outputs": [
    {
     "data": {
      "text/plain": [
       "{'_id': ObjectId('6329695a9c84edee922dee49'), 'id': 'test', 'password': '1234'}"
      ]
     },
     "execution_count": 10,
     "metadata": {},
     "output_type": "execute_result"
    }
   ],
   "source": [
    "collection.find_one()"
   ]
  },
  {
   "cell_type": "code",
   "execution_count": 11,
   "metadata": {},
   "outputs": [
    {
     "data": {
      "text/plain": [
       "<pymongo.results.InsertManyResult at 0x1a6962f8970>"
      ]
     },
     "execution_count": 11,
     "metadata": {},
     "output_type": "execute_result"
    }
   ],
   "source": [
    "## 여러개의 데이터를 추가\n",
    "data = [\n",
    "        {\n",
    "            \"name\" : \"test\", \n",
    "            \"phone\" : \"01012345678\",\n",
    "            \"gender\" : \"male\"\n",
    "        }, \n",
    "        {\n",
    "            \"loc\" : \"seoul\"\n",
    "        }\n",
    "    ]\n",
    "collection.insert_many(data)"
   ]
  },
  {
   "cell_type": "code",
   "execution_count": 17,
   "metadata": {},
   "outputs": [
    {
     "data": {
      "text/plain": [
       "[{'_id': ObjectId('63296b0f9c84edee922dee4a'), 'name': 'test'},\n",
       " {'_id': ObjectId('63296b0f9c84edee922dee4b')}]"
      ]
     },
     "execution_count": 17,
     "metadata": {},
     "output_type": "execute_result"
    }
   ],
   "source": [
    "list(collection.find({}, {\"name\" : 1}))"
   ]
  },
  {
   "cell_type": "code",
   "execution_count": 13,
   "metadata": {},
   "outputs": [
    {
     "data": {
      "text/plain": [
       "<pymongo.results.UpdateResult at 0x1a69544f070>"
      ]
     },
     "execution_count": 13,
     "metadata": {},
     "output_type": "execute_result"
    }
   ],
   "source": [
    "# data 수정\n",
    "collection.update_one(\n",
    "    {\n",
    "        \"id\" : \"test\"\n",
    "    }, \n",
    "    {\n",
    "        \"$set\" : {\n",
    "            \"password\" : \"0000\"\n",
    "        }\n",
    "    }\n",
    ")"
   ]
  },
  {
   "cell_type": "code",
   "execution_count": 15,
   "metadata": {},
   "outputs": [
    {
     "data": {
      "text/plain": [
       "<pymongo.results.DeleteResult at 0x1a69544f730>"
      ]
     },
     "execution_count": 15,
     "metadata": {},
     "output_type": "execute_result"
    }
   ],
   "source": [
    "# data 삭제\n",
    "collection.delete_one(\n",
    "    {\n",
    "        \"id\" : \"test\"\n",
    "    }\n",
    ")"
   ]
  },
  {
   "cell_type": "markdown",
   "metadata": {},
   "source": [
    "### mongoDB \n",
    "find(조건1, 조건2, 조건3, 어떤 컬럼을 보여줄지)\n",
    "1. db.collection.find() -> SELECT * FROM TABLE\n",
    "2. db.collection.find({}, {\"id\" : 1, \"password\" : 1}) -> SELECT _id, id, password FROM TABLE\n",
    "3. db.collection.find({}, {\"id\" : 1, \"password\" : 1, \"_id\" : 0}) -> SELECT id, password FROM TABLE\n",
    "4. db.collection.find({\"id\" : \"test\"}) -> SELECT * FROM TABLE WHERE id = \"test\"\n",
    "5. db.collection.find({\"id\" : \"test\", \"password\" : \"1234\"}) -> SELECT * FROM TABLE WHERE id = \"test\" and password = \"1234\"\n",
    "6. db.collection.find({\"id\" : \"test\"}, {\"password\" : \"1234\"}) -> SELECT * FROM TABLE WHERE id = \"test\" or password = \"1234\"\n",
    "7. db.collection.find({\"age\" : { $gt : 25 } }) -> SELECT * FROM TABLE WHERE age > 25\n",
    "8. db.collection.find({\"age\" : { $lt : 25 } }) -> SELECT * FROM TABLE WHERE age < 25\n",
    "9. db.collection.find({\"id\" : { /bc/ } }) -> SELECT * FROM TABLE WHERE id LIKE \"%bc%\"\n",
    "10. db.collection.find().sort({\"id\" : 1}) -> SELECT * FROM TABLE ORDER BY id ASC\n",
    "11. db.collection.find().sort({\"id\" : -1}) -> SELECT * FROM TABLE ORDER BY id DESC\n",
    "12. db.collection.find().limit(10) -> SELECT * FROM TABLE LIMIT 10\n"
   ]
  },
  {
   "cell_type": "markdown",
   "metadata": {},
   "source": []
  }
 ],
 "metadata": {
  "interpreter": {
   "hash": "4433c53beecf9fa27aec6b9e123395b8ea922090ab7244ce3da69a49c8416289"
  },
  "kernelspec": {
   "display_name": "Python 3.9.7 64-bit",
   "language": "python",
   "name": "python3"
  },
  "language_info": {
   "codemirror_mode": {
    "name": "ipython",
    "version": 3
   },
   "file_extension": ".py",
   "mimetype": "text/x-python",
   "name": "python",
   "nbconvert_exporter": "python",
   "pygments_lexer": "ipython3",
   "version": "3.9.7"
  },
  "orig_nbformat": 4
 },
 "nbformat": 4,
 "nbformat_minor": 2
}
