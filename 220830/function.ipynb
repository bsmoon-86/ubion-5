{
 "cells": [
  {
   "cell_type": "code",
   "execution_count": 1,
   "metadata": {},
   "outputs": [
    {
     "name": "stdout",
     "output_type": "stream",
     "text": [
      "1 2 3 4\n"
     ]
    }
   ],
   "source": [
    "def func_1(a, b=2, c=3, d=4):\n",
    "    print(a,b,c,d)\n",
    "\n",
    "func_1(1)"
   ]
  },
  {
   "cell_type": "code",
   "execution_count": 2,
   "metadata": {},
   "outputs": [
    {
     "name": "stdout",
     "output_type": "stream",
     "text": [
      "1 4 3 4\n"
     ]
    }
   ],
   "source": [
    "## 인자의 값은 매개변수의 순서대로 대입이 된다.\n",
    "func_1(1,4)"
   ]
  },
  {
   "cell_type": "code",
   "execution_count": 3,
   "metadata": {},
   "outputs": [
    {
     "name": "stdout",
     "output_type": "stream",
     "text": [
      "1 2 10 4\n"
     ]
    }
   ],
   "source": [
    "## 매개변수 b의 값은 기본값을 사용을 하고 매개변수 c의 값을 변경을 하는 경우\n",
    "func_1(1, c=10)"
   ]
  },
  {
   "cell_type": "markdown",
   "metadata": {},
   "source": [
    "1. 함수를 하나 생성 매개변수 2개(a,b)\n",
    "2. 함수가 하는 행동 (a부터 b까지의 합을 리턴) - for문/while문\n",
    "3. a보다 b가 작은 경우에는 b부터 a까지의 합을 리턴 반대인 경우 a에서 b까지의 \n",
    "합을 구해서 리턴 - 반복문에 조건문까지 설정"
   ]
  },
  {
   "cell_type": "code",
   "execution_count": 8,
   "metadata": {},
   "outputs": [
    {
     "name": "stdout",
     "output_type": "stream",
     "text": [
      "0\n"
     ]
    }
   ],
   "source": [
    "def func_2(a,b):\n",
    "    sum = 0\n",
    "    for i in range(a, b+1, 1):\n",
    "        sum += i\n",
    "    return sum\n",
    "\n",
    "print(func_2(1, 10))"
   ]
  },
  {
   "cell_type": "code",
   "execution_count": 7,
   "metadata": {},
   "outputs": [
    {
     "name": "stdout",
     "output_type": "stream",
     "text": [
      "55\n"
     ]
    }
   ],
   "source": [
    "def func_3(a,b):\n",
    "    sum = 0 \n",
    "    while a <= b:\n",
    "        sum += a\n",
    "        a += 1\n",
    "    return sum\n",
    "\n",
    "print(func_3(1, 10))"
   ]
  },
  {
   "cell_type": "code",
   "execution_count": 9,
   "metadata": {},
   "outputs": [
    {
     "name": "stdout",
     "output_type": "stream",
     "text": [
      "55\n",
      "55\n"
     ]
    }
   ],
   "source": [
    "## a와 b의 값을 비교해서 합계 리턴\n",
    "\n",
    "def func_4(a,b):\n",
    "    sum = 0\n",
    "    if a > b :\n",
    "        for i in range(b, a+1, 1):\n",
    "            sum += i\n",
    "    else:\n",
    "        for i in range(a, b+1, 1):\n",
    "            sum += i\n",
    "    return sum\n",
    "\n",
    "print(func_4(10, 1))\n",
    "print(func_4(1, 10))"
   ]
  },
  {
   "cell_type": "code",
   "execution_count": 10,
   "metadata": {},
   "outputs": [
    {
     "name": "stdout",
     "output_type": "stream",
     "text": [
      "55\n",
      "55\n"
     ]
    }
   ],
   "source": [
    "def func_5(a,b):\n",
    "    sum = 0 \n",
    "    for i in range(min(a, b), max(a, b)+1 , 1):\n",
    "        sum += i\n",
    "    return sum\n",
    "\n",
    "print(func_5(1, 10))\n",
    "print(func_5(10, 1))"
   ]
  },
  {
   "cell_type": "markdown",
   "metadata": {},
   "source": [
    "1. 함수 생성(매개변수 3개 a,b,c)\n",
    "2. c의 값이 '합'이면 a+b\n",
    "3. c의 값이 '차'이면 a-b\n",
    "4. c의 값이 '곱'이면 a*b\n",
    "5. c의 값이 위의 세가지가 포함이 안되면 '연산식이 잘못되었습니다' 리턴"
   ]
  },
  {
   "cell_type": "code",
   "execution_count": 12,
   "metadata": {},
   "outputs": [
    {
     "name": "stdout",
     "output_type": "stream",
     "text": [
      "6\n",
      "-4\n",
      "5\n",
      "연산식이 잘못되었습니다\n"
     ]
    }
   ],
   "source": [
    "def func_6(a,b,c):\n",
    "    if c == \"합\":\n",
    "        result = a+b\n",
    "        # return a+b\n",
    "    elif c == \"차\":\n",
    "        result = a-b\n",
    "        # return a-b\n",
    "    elif c == \"곱\":\n",
    "        result = a*b\n",
    "        # return a*b\n",
    "    else:\n",
    "        result = \"연산식이 잘못되었습니다\"\n",
    "        # return \"연산식이 잘못되었습니다\"\n",
    "    return result\n",
    "\n",
    "print(func_6(1,5,'합'))\n",
    "print(func_6(1,5,'차'))\n",
    "print(func_6(1,5,'곱'))\n",
    "print(func_6(1,5,'나누기'))"
   ]
  },
  {
   "cell_type": "code",
   "execution_count": 13,
   "metadata": {},
   "outputs": [
    {
     "name": "stdout",
     "output_type": "stream",
     "text": [
      "25\n"
     ]
    }
   ],
   "source": [
    "# map함수\n",
    "def func_7(a):\n",
    "    result = a ** 2\n",
    "    return result\n",
    "\n",
    "print(func_7(5))"
   ]
  },
  {
   "cell_type": "code",
   "execution_count": 14,
   "metadata": {},
   "outputs": [
    {
     "name": "stdout",
     "output_type": "stream",
     "text": [
      "[1, 4, 9, 16]\n"
     ]
    }
   ],
   "source": [
    "a = list(map(func_7, [1,2,3,4]))\n",
    "print(a)"
   ]
  },
  {
   "cell_type": "code",
   "execution_count": 16,
   "metadata": {},
   "outputs": [
    {
     "name": "stdout",
     "output_type": "stream",
     "text": [
      "16\n"
     ]
    }
   ],
   "source": [
    "# lambda 함수\n",
    "\n",
    "lamb = lambda x : x**2\n",
    "print(lamb(4))"
   ]
  },
  {
   "cell_type": "code",
   "execution_count": null,
   "metadata": {},
   "outputs": [],
   "source": []
  }
 ],
 "metadata": {
  "kernelspec": {
   "display_name": "Python 3.6.8 64-bit",
   "language": "python",
   "name": "python3"
  },
  "language_info": {
   "codemirror_mode": {
    "name": "ipython",
    "version": 3
   },
   "file_extension": ".py",
   "mimetype": "text/x-python",
   "name": "python",
   "nbconvert_exporter": "python",
   "pygments_lexer": "ipython3",
   "version": "3.6.8"
  },
  "orig_nbformat": 4,
  "vscode": {
   "interpreter": {
    "hash": "187f19b7e1a6c9dce315ccb3b0d07c5b7aeed6681cd1ee8ee772db2198b62651"
   }
  }
 },
 "nbformat": 4,
 "nbformat_minor": 2
}
