{
 "cells": [
  {
   "cell_type": "markdown",
   "metadata": {},
   "source": [
    "### 변수\n",
    "뭔가 데이터를 저장하는 공간의 이름\n",
    "- 변수를 선언할때는 변수명 = 변수에 들어갈 값\n",
    "- 데이터 타입 여러가지 \n",
    "- python 외의 대부분 프로그래밍 언어들은 변수를 지정할때 데이터 타입 적어준다. \n",
    "- python의 경우에는 데이터 타입을 지정하지 않는다."
   ]
  },
  {
   "cell_type": "code",
   "execution_count": 1,
   "metadata": {},
   "outputs": [
    {
     "name": "stdout",
     "output_type": "stream",
     "text": [
      "<class 'str'>\n",
      "<class 'int'>\n"
     ]
    }
   ],
   "source": [
    "## 데이터의 타입들은 python에서 알아서 지정\n",
    "a =  \"test\"\n",
    "b = 1234\n",
    "print(type(a))\n",
    "print(type(b))"
   ]
  },
  {
   "cell_type": "code",
   "execution_count": 2,
   "metadata": {},
   "outputs": [
    {
     "name": "stdout",
     "output_type": "stream",
     "text": [
      "test\n",
      "1234\n"
     ]
    }
   ],
   "source": [
    "a = \"test\"\n",
    "print(a)\n",
    "a = 1234\n",
    "print(a)"
   ]
  },
  {
   "cell_type": "markdown",
   "metadata": {},
   "source": [
    "## 연산자\n",
    "일반적으로 사칙연산 \n",
    "- +: 더하기\n",
    "- -: 빼기\n",
    "- *: 곱하기\n",
    "- /: 나누기\n",
    "- //: 몫\n",
    "- %: 나머지"
   ]
  },
  {
   "cell_type": "code",
   "execution_count": 3,
   "metadata": {},
   "outputs": [
    {
     "name": "stdout",
     "output_type": "stream",
     "text": [
      "13 7 30 3.3333333333333335 3 1\n"
     ]
    }
   ],
   "source": [
    "x = 10\n",
    "y = 3\n",
    "print(x+y, x-y, x*y, x/y, x//y, x%y)"
   ]
  },
  {
   "cell_type": "code",
   "execution_count": 4,
   "metadata": {},
   "outputs": [
    {
     "name": "stdout",
     "output_type": "stream",
     "text": [
      "13\n"
     ]
    }
   ],
   "source": [
    "## 대입 연산자\n",
    "## +=, -=, *=, /=, //=, %=\n",
    "## a += b -> a = a + b\n",
    "x += y\n",
    "print(x)"
   ]
  },
  {
   "cell_type": "markdown",
   "metadata": {},
   "source": [
    "### 비교 연산자\n",
    "두개의 값을 비교하여 참/거짓의 형태로 출력\n",
    "- 주로 사용이 되는 곳은 조건문, 반복문에서 사용된다. "
   ]
  },
  {
   "cell_type": "code",
   "execution_count": 5,
   "metadata": {},
   "outputs": [
    {
     "name": "stdout",
     "output_type": "stream",
     "text": [
      "False\n",
      "True\n"
     ]
    }
   ],
   "source": [
    "print(x == y) #x와 y가 같다.\n",
    "print(x != y) #x와 y가 같지 않다.\n",
    "\n",
    "## > , < ,  >= , <="
   ]
  },
  {
   "cell_type": "markdown",
   "metadata": {},
   "source": [
    "- and : 두 가지의 값이 참이면 참 그 외에는 거짓의 형태로 출력 (&)\n",
    "- or : 두 가지의 값 중에 하나라도 참이면 참을 출력 (|)\n",
    "- not : 참은 거짓으로 거짓은 참으로 출력 (~, !)"
   ]
  },
  {
   "cell_type": "markdown",
   "metadata": {},
   "source": [
    "### 조건문 (if문)\n",
    "1. 조건에 맞춰서 컴퓨터에게 지시의 내리기위한 기본적인 방법\n",
    "2. 조건식이 참인 경우에 실행 할 코드를 작성 \n",
    "3. 조건식이 거짓인 경우에 실행 할 코드를 작성 \n",
    "4. 실행할 코드들은 python에서는 들여쓰기를 이용하여 표시"
   ]
  },
  {
   "cell_type": "code",
   "execution_count": 14,
   "metadata": {},
   "outputs": [
    {
     "name": "stdout",
     "output_type": "stream",
     "text": [
      "a는 5보다 크다\n"
     ]
    }
   ],
   "source": [
    "a = 10\n",
    "\n",
    "if a > 5:\n",
    "    print(\"a는 5보다 크다\")\n",
    "else :\n",
    "    print(\"a는 5보다 작거나 같다.\")"
   ]
  },
  {
   "cell_type": "markdown",
   "metadata": {},
   "source": [
    "### 연습문제 \n",
    "1. int(input()) 함수를 이용해서 유저에게서 입력 값을 받아오는 변수\n",
    "2. 유저가 입력한 데이터가 90 이상이면 'A'출력\n",
    "3. 80이상이면 'B' 출력\n",
    "4. 70이상이면 'C' 출력\n",
    "5. 그 외의에는 'F' 출력"
   ]
  },
  {
   "cell_type": "code",
   "execution_count": 17,
   "metadata": {},
   "outputs": [
    {
     "name": "stdout",
     "output_type": "stream",
     "text": [
      "C\n"
     ]
    }
   ],
   "source": [
    "score = int(input(\"점수를 입력하시오 : \"))\n",
    "result = \"\"\n",
    "\n",
    "if score >= 90:\n",
    "    # print(\"A\")\n",
    "    result = \"A\"\n",
    "elif score >= 80:\n",
    "    # print(\"B\")\n",
    "    result = \"B\"\n",
    "elif score >= 70:\n",
    "    # print(\"C\")\n",
    "    result = \"C\"\n",
    "else :\n",
    "    # print(\"F\")\n",
    "    result = \"F\"\n",
    "\n",
    "print(result)"
   ]
  },
  {
   "cell_type": "markdown",
   "metadata": {},
   "source": [
    "### 반복문\n",
    "1. for문\n",
    "- for 변수명 in list형태의 데이터(range(시작값, 종료값, 증가값))\n",
    "2. while문\n",
    "- 초기값을 지정\n",
    "- while 조건식\n",
    "- while문의 조건식이 참인 경우에 초기값을 증가 시켜서 조건식이 거짓이 될때까지 반복"
   ]
  },
  {
   "cell_type": "code",
   "execution_count": 20,
   "metadata": {},
   "outputs": [
    {
     "name": "stdout",
     "output_type": "stream",
     "text": [
      "1 , 2 , 3 , 4 , 5 , 6 , 7 , 8 , 9 , "
     ]
    }
   ],
   "source": [
    "for i in range(1, 10, 1):\n",
    "    print(i, end=\" , \")"
   ]
  },
  {
   "cell_type": "code",
   "execution_count": 21,
   "metadata": {},
   "outputs": [
    {
     "name": "stdout",
     "output_type": "stream",
     "text": [
      "A , B , C , D , "
     ]
    }
   ],
   "source": [
    "list = [\"A\", \"B\", \"C\", \"D\"]\n",
    "for i in list:\n",
    "    print(i, end= \" , \")"
   ]
  },
  {
   "cell_type": "code",
   "execution_count": 22,
   "metadata": {},
   "outputs": [
    {
     "name": "stdout",
     "output_type": "stream",
     "text": [
      "55\n"
     ]
    }
   ],
   "source": [
    "##1부터 10까지의 합을 구하라\n",
    "\n",
    "# for문\n",
    "\n",
    "sum = 0 \n",
    "for i in range(1, 11, 1):\n",
    "    sum += i\n",
    "print(sum)"
   ]
  },
  {
   "cell_type": "code",
   "execution_count": 24,
   "metadata": {},
   "outputs": [
    {
     "name": "stdout",
     "output_type": "stream",
     "text": [
      "65\n"
     ]
    }
   ],
   "source": [
    "# while문\n",
    "i = 1\n",
    "sum = 0\n",
    "\n",
    "while i <= 10:\n",
    "    sum += i\n",
    "    i += 1\n",
    "\n",
    "print(sum)"
   ]
  },
  {
   "cell_type": "code",
   "execution_count": 27,
   "metadata": {},
   "outputs": [
    {
     "name": "stdout",
     "output_type": "stream",
     "text": [
      "A\n",
      "B\n",
      "C\n",
      "D\n"
     ]
    }
   ],
   "source": [
    "## while문을 이용해서 list 형태의 데이터의 값을 하나씩 출력을 하는 방법\n",
    "\n",
    "list = [\"A\", \"B\", \"C\", \"D\"]\n",
    "\n",
    "i = 0\n",
    "cnt = len(list) # 4\n",
    "\n",
    "while i < cnt:\n",
    "    print(list[i])\n",
    "    i += 1\n",
    "\n"
   ]
  },
  {
   "cell_type": "markdown",
   "metadata": {},
   "source": [
    "1. continue\n",
    "- 반복문으로 돌아간다. \n",
    "- continue에서는 밑에 남아있는 코드를 실행시키지 않고 반복문으로 돌아간다.  \n",
    "2. break\n",
    "- 반복문을 종료한다."
   ]
  },
  {
   "cell_type": "code",
   "execution_count": 28,
   "metadata": {},
   "outputs": [
    {
     "name": "stdout",
     "output_type": "stream",
     "text": [
      "10 , 11 , 12 , 13 , 14 , 15 , "
     ]
    }
   ],
   "source": [
    "for i in range(1, 100, 1):\n",
    "    if i < 10:\n",
    "        continue\n",
    "    elif i > 15:\n",
    "        break\n",
    "    \n",
    "    print(i, end=\" , \")"
   ]
  },
  {
   "cell_type": "code",
   "execution_count": 29,
   "metadata": {},
   "outputs": [
    {
     "name": "stdout",
     "output_type": "stream",
     "text": [
      "735\n"
     ]
    }
   ],
   "source": [
    "## 반복문을 이용해서 1-100까지 반복\n",
    "## 25부터 45까지의 합계를 출력\n",
    "\n",
    "# case 1\n",
    "sum = 0\n",
    "\n",
    "for i in range(100):\n",
    "    if i <= 24:\n",
    "        continue\n",
    "    elif i > 45:\n",
    "        break\n",
    "    sum += i\n",
    "print(sum)"
   ]
  },
  {
   "cell_type": "code",
   "execution_count": 33,
   "metadata": {},
   "outputs": [
    {
     "name": "stdout",
     "output_type": "stream",
     "text": [
      "735\n"
     ]
    }
   ],
   "source": [
    "# while 문\n",
    "i = 1 \n",
    "sum = 0\n",
    "\n",
    "while i < 100:\n",
    "    if i < 25:\n",
    "        i += 1\n",
    "        continue\n",
    "    elif i > 45:\n",
    "        break\n",
    "    sum += i\n",
    "    i += 1\n",
    "print(sum)"
   ]
  },
  {
   "cell_type": "code",
   "execution_count": 34,
   "metadata": {},
   "outputs": [
    {
     "name": "stdout",
     "output_type": "stream",
     "text": [
      "735\n"
     ]
    }
   ],
   "source": [
    "sum = 0\n",
    "for i in range(1, 100, 1):\n",
    "    if i >=25 and i <= 45:\n",
    "        sum += i\n",
    "    elif i > 45:\n",
    "        break\n",
    "print(sum)"
   ]
  },
  {
   "cell_type": "markdown",
   "metadata": {},
   "source": [
    "### 함수\n",
    "1. 변수는 데이터의값을 가진 데이터의 공간\n",
    "2. 함수는 데이터의 값이 아니라 입력받은 데이터를 가지고 뭔가 행동을 하여 결과값을 돌려주는 코드\n",
    "3. def 함수명 (매개변수)\n",
    "4. 함수를 호출할때는  함수명( 인자 )\n",
    "5. 일반적으로는 매개변수의 개수와 인자의 개수가 동일해야 한다. "
   ]
  },
  {
   "cell_type": "code",
   "execution_count": 35,
   "metadata": {},
   "outputs": [
    {
     "name": "stdout",
     "output_type": "stream",
     "text": [
      "Hello World\n"
     ]
    }
   ],
   "source": [
    "## 매개변수가 존재하지 않는 함수\n",
    "def func_1():\n",
    "    return \"Hello World\"\n",
    "\n",
    "print(func_1())"
   ]
  },
  {
   "cell_type": "code",
   "execution_count": 39,
   "metadata": {},
   "outputs": [
    {
     "name": "stdout",
     "output_type": "stream",
     "text": [
      "625\n",
      "입력 받은 값의 타입이 숫자형이 아닙니다.\n"
     ]
    }
   ],
   "source": [
    "## 매개변수가 존재하는 함수\n",
    "def func_2(x, y):\n",
    "    if type(x) == int and type(y) == int:\n",
    "        result = x ** y\n",
    "    else : \n",
    "        result = \"입력 받은 값의 타입이 숫자형이 아닙니다.\"\n",
    "    return result\n",
    "\n",
    "print(func_2(5,4))\n",
    "print(func_2(\"A\", \"B\"))"
   ]
  },
  {
   "cell_type": "code",
   "execution_count": 41,
   "metadata": {},
   "outputs": [
    {
     "name": "stdout",
     "output_type": "stream",
     "text": [
      "9\n"
     ]
    }
   ],
   "source": [
    "## 매개변수에 기본값이 존재하는 경우\n",
    "def func_3(x, y = 4):\n",
    "    result = x + y\n",
    "    return result\n",
    "\n",
    "print(func_3(5))"
   ]
  },
  {
   "cell_type": "code",
   "execution_count": 47,
   "metadata": {},
   "outputs": [
    {
     "name": "stdout",
     "output_type": "stream",
     "text": [
      "25\n",
      "15\n",
      "15\n",
      "14\n",
      "14\n"
     ]
    }
   ],
   "source": [
    "def func_4(x = 3, y = 2, z = 5):\n",
    "    result = (x + y) * z\n",
    "    return result\n",
    "\n",
    "print(func_4())\n",
    "print(func_4(3,2,3))\n",
    "print(func_4(z = 3))\n",
    "print(func_4(3, 4, 2)) \n",
    "print(func_4(z = 2, y = 4))"
   ]
  },
  {
   "cell_type": "markdown",
   "metadata": {},
   "source": [
    "## 연습문제\n",
    "1. 함수를 생성\n",
    "2. 매개변수 3개 x, y, z\n",
    "3. z의 타입은 bool의 형태\n",
    "4. z가 True면 x + y 리턴\n",
    "5. z가 False면 x - y 리턴\n",
    "6. z의 타입이 bool의 형태가 아니면 'z의 타입은 bool의 형태여야 합니다' 리턴"
   ]
  },
  {
   "cell_type": "code",
   "execution_count": 48,
   "metadata": {},
   "outputs": [
    {
     "name": "stdout",
     "output_type": "stream",
     "text": [
      "5\n",
      "-3\n",
      "z의 타입은 bool의 형태여야 합니다.\n"
     ]
    }
   ],
   "source": [
    "def func_5(x, y, z):\n",
    "    if type(z) == bool:\n",
    "        if z == True:\n",
    "            result = x + y\n",
    "        else :\n",
    "            result = x - y\n",
    "    else : \n",
    "        result = \"z의 타입은 bool의 형태여야 합니다.\"\n",
    "    \n",
    "    return result\n",
    "\n",
    "print(func_5(1,4, True))\n",
    "print(func_5(1,4, False))\n",
    "print(func_5(1, 4, 1))"
   ]
  },
  {
   "cell_type": "markdown",
   "metadata": {},
   "source": [
    "### Class\n",
    "1. 변수, 함수의 집합체\n",
    "2. Class 보통 이름을 대문자로 시작해서 생성\n",
    "3. self라는 매개변수 -> 자기 자신을 뜻 -> Class가 저장되어 있는 공간\n",
    "4. '__init__' 함수 -> Class가 생성이 될때 단 한번만 실행이 되는 함수\n",
    "5. '__init__' 함수는 필요 시에만 작성"
   ]
  },
  {
   "cell_type": "code",
   "execution_count": 49,
   "metadata": {},
   "outputs": [],
   "source": [
    "## Class 선언\n",
    "class Class_1():\n",
    "    def __init__(self):\n",
    "        self.result = \"Class 생성되었습니다.\"\n",
    "\n",
    "    def output(self):\n",
    "        return self.result"
   ]
  },
  {
   "cell_type": "code",
   "execution_count": 50,
   "metadata": {},
   "outputs": [
    {
     "name": "stdout",
     "output_type": "stream",
     "text": [
      "Class 생성되었습니다.\n"
     ]
    }
   ],
   "source": [
    "## Class 생성\n",
    "class_a = Class_1()\n",
    "print(class_a.output()) "
   ]
  },
  {
   "cell_type": "code",
   "execution_count": 51,
   "metadata": {},
   "outputs": [],
   "source": [
    "# 변수와 함수가 존재하는 클래스 선언\n",
    "class Class_2():\n",
    "    def __init__(self, x, y):\n",
    "        self.x = x\n",
    "        self.y = y\n",
    "    def output(self):\n",
    "        self.result = self.x + self.y\n",
    "        return self.result"
   ]
  },
  {
   "cell_type": "code",
   "execution_count": 52,
   "metadata": {},
   "outputs": [
    {
     "name": "stdout",
     "output_type": "stream",
     "text": [
      "9\n",
      "13\n"
     ]
    }
   ],
   "source": [
    "## class_2 생성\n",
    "class_b = Class_2(5, 4)\n",
    "class_c = Class_2(10, 3)\n",
    "\n",
    "print(class_b.output())\n",
    "print(class_c.output())"
   ]
  },
  {
   "cell_type": "markdown",
   "metadata": {},
   "source": [
    "### 연습문제\n",
    "1. Class 선언\n",
    "2. init 함수에는 self를 제외한 2개의 매개변수 x, y\n",
    "3. init 함수를 제외한 2개의 함수를 생성\n",
    "4. 1번 함수에서는 x와 y의 곱을 리턴\n",
    "5. 2번 함수에서는 x와 y의 나누셈을 리턴"
   ]
  },
  {
   "cell_type": "code",
   "execution_count": 53,
   "metadata": {},
   "outputs": [],
   "source": [
    "class Class_3():\n",
    "    def __init__(self, x, y):\n",
    "        self.x = x\n",
    "        self.y = y\n",
    "\n",
    "    def func_1(self):\n",
    "        return self.x * self.y\n",
    "    def func_2(self):\n",
    "        return self.x / self.y"
   ]
  },
  {
   "cell_type": "code",
   "execution_count": 55,
   "metadata": {},
   "outputs": [
    {
     "name": "stdout",
     "output_type": "stream",
     "text": [
      "12\n",
      "3.0\n"
     ]
    }
   ],
   "source": [
    "class_d = Class_3(6, 2)\n",
    "\n",
    "print(class_d.func_1())\n",
    "print(class_d.func_2())"
   ]
  },
  {
   "cell_type": "markdown",
   "metadata": {},
   "source": [
    "### 외부의 라이브러리를 사용하는 방법\n",
    "1. 라이브러리 설치 (pip install 라이브러리명)\n",
    "2. 라이브러리 로드 ( import 라이브러리명 as 별칭 )"
   ]
  },
  {
   "cell_type": "code",
   "execution_count": null,
   "metadata": {},
   "outputs": [],
   "source": [
    "# 라이브러리 설치\n",
    "!pip install pandas"
   ]
  },
  {
   "cell_type": "code",
   "execution_count": 56,
   "metadata": {},
   "outputs": [],
   "source": [
    "# 라이브러리 로드 \n",
    "import pandas as pd"
   ]
  },
  {
   "cell_type": "markdown",
   "metadata": {},
   "source": [
    "### 파일의 경로\n",
    "1. 절대 경로\n",
    "- 절대적인 위치\n",
    "- 누구나 같은 위치로 이동할 수 있는 위치\n",
    "- 예 : url, c:/users/moon/....\n",
    "2. 상대 경로\n",
    "- 상대적인 위치\n",
    "- 현재 작업 중인 디렉토리에서 상위나 하위 아니면 현재 디렉토리 안에 있는 파일을 지정\n",
    "- ./ : 현재 작업중인 디렉토리\n",
    "- ../ : 상위 디렉토리\n",
    "- ./폴더명/ : 하위 폴더\n",
    "- 상위로 2번 이동 : ../../\n",
    "- 하위로 2번 이동 : ./폴더명/폴더명/파일이름\n",
    "- 상위로 1번 이동 하위로 1번 이동 : ../폴더명/"
   ]
  },
  {
   "cell_type": "code",
   "execution_count": 58,
   "metadata": {},
   "outputs": [
    {
     "data": {
      "text/html": [
       "<div>\n",
       "<style scoped>\n",
       "    .dataframe tbody tr th:only-of-type {\n",
       "        vertical-align: middle;\n",
       "    }\n",
       "\n",
       "    .dataframe tbody tr th {\n",
       "        vertical-align: top;\n",
       "    }\n",
       "\n",
       "    .dataframe thead th {\n",
       "        text-align: right;\n",
       "    }\n",
       "</style>\n",
       "<table border=\"1\" class=\"dataframe\">\n",
       "  <thead>\n",
       "    <tr style=\"text-align: right;\">\n",
       "      <th></th>\n",
       "      <th>purchase_date</th>\n",
       "      <th>item_name</th>\n",
       "      <th>item_price</th>\n",
       "      <th>customer_name</th>\n",
       "    </tr>\n",
       "  </thead>\n",
       "  <tbody>\n",
       "    <tr>\n",
       "      <th>0</th>\n",
       "      <td>2019-06-13 18:02</td>\n",
       "      <td>상품A</td>\n",
       "      <td>100.0</td>\n",
       "      <td>김가온</td>\n",
       "    </tr>\n",
       "    <tr>\n",
       "      <th>1</th>\n",
       "      <td>2019-07-13 13:05</td>\n",
       "      <td>상 품 S</td>\n",
       "      <td>NaN</td>\n",
       "      <td>김우찬</td>\n",
       "    </tr>\n",
       "    <tr>\n",
       "      <th>2</th>\n",
       "      <td>2019-05-11 19:42</td>\n",
       "      <td>상 품 a</td>\n",
       "      <td>NaN</td>\n",
       "      <td>김유찬</td>\n",
       "    </tr>\n",
       "    <tr>\n",
       "      <th>3</th>\n",
       "      <td>2019-02-12 23:40</td>\n",
       "      <td>상품Z</td>\n",
       "      <td>2600.0</td>\n",
       "      <td>김재현</td>\n",
       "    </tr>\n",
       "    <tr>\n",
       "      <th>4</th>\n",
       "      <td>2019-04-22 3:09</td>\n",
       "      <td>상품a</td>\n",
       "      <td>NaN</td>\n",
       "      <td>김강현</td>\n",
       "    </tr>\n",
       "    <tr>\n",
       "      <th>...</th>\n",
       "      <td>...</td>\n",
       "      <td>...</td>\n",
       "      <td>...</td>\n",
       "      <td>...</td>\n",
       "    </tr>\n",
       "    <tr>\n",
       "      <th>2994</th>\n",
       "      <td>2019-02-15 2:56</td>\n",
       "      <td>상품Y</td>\n",
       "      <td>2500.0</td>\n",
       "      <td>김정민</td>\n",
       "    </tr>\n",
       "    <tr>\n",
       "      <th>2995</th>\n",
       "      <td>2019-06-22 4:03</td>\n",
       "      <td>상품M</td>\n",
       "      <td>1300.0</td>\n",
       "      <td>김재원</td>\n",
       "    </tr>\n",
       "    <tr>\n",
       "      <th>2996</th>\n",
       "      <td>2019-03-29 11:14</td>\n",
       "      <td>상품Q</td>\n",
       "      <td>NaN</td>\n",
       "      <td>김지율</td>\n",
       "    </tr>\n",
       "    <tr>\n",
       "      <th>2997</th>\n",
       "      <td>2019-07-14 12:56</td>\n",
       "      <td>상품H</td>\n",
       "      <td>NaN</td>\n",
       "      <td>김승주</td>\n",
       "    </tr>\n",
       "    <tr>\n",
       "      <th>2998</th>\n",
       "      <td>2019-07-21 0:31</td>\n",
       "      <td>상품D</td>\n",
       "      <td>400.0</td>\n",
       "      <td>정준기</td>\n",
       "    </tr>\n",
       "  </tbody>\n",
       "</table>\n",
       "<p>2999 rows × 4 columns</p>\n",
       "</div>"
      ],
      "text/plain": [
       "         purchase_date item_name  item_price customer_name\n",
       "0     2019-06-13 18:02       상품A       100.0           김가온\n",
       "1     2019-07-13 13:05     상 품 S         NaN           김우찬\n",
       "2     2019-05-11 19:42     상 품 a         NaN           김유찬\n",
       "3     2019-02-12 23:40       상품Z      2600.0           김재현\n",
       "4      2019-04-22 3:09       상품a         NaN           김강현\n",
       "...                ...       ...         ...           ...\n",
       "2994   2019-02-15 2:56       상품Y      2500.0           김정민\n",
       "2995   2019-06-22 4:03       상품M      1300.0           김재원\n",
       "2996  2019-03-29 11:14       상품Q         NaN           김지율\n",
       "2997  2019-07-14 12:56       상품H         NaN           김승주\n",
       "2998   2019-07-21 0:31       상품D       400.0           정준기\n",
       "\n",
       "[2999 rows x 4 columns]"
      ]
     },
     "execution_count": 58,
     "metadata": {},
     "output_type": "execute_result"
    }
   ],
   "source": [
    "# csv 파일 로드 \n",
    "# pd.read_csv(파일의 경로)\n",
    "df = pd.read_csv(\"../csv/uriage.csv\")\n",
    "\n",
    "#데이터프레임의 형태는 쥬피터 환경에서는 print를 사용하지 않는게 더 깔끔하게 출력\n",
    "df"
   ]
  },
  {
   "cell_type": "code",
   "execution_count": 60,
   "metadata": {},
   "outputs": [],
   "source": [
    "## 대문자로 변환 \n",
    "## upper()라는 함수는 문자열을 기준으로 대문자로 변경\n",
    "## 데이터프레임 -> 문자열화 -> 대문자로 변환\n",
    "\n",
    "# df[\"item_name\"] -> 데이터 형태? -> 스리즈의 형태 -> 문자열화 -> 대문자 변환\n",
    "df[\"item_name\"].str.upper()\n",
    "# 쥬피터에서 출력이 되는 경우 \n",
    "# 데이터를 확인 하는 작업. 데이터의 변화는 X\n",
    "df[\"item_name\"] = df[\"item_name\"].str.upper()"
   ]
  },
  {
   "cell_type": "code",
   "execution_count": 65,
   "metadata": {},
   "outputs": [],
   "source": [
    "# 공백 제거 \n",
    "# 좌측 공백 제거 -> lstrip()\n",
    "# 우측 공백 제거 -> rstrip()\n",
    "# 양쪽 공백 제거 -> strip()\n",
    "# 문자열의 모든 공백 제거 -> replace(\" \", \"\")\n",
    "\n",
    "# case1 -> 문자열화 -> 공백 제거\n",
    "df[\"item_name\"].str.replace(\" \", \"\")\n",
    "\n",
    "# case2 -> apply()함수를 사용하여 각 항목별로 로드하여 replace()\n",
    "df[\"item_name\"].apply(lambda x : x.replace(\" \", \"\"))\n",
    "\n",
    "# case3 -> apply()함수 안에 일반 함수를 사용하는 방법\n",
    "def change(x):\n",
    "    result = x.replace(\" \", \"\")\n",
    "    return result\n",
    "\n",
    "df[\"item_name\"] = df[\"item_name\"].apply(change)"
   ]
  },
  {
   "cell_type": "markdown",
   "metadata": {},
   "source": [
    "### 공백제거, 대문자 변경을 해주는 Class 생성\n",
    "1. init함수에는 파일 경로를 매개변수를 이용하여 값을 받아오는 작업\n",
    "2. 함수 생성 -> 공백 제거, 대문자로 변환 리턴 -> \n",
    "이 함수에서 필요한 매개변수(특정 컬럼)\n",
    "3. 데이터프레임을 리턴"
   ]
  },
  {
   "cell_type": "code",
   "execution_count": 76,
   "metadata": {},
   "outputs": [],
   "source": [
    "class Class_4():\n",
    "    def __init__(self, _path):\n",
    "        self.df = pd.read_csv(_path)\n",
    "    \n",
    "    def change(self, _column):\n",
    "        # 공백제거\n",
    "        self.df[_column] = self.df[_column].str.replace(\" \", \"\")\n",
    "        # 대문자로 변환\n",
    "        self.df[_column] = self.df[_column].str.upper()\n",
    "        return self.df\n",
    "    \n",
    "    def review(self):\n",
    "        return self.df"
   ]
  },
  {
   "cell_type": "code",
   "execution_count": 77,
   "metadata": {},
   "outputs": [],
   "source": [
    "class_df = Class_4(\"../csv/uriage.csv\")"
   ]
  },
  {
   "cell_type": "code",
   "execution_count": null,
   "metadata": {},
   "outputs": [],
   "source": [
    "class_df.review()"
   ]
  },
  {
   "cell_type": "code",
   "execution_count": null,
   "metadata": {},
   "outputs": [],
   "source": [
    "class_df.change(\"item_name\")"
   ]
  },
  {
   "cell_type": "code",
   "execution_count": null,
   "metadata": {},
   "outputs": [],
   "source": [
    "import mod2\n",
    "import imp\n",
    "imp.reload(mod2)"
   ]
  },
  {
   "cell_type": "code",
   "execution_count": 97,
   "metadata": {},
   "outputs": [],
   "source": [
    "class_df_2 = mod2.Class_1(\"../csv/uriage.csv\")"
   ]
  },
  {
   "cell_type": "code",
   "execution_count": null,
   "metadata": {},
   "outputs": [],
   "source": [
    "class_df_2.review()"
   ]
  },
  {
   "cell_type": "code",
   "execution_count": null,
   "metadata": {},
   "outputs": [],
   "source": [
    "class_df_2.change(\"item_name\")"
   ]
  },
  {
   "cell_type": "code",
   "execution_count": null,
   "metadata": {},
   "outputs": [],
   "source": [
    "class_df_2.review().info()"
   ]
  },
  {
   "cell_type": "markdown",
   "metadata": {},
   "source": [
    "### 연습문제\n",
    "1. mod2 모듈에서 클래스 안에 함수 하나 추가 \n",
    "2. 특정 컬럼의 데이터의 타입을 시계열 변경\n",
    "3. 2번째 함수 하나 더 생성\n",
    "4. 파생변수 'year', 'month', 'day'3개 생성 -> 시계열의 데이터의 년, 월, 일 데이터를 삽입"
   ]
  },
  {
   "cell_type": "code",
   "execution_count": null,
   "metadata": {},
   "outputs": [],
   "source": [
    "class_df_2.change_time(\"purchase_date\")"
   ]
  },
  {
   "cell_type": "code",
   "execution_count": null,
   "metadata": {},
   "outputs": [],
   "source": [
    "class_df_2.review().info()"
   ]
  },
  {
   "cell_type": "code",
   "execution_count": null,
   "metadata": {},
   "outputs": [],
   "source": [
    "class_df_2.create_date(\"purchase_date\")"
   ]
  },
  {
   "cell_type": "code",
   "execution_count": 100,
   "metadata": {},
   "outputs": [],
   "source": [
    "class_df_3 = mod2.Class_1(\"../csv/Sales Records.csv\")"
   ]
  },
  {
   "cell_type": "code",
   "execution_count": null,
   "metadata": {},
   "outputs": [],
   "source": [
    "class_df_3.review().info()"
   ]
  },
  {
   "cell_type": "code",
   "execution_count": null,
   "metadata": {},
   "outputs": [],
   "source": [
    "class_df_3.change_time(\"Order Date\")"
   ]
  },
  {
   "cell_type": "code",
   "execution_count": null,
   "metadata": {},
   "outputs": [],
   "source": []
  }
 ],
 "metadata": {
  "kernelspec": {
   "display_name": "Python 3.6.8 64-bit",
   "language": "python",
   "name": "python3"
  },
  "language_info": {
   "codemirror_mode": {
    "name": "ipython",
    "version": 3
   },
   "file_extension": ".py",
   "mimetype": "text/x-python",
   "name": "python",
   "nbconvert_exporter": "python",
   "pygments_lexer": "ipython3",
   "version": "3.6.8"
  },
  "orig_nbformat": 4,
  "vscode": {
   "interpreter": {
    "hash": "187f19b7e1a6c9dce315ccb3b0d07c5b7aeed6681cd1ee8ee772db2198b62651"
   }
  }
 },
 "nbformat": 4,
 "nbformat_minor": 2
}
