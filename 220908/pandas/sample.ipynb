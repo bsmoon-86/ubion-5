{
 "cells": [
  {
   "cell_type": "code",
   "execution_count": 1,
   "metadata": {},
   "outputs": [],
   "source": [
    "##  라이브러리 설치하는 명령어\n",
    "# pip install 라이브러리명\n",
    "# 쥬피터 환경에서 명령어 입력 앞에 ! 붙여서 사용을 하시는게 좋습니다. \n",
    "\n",
    "## 라이브러리 로드\n",
    "# import 라이브러리명 as 별칭\n",
    "# import pandas as pd\n",
    "# from 라이브러리명 import 라이브러리 내부에 있는 함수나 클래스명\n",
    "# from flask import Flask"
   ]
  },
  {
   "cell_type": "code",
   "execution_count": 2,
   "metadata": {},
   "outputs": [],
   "source": [
    "import pandas as pd"
   ]
  },
  {
   "cell_type": "markdown",
   "metadata": {},
   "source": [
    "### pandas\n",
    "1. 컬럼의 이름은 변경하는 방법 \n",
    "- 데이터프레임명.columns -> list 형태로 컬럼을 추출\n",
    "- 데이터프레임명.columns = [\"\",\"\",\"\"] -> 데이터프레임의 컬럼이 변경\n",
    "2. 특정 컬럼을 추출하는 방법\n",
    "- 데이터프레임명[특정 컬럼명] -> data 형태?? -> 스리즈\n",
    "- 스리즈의 형태의 데이터를 list형태로 변환?? -> tolist()\n",
    "3. 2개의 데이터프레임을 단순히 행 결합하는 함수명?? -> concat()\n",
    "4. 2개의 데이터프레임을 결합 특정한 조건을 가지고 결합하는 함수명 ?? -> merge()\n",
    "5. 특정 컬럼의 기준으로 정렬을 바꿔주는 함수?? -> \n",
    "- sort_values(기준이 되는 컬럼명, ascending=bool, inaplce=bool)\n",
    "6. 정렬 후에 인덱스의 값을 초기화하여 재지정 하는 함수\n",
    "- reset_index()\n",
    "- 기존의 인덱스 삭제 여부 : drop=bool\n",
    "- 기준이 되는 데이터를 수정 여부 : inplace=bool\n",
    "7. 결측치의 존재 유무 판단하여 bool의 형태로 출력하는 함수명?? \n",
    "- isna()\n",
    "- is함수는 어떠한 값의 0존재 유무 판단을 하는 함수\n",
    "8. 특정 컬럼의 값을 기준으로 그룹화 하는 함수명??\n",
    "- groupby()\n",
    "- sum(), mean(), min(), max()\n",
    "- 합, 평균, 최소, 최대 값들은 한줄로 표현하여 데이터프레임 형태\n",
    "- ex) 데이터프레임.groupby(\"특정 컬럼\").agg(['sum', 'mean', 'min', 'max'])\n",
    "9. 데이터프레임의 통계요약 정보 출력하는 함수명 \n",
    "- describe()\n",
    "10. 데이터간의 차이를 구하는 함수명 \n",
    "- shift(n)\n",
    "    - n만큼의 행을 이동한 데이터의 값\n",
    "    - ex) 데이터프레임명[\"컬럼명\"] - 데이터프레임명[\"컬럼명\"].shift()\n",
    "- diff()\n",
    "    - 현재의 행의 데이터와 이동한 행의 데이터의 차이\n",
    "    - ex) 데이터프레임명[\"컬럼명\"].diff()\n",
    "11. apply()\n",
    "- 데이터프레임에 있는 각 원소들을 apply(함수) 함수에 대입하여 결과값 출력\n",
    "- ex) apply(일반 함수), apply(lambda함수)\n",
    "12. lambda함수\n",
    "- 일반 함수와의 차이 -> 일반 함수는 함수를 선언 후 호출, lambda 함수 선언과 동시에 호출\n",
    "- 간단한 작업을 하는 함수에서는 lambda 함수를 이용하여 자주 사용\n",
    "13. map함수\n",
    "- list에 있는 원소들을 함수에 대입 결과 출력"
   ]
  },
  {
   "cell_type": "code",
   "execution_count": 6,
   "metadata": {},
   "outputs": [
    {
     "name": "stdout",
     "output_type": "stream",
     "text": [
      "[2, 3, 4, 5]\n"
     ]
    }
   ],
   "source": [
    "def func_1(x):\n",
    "    result = x + 1\n",
    "    return result\n",
    "\n",
    "print(list(map(func_1, [1,2,3,4])))"
   ]
  },
  {
   "cell_type": "code",
   "execution_count": 4,
   "metadata": {},
   "outputs": [
    {
     "data": {
      "text/plain": [
       "16"
      ]
     },
     "execution_count": 4,
     "metadata": {},
     "output_type": "execute_result"
    }
   ],
   "source": [
    "lamb = lambda x : x**2\n",
    "lamb(4)\n"
   ]
  },
  {
   "cell_type": "code",
   "execution_count": null,
   "metadata": {},
   "outputs": [],
   "source": []
  }
 ],
 "metadata": {
  "kernelspec": {
   "display_name": "Python 3.6.8 64-bit",
   "language": "python",
   "name": "python3"
  },
  "language_info": {
   "codemirror_mode": {
    "name": "ipython",
    "version": 3
   },
   "file_extension": ".py",
   "mimetype": "text/x-python",
   "name": "python",
   "nbconvert_exporter": "python",
   "pygments_lexer": "ipython3",
   "version": "3.6.8"
  },
  "orig_nbformat": 4,
  "vscode": {
   "interpreter": {
    "hash": "187f19b7e1a6c9dce315ccb3b0d07c5b7aeed6681cd1ee8ee772db2198b62651"
   }
  }
 },
 "nbformat": 4,
 "nbformat_minor": 2
}
